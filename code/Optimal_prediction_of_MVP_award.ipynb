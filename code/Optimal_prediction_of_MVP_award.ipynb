{
  "nbformat": 4,
  "nbformat_minor": 0,
  "metadata": {
    "colab": {
      "provenance": [],
      "gpuType": "T4",
      "toc_visible": true
    },
    "kernelspec": {
      "name": "python3",
      "display_name": "Python 3"
    },
    "language_info": {
      "name": "python"
    },
    "gpuClass": "standard"
  },
  "cells": [
    {
      "cell_type": "markdown",
      "source": [
        "#Import data"
      ],
      "metadata": {
        "id": "7-VxQenTODvZ"
      }
    },
    {
      "cell_type": "markdown",
      "source": [
        "Первым делом подключим датасет, который содержит в себе данные с [basketball-reference.com](https://www.basketball-reference.com/). В нем есть 4 типа статистики - статистика регулярного сезона, статистика расширенного сезона, статистика команды и статистика голосования за MVP.\n"
      ],
      "metadata": {
        "id": "nKDx3QuVOx-l"
      }
    },
    {
      "cell_type": "code",
      "source": [
        "import pandas as pd\n",
        "import numpy as np\n",
        "import matplotlib.pyplot as plt\n",
        "\n",
        "df = pd.read_csv('/content/NBA_Dataset.csv')\n",
        "df = df.fillna(0)"
      ],
      "metadata": {
        "id": "PgZ7hR2lOEKz"
      },
      "execution_count": null,
      "outputs": []
    },
    {
      "cell_type": "markdown",
      "source": [
        "# Feature Engineering and Data Preprocessing\n"
      ],
      "metadata": {
        "id": "Yguz7TRfPf_B"
      }
    },
    {
      "cell_type": "markdown",
      "source": [
        "Теперь надо приступить к feature engineering. Также нужно добавить к данным логическое значение, которое будет обозначать, какой игрок получил награду MVP в этом году. Такое значение будет у одного игрока, получившего награду. У остальных его не будет. Это позволит легко проверять, был ли наш прогноз точным."
      ],
      "metadata": {
        "id": "mNyaCL4kPzb0"
      }
    },
    {
      "cell_type": "code",
      "source": [
        "#Добавляем столбец, сообщающий нам, кто был MVP с логическим значением\n",
        "mvps = df.groupby(by = \"season\").max('award_share')\n",
        "mvps[\"was_mvp\"] = True\n",
        "df = df.merge(mvps[[\"award_share\", \"was_mvp\"]], on = [\"season\", \"award_share\"], how = \"left\")\n",
        "df[\"was_mvp\"] = df[\"was_mvp\"].fillna(value = False)"
      ],
      "metadata": {
        "id": "gSDqUVrmPjvx"
      },
      "execution_count": null,
      "outputs": []
    },
    {
      "cell_type": "markdown",
      "source": [
        "Теперь нужно удалить признаки, которые не добавляют никакой ценности. Некоторые данные могут быть получены из комбинации других данных. Например, fg_per_g может быть получено произведением fga_per_g на fg_pct. То есть fg_per_g можно удалить из нашего датасета."
      ],
      "metadata": {
        "id": "VKf2_vceQ-rT"
      }
    },
    {
      "cell_type": "code",
      "source": [
        "#график, доказывающий пример выше\n",
        "plt.scatter(df[\"fg_per_g\"], df[\"fga_per_g\"]*df[\"fg_pct\"])\n",
        "plt.xlabel(\"fg_per_g\")\n",
        "plt.ylabel(\"fga_per_g * fg_pct\")\n",
        "plt.title(\"Repetative Stats\")\n",
        "plt.show()\n",
        "np.corrcoef(df[\"fg_per_g\"], df[\"fga_per_g\"]*df[\"fg_pct\"])"
      ],
      "metadata": {
        "colab": {
          "base_uri": "https://localhost:8080/",
          "height": 507
        },
        "id": "n6s2N5LYRsfj",
        "outputId": "03af2cd3-00b6-49fd-ff8a-cc30597f89c5"
      },
      "execution_count": null,
      "outputs": [
        {
          "output_type": "display_data",
          "data": {
            "text/plain": [
              "<Figure size 640x480 with 1 Axes>"
            ],
            "image/png": "[encoded data removed]"
          },
          "metadata": {}
        },
        {
          "output_type": "execute_result",
          "data": {
            "text/plain": [
              "array([[1.        , 0.99990689],\n",
              "       [0.99990689, 1.        ]])"
            ]
          },
          "metadata": {},
          "execution_count": 3
        }
      ]
    },
    {
      "cell_type": "code",
      "source": [
        "df = df.drop(columns = [\"fg_per_g\", \"fg3_per_g\", \"fg2_per_g\", \"ft_per_g\", \"trb_per_g\"], axis = 1)"
      ],
      "metadata": {
        "id": "OlcN_3xARx5L"
      },
      "execution_count": null,
      "outputs": []
    },
    {
      "cell_type": "markdown",
      "source": [
        "##Representativeness heuristic"
      ],
      "metadata": {
        "id": "dLubKHXjSkx5"
      }
    },
    {
      "cell_type": "markdown",
      "source": [
        "Удалим все сезоны, которые были до появления награды MVP"
      ],
      "metadata": {
        "id": "bcRMvCmyS3R5"
      }
    },
    {
      "cell_type": "code",
      "source": [
        "df = df[df[\"season\"] > 1981]"
      ],
      "metadata": {
        "id": "SRxTJdDjSmdY"
      },
      "execution_count": null,
      "outputs": []
    },
    {
      "cell_type": "markdown",
      "source": [
        "Теперь разделим данные на train и test"
      ],
      "metadata": {
        "id": "6el1SiO9TrO9"
      }
    },
    {
      "cell_type": "code",
      "source": [
        "dfTestSet = df[df[\"season\"] == 2022]\n",
        "df =  df[df[\"season\"] < 2022]"
      ],
      "metadata": {
        "id": "okKj5Z2sT2Il"
      },
      "execution_count": null,
      "outputs": []
    },
    {
      "cell_type": "markdown",
      "source": [
        "#Imbalanced data"
      ],
      "metadata": {
        "id": "8QXDRX28T9E3"
      }
    },
    {
      "cell_type": "markdown",
      "source": [
        "Выполнена простая очистка данных, но теперь нужно бороться с несбалансированными данными. В нашем случае количество игроков, получивших голоса MVP, гораздо меньше, чем количество игроков, не получивших голосов. Таким образом, лучше сбалансировать данные, чтобы наша модель действительно изучала взаимосвязь статистики игрока с получением голосов MVP.\n",
        "\n",
        "Существует много способов сбалансировать несбалансированный набор данных, но один из лучших способов — сначала выполнить недостаточную выборку для класса большинства, а затем использовать SMOTE для синтетического создания новых выборок в классе меньшинства."
      ],
      "metadata": {
        "id": "ZkKgwKQ3T_I7"
      }
    },
    {
      "cell_type": "code",
      "source": [
        "from collections import Counter\n",
        "\n",
        "classes = df[\"award_share\"] > 0\n",
        "infoDf = df[[\"player\", \"pos\", \"team_id\"]]\n",
        "dataDf = df.drop([\"player\", \"pos\", \"team_id\"], axis = 1)\n",
        "\n",
        "def func(pct, allvals):\n",
        "    absolute = int(np.round(pct/100.*np.sum(allvals)))\n",
        "    return \"{:.1f}%\\n({:d})\".format(pct, absolute)\n",
        "\n",
        "fig, ax = plt.subplots()\n",
        "\n",
        "wedges, texts, autotexts = ax.pie(classes.value_counts(), \n",
        "       autopct = lambda pct: func(pct, classes.value_counts()),\n",
        "       pctdistance = 1.3)\n",
        "\n",
        "ax.set_title(\"NBA Players who Recieved MVP Votes\")\n",
        "ax.legend([\"No MVP Votes\", \"MVP Votes\"],\n",
        "          title=\"Votes\",\n",
        "          loc = 'center right',\n",
        "           bbox_to_anchor=(1.25, 0.85))\n",
        "\n",
        "plt.show()"
      ],
      "metadata": {
        "colab": {
          "base_uri": "https://localhost:8080/",
          "height": 428
        },
        "id": "00A8GQepUbot",
        "outputId": "045103a7-6f42-4af3-9d27-9937ff791acf"
      },
      "execution_count": null,
      "outputs": [
        {
          "output_type": "display_data",
          "data": {
            "text/plain": [
              "<Figure size 640x480 with 1 Axes>"
            ],
            "image/png": "[encoded data removed]"
          },
          "metadata": {}
        }
      ]
    },
    {
      "cell_type": "markdown",
      "source": [
        "Один из наиболее распространенных методов недостаточной выборки называется случайной недостаточной выборкой. Здесь мы случайным образом удаляем подмножество данных из класса большинства. Хотя этот процесс может быть эффективным, его главный недостаток заключается в том, что он может удалить игроков, чья статистика может иметь значение для модели, в то время как другие игроки, имеющие избыточную статистику, останутся без информации.\n",
        "\n",
        "Таким образом, лучший способ недооценить класс большинства — это удалить игроков, у которых очень низкий шанс получить голоса. Например, мы можем удалить игроков, которые набирают очень мало очков, игроков, которые начинают очень мало игр, и игроков, которые играют очень мало минут.\n",
        "\n",
        "Можно сделать вывод, что игрок должен начать достаточное количество игр в течение сезона, чтобы считаться MVP. Наименьшее количество игр, начатых для игрока, чтобы получить награду MVP, было 49 игр Карла Мэлоуна в сезоне 1998-1999, который также был одной из самых спорных гонок MVP в истории НБА. Посмотрев на распределение игр, начатых игроками, получившими голоса MVP, по сравнению с теми, кто этого не сделал, можно с уверенностью предположить, что для участия в голосовании за MVP необходимо начать как минимум 20 игр."
      ],
      "metadata": {
        "id": "yxICo_CEYkFz"
      }
    },
    {
      "cell_type": "code",
      "source": [
        "mvpShares = df[df[\"award_share\"] > 0]\n",
        "nonMvpShares = df[df[\"award_share\"] == 0]"
      ],
      "metadata": {
        "id": "P5G3GukeYsjx"
      },
      "execution_count": null,
      "outputs": []
    },
    {
      "cell_type": "code",
      "source": [
        "plt.hist(mvpShares[\"gs\"], bins = 20, alpha = 0.7, density=True, label = \"MVP Votes\")\n",
        "plt.hist(nonMvpShares[\"gs\"], bins = 20, alpha = 0.7, density=True, label = \"No MVP Votes\")\n",
        "plt.ylabel(\"Proportion\")\n",
        "plt.xlabel(\"Games Started\")\n",
        "plt.title(\"\"\"Distribution of Games Started of Players \n",
        "          who had MVP Votes Versus No MVP Votes\n",
        "          \"\"\")\n",
        "plt.legend()\n",
        "plt.show()"
      ],
      "metadata": {
        "colab": {
          "base_uri": "https://localhost:8080/",
          "height": 513
        },
        "id": "ox4_N0UpY6LC",
        "outputId": "a7296a79-dbe5-4789-e36a-a64b16d1a044"
      },
      "execution_count": null,
      "outputs": [
        {
          "output_type": "display_data",
          "data": {
            "text/plain": [
              "<Figure size 640x480 with 1 Axes>"
            ],
            "image/png": "[encoded data removed]"
          },
          "metadata": {}
        }
      ]
    },
    {
      "cell_type": "code",
      "source": [
        "mvpShares[mvpShares[\"gs\"] < 20][[\"season\", \"player\", \"g\", \"gs\", \"pts_per_g\", 'award_share']].reset_index(drop = True)"
      ],
      "metadata": {
        "colab": {
          "base_uri": "https://localhost:8080/",
          "height": 300
        },
        "id": "NCEO-Z5ZZRi_",
        "outputId": "3f521d0e-758b-4255-f2ef-20698c9864ec"
      },
      "execution_count": null,
      "outputs": [
        {
          "output_type": "execute_result",
          "data": {
            "text/plain": [
              "   season             player   g  gs  pts_per_g  award_share\n",
              "0    1982     Michael Cooper  76  14       11.9        0.004\n",
              "1    1991       Kevin McHale  68  10       18.4        0.001\n",
              "2    1992    Detlef Schrempf  80   4       17.3        0.001\n",
              "3    1995     Michael Jordan  17  17       26.9        0.011\n",
              "4    1996      Magic Johnson  32   9       14.6        0.007\n",
              "5    1999  Darrell Armstrong  50  15       13.8        0.002\n",
              "6    1999    Rasheed Wallace  49  18       12.8        0.001\n",
              "7    2021       Derrick Rose  50   3       14.7        0.010"
            ],
            "text/html": [
              "\n",
              "  <div id=\"df-80b7a865-cb59-4a5b-bd9d-0d1ae7aa4902\">\n",
              "    <div class=\"colab-df-container\">\n",
              "      <div>\n",
              "<style scoped>\n",
              "    .dataframe tbody tr th:only-of-type {\n",
              "        vertical-align: middle;\n",
              "    }\n",
              "\n",
              "    .dataframe tbody tr th {\n",
              "        vertical-align: top;\n",
              "    }\n",
              "\n",
              "    .dataframe thead th {\n",
              "        text-align: right;\n",
              "    }\n",
              "</style>\n",
              "<table border=\"1\" class=\"dataframe\">\n",
              "  <thead>\n",
              "    <tr style=\"text-align: right;\">\n",
              "      <th></th>\n",
              "      <th>season</th>\n",
              "      <th>player</th>\n",
              "      <th>g</th>\n",
              "      <th>gs</th>\n",
              "      <th>pts_per_g</th>\n",
              "      <th>award_share</th>\n",
              "    </tr>\n",
              "  </thead>\n",
              "  <tbody>\n",
              "    <tr>\n",
              "      <th>0</th>\n",
              "      <td>1982</td>\n",
              "      <td>Michael Cooper</td>\n",
              "      <td>76</td>\n",
              "      <td>14</td>\n",
              "      <td>11.9</td>\n",
              "      <td>0.004</td>\n",
              "    </tr>\n",
              "    <tr>\n",
              "      <th>1</th>\n",
              "      <td>1991</td>\n",
              "      <td>Kevin McHale</td>\n",
              "      <td>68</td>\n",
              "      <td>10</td>\n",
              "      <td>18.4</td>\n",
              "      <td>0.001</td>\n",
              "    </tr>\n",
              "    <tr>\n",
              "      <th>2</th>\n",
              "      <td>1992</td>\n",
              "      <td>Detlef Schrempf</td>\n",
              "      <td>80</td>\n",
              "      <td>4</td>\n",
              "      <td>17.3</td>\n",
              "      <td>0.001</td>\n",
              "    </tr>\n",
              "    <tr>\n",
              "      <th>3</th>\n",
              "      <td>1995</td>\n",
              "      <td>Michael Jordan</td>\n",
              "      <td>17</td>\n",
              "      <td>17</td>\n",
              "      <td>26.9</td>\n",
              "      <td>0.011</td>\n",
              "    </tr>\n",
              "    <tr>\n",
              "      <th>4</th>\n",
              "      <td>1996</td>\n",
              "      <td>Magic Johnson</td>\n",
              "      <td>32</td>\n",
              "      <td>9</td>\n",
              "      <td>14.6</td>\n",
              "      <td>0.007</td>\n",
              "    </tr>\n",
              "    <tr>\n",
              "      <th>5</th>\n",
              "      <td>1999</td>\n",
              "      <td>Darrell Armstrong</td>\n",
              "      <td>50</td>\n",
              "      <td>15</td>\n",
              "      <td>13.8</td>\n",
              "      <td>0.002</td>\n",
              "    </tr>\n",
              "    <tr>\n",
              "      <th>6</th>\n",
              "      <td>1999</td>\n",
              "      <td>Rasheed Wallace</td>\n",
              "      <td>49</td>\n",
              "      <td>18</td>\n",
              "      <td>12.8</td>\n",
              "      <td>0.001</td>\n",
              "    </tr>\n",
              "    <tr>\n",
              "      <th>7</th>\n",
              "      <td>2021</td>\n",
              "      <td>Derrick Rose</td>\n",
              "      <td>50</td>\n",
              "      <td>3</td>\n",
              "      <td>14.7</td>\n",
              "      <td>0.010</td>\n",
              "    </tr>\n",
              "  </tbody>\n",
              "</table>\n",
              "</div>\n",
              "      <button class=\"colab-df-convert\" onclick=\"convertToInteractive('df-80b7a865-cb59-4a5b-bd9d-0d1ae7aa4902')\"\n",
              "              title=\"Convert this dataframe to an interactive table.\"\n",
              "              style=\"display:none;\">\n",
              "        \n",
              "  <svg xmlns=\"http://www.w3.org/2000/svg\" height=\"24px\"viewBox=\"0 0 24 24\"\n",
              "       width=\"24px\">\n",
              "    <path d=\"M0 0h24v24H0V0z\" fill=\"none\"/>\n",
              "    <path d=\"M18.56 5.44l.94 2.06.94-2.06 2.06-.94-2.06-.94-.94-2.06-.94 2.06-2.06.94zm-11 1L8.5 8.5l.94-2.06 2.06-.94-2.06-.94L8.5 2.5l-.94 2.06-2.06.94zm10 10l.94 2.06.94-2.06 2.06-.94-2.06-.94-.94-2.06-.94 2.06-2.06.94z\"/><path d=\"M17.41 7.96l-1.37-1.37c-.4-.4-.92-.59-1.43-.59-.52 0-1.04.2-1.43.59L10.3 9.45l-7.72 7.72c-.78.78-.78 2.05 0 2.83L4 21.41c.39.39.9.59 1.41.59.51 0 1.02-.2 1.41-.59l7.78-7.78 2.81-2.81c.8-.78.8-2.07 0-2.86zM5.41 20L4 18.59l7.72-7.72 1.47 1.35L5.41 20z\"/>\n",
              "  </svg>\n",
              "      </button>\n",
              "      \n",
              "  <style>\n",
              "    .colab-df-container {\n",
              "      display:flex;\n",
              "      flex-wrap:wrap;\n",
              "      gap: 12px;\n",
              "    }\n",
              "\n",
              "    .colab-df-convert {\n",
              "      background-color: #E8F0FE;\n",
              "      border: none;\n",
              "      border-radius: 50%;\n",
              "      cursor: pointer;\n",
              "      display: none;\n",
              "      fill: #1967D2;\n",
              "      height: 32px;\n",
              "      padding: 0 0 0 0;\n",
              "      width: 32px;\n",
              "    }\n",
              "\n",
              "    .colab-df-convert:hover {\n",
              "      background-color: #E2EBFA;\n",
              "      box-shadow: 0px 1px 2px rgba(60, 64, 67, 0.3), 0px 1px 3px 1px rgba(60, 64, 67, 0.15);\n",
              "      fill: #174EA6;\n",
              "    }\n",
              "\n",
              "    [theme=dark] .colab-df-convert {\n",
              "      background-color: #3B4455;\n",
              "      fill: #D2E3FC;\n",
              "    }\n",
              "\n",
              "    [theme=dark] .colab-df-convert:hover {\n",
              "      background-color: #434B5C;\n",
              "      box-shadow: 0px 1px 3px 1px rgba(0, 0, 0, 0.15);\n",
              "      filter: drop-shadow(0px 1px 2px rgba(0, 0, 0, 0.3));\n",
              "      fill: #FFFFFF;\n",
              "    }\n",
              "  </style>\n",
              "\n",
              "      <script>\n",
              "        const buttonEl =\n",
              "          document.querySelector('#df-80b7a865-cb59-4a5b-bd9d-0d1ae7aa4902 button.colab-df-convert');\n",
              "        buttonEl.style.display =\n",
              "          google.colab.kernel.accessAllowed ? 'block' : 'none';\n",
              "\n",
              "        async function convertToInteractive(key) {\n",
              "          const element = document.querySelector('#df-80b7a865-cb59-4a5b-bd9d-0d1ae7aa4902');\n",
              "          const dataTable =\n",
              "            await google.colab.kernel.invokeFunction('convertToInteractive',\n",
              "                                                     [key], {});\n",
              "          if (!dataTable) return;\n",
              "\n",
              "          const docLinkHtml = 'Like what you see? Visit the ' +\n",
              "            '<a target=\"_blank\" href=https://colab.research.google.com/notebooks/data_table.ipynb>data table notebook</a>'\n",
              "            + ' to learn more about interactive tables.';\n",
              "          element.innerHTML = '';\n",
              "          dataTable['output_type'] = 'display_data';\n",
              "          await google.colab.output.renderOutput(dataTable, element);\n",
              "          const docLink = document.createElement('div');\n",
              "          docLink.innerHTML = docLinkHtml;\n",
              "          element.appendChild(docLink);\n",
              "        }\n",
              "      </script>\n",
              "    </div>\n",
              "  </div>\n",
              "  "
            ]
          },
          "metadata": {},
          "execution_count": 10
        }
      ]
    },
    {
      "cell_type": "markdown",
      "source": [
        "Когда мы удаляем игроков, сыгравших менее 20 игр, мы уменьшаем размер данных до 7 132, что составляет примерно 2/5 нашего исходного набора данных. Поскольку мы исключили только 8 игроков, получивших голоса MVP, мы удалили 9 952 игрока, которые не начали достаточно игр, чтобы считаться MVP. Это здорово, но наш набор данных все еще очень несбалансирован."
      ],
      "metadata": {
        "id": "QA-7GEPYZsH8"
      }
    },
    {
      "cell_type": "code",
      "source": [
        "df = df[df[\"gs\"] > 20]\n",
        "df = df.reset_index(drop = True)\n",
        "len(df)"
      ],
      "metadata": {
        "colab": {
          "base_uri": "https://localhost:8080/"
        },
        "id": "Sli6kXQlZtxW",
        "outputId": "6062c4a7-34c7-4c13-f99c-7d09d0798e5a"
      },
      "execution_count": null,
      "outputs": [
        {
          "output_type": "execute_result",
          "data": {
            "text/plain": [
              "7132"
            ]
          },
          "metadata": {},
          "execution_count": 11
        }
      ]
    },
    {
      "cell_type": "markdown",
      "source": [
        "Чтобы получить награду MVP, кажется логичным, что игрок должен проводить много времени на паркете. То есть можно удалить из рассмотрения игроков с малым количеством игрового времени. \n",
        "\n",
        "Для поиска \"временной отсечки\" будем использовать третье стандартное отклонение."
      ],
      "metadata": {
        "id": "cIJJl1MvaCOJ"
      }
    },
    {
      "cell_type": "code",
      "source": [
        "mvpShares = df[df[\"award_share\"] > 0]\n",
        "nonMvpShares = df[df[\"award_share\"] == 0]\n",
        "\n",
        "plt.hist(mvpShares[\"mp_per_g\"], bins = 20, alpha = 0.7, density=True, label = \"MVP Votes\")\n",
        "plt.hist(nonMvpShares[\"mp_per_g\"], bins = 20, alpha = 0.7, density=True, label = \"No MVP Votes\")\n",
        "plt.ylabel(\"Proportion\")\n",
        "plt.xlabel(\"Minutes Played\")\n",
        "plt.title(\"\"\"Distribution of MPG of Players \n",
        "          who had MVP Votes Versus No MVP Votes\n",
        "          \"\"\")\n",
        "plt.legend()\n",
        "plt.show()\n",
        "\n",
        "mp_cutoff = mvpShares[\"mp_per_g\"].mean() - 3*mvpShares[\"mp_per_g\"].std()\n",
        "print(f\"The cutoff is {mp_cutoff:.3f} minutes per game\")"
      ],
      "metadata": {
        "colab": {
          "base_uri": "https://localhost:8080/",
          "height": 530
        },
        "id": "N8vPmf3IaNQG",
        "outputId": "041be36f-3a65-4935-f743-4bc8e55f5a9a"
      },
      "execution_count": null,
      "outputs": [
        {
          "output_type": "display_data",
          "data": {
            "text/plain": [
              "<Figure size 640x480 with 1 Axes>"
            ],
            "image/png": "[encoded data removed]"
          },
          "metadata": {}
        },
        {
          "output_type": "stream",
          "name": "stdout",
          "text": [
            "The cutoff is 27.890 minutes per game\n"
          ]
        }
      ]
    },
    {
      "cell_type": "markdown",
      "source": [
        "Мы удалили только двух игроков, получивших голоса MVP - Элтон Листер и Арвидас Сабонис. Кажется, что оба этих игрока являются исключениями, получившими очень маленькое количество голосов."
      ],
      "metadata": {
        "id": "d0m5vgvYa48n"
      }
    },
    {
      "cell_type": "code",
      "source": [
        "mvpShares[mvpShares[\"mp_per_g\"] < mp_cutoff][[\"season\", \"player\", \"mp_per_g\", \"pts_per_g\", 'award_share']].reset_index(drop = True)"
      ],
      "metadata": {
        "colab": {
          "base_uri": "https://localhost:8080/",
          "height": 112
        },
        "id": "khyQcBkRbOY4",
        "outputId": "b1fcb0ef-2ab2-4e31-ec7e-20fb7b571524"
      },
      "execution_count": null,
      "outputs": [
        {
          "output_type": "execute_result",
          "data": {
            "text/plain": [
              "   season           player  mp_per_g  pts_per_g  award_share\n",
              "0    1983     Alton Lister      23.6        8.4        0.007\n",
              "1    1999  Arvydas Sabonis      27.0       12.1        0.003"
            ],
            "text/html": [
              "\n",
              "  <div id=\"df-ad9e7a1b-bd42-4744-9c1e-d32580085e39\">\n",
              "    <div class=\"colab-df-container\">\n",
              "      <div>\n",
              "<style scoped>\n",
              "    .dataframe tbody tr th:only-of-type {\n",
              "        vertical-align: middle;\n",
              "    }\n",
              "\n",
              "    .dataframe tbody tr th {\n",
              "        vertical-align: top;\n",
              "    }\n",
              "\n",
              "    .dataframe thead th {\n",
              "        text-align: right;\n",
              "    }\n",
              "</style>\n",
              "<table border=\"1\" class=\"dataframe\">\n",
              "  <thead>\n",
              "    <tr style=\"text-align: right;\">\n",
              "      <th></th>\n",
              "      <th>season</th>\n",
              "      <th>player</th>\n",
              "      <th>mp_per_g</th>\n",
              "      <th>pts_per_g</th>\n",
              "      <th>award_share</th>\n",
              "    </tr>\n",
              "  </thead>\n",
              "  <tbody>\n",
              "    <tr>\n",
              "      <th>0</th>\n",
              "      <td>1983</td>\n",
              "      <td>Alton Lister</td>\n",
              "      <td>23.6</td>\n",
              "      <td>8.4</td>\n",
              "      <td>0.007</td>\n",
              "    </tr>\n",
              "    <tr>\n",
              "      <th>1</th>\n",
              "      <td>1999</td>\n",
              "      <td>Arvydas Sabonis</td>\n",
              "      <td>27.0</td>\n",
              "      <td>12.1</td>\n",
              "      <td>0.003</td>\n",
              "    </tr>\n",
              "  </tbody>\n",
              "</table>\n",
              "</div>\n",
              "      <button class=\"colab-df-convert\" onclick=\"convertToInteractive('df-ad9e7a1b-bd42-4744-9c1e-d32580085e39')\"\n",
              "              title=\"Convert this dataframe to an interactive table.\"\n",
              "              style=\"display:none;\">\n",
              "        \n",
              "  <svg xmlns=\"http://www.w3.org/2000/svg\" height=\"24px\"viewBox=\"0 0 24 24\"\n",
              "       width=\"24px\">\n",
              "    <path d=\"M0 0h24v24H0V0z\" fill=\"none\"/>\n",
              "    <path d=\"M18.56 5.44l.94 2.06.94-2.06 2.06-.94-2.06-.94-.94-2.06-.94 2.06-2.06.94zm-11 1L8.5 8.5l.94-2.06 2.06-.94-2.06-.94L8.5 2.5l-.94 2.06-2.06.94zm10 10l.94 2.06.94-2.06 2.06-.94-2.06-.94-.94-2.06-.94 2.06-2.06.94z\"/><path d=\"M17.41 7.96l-1.37-1.37c-.4-.4-.92-.59-1.43-.59-.52 0-1.04.2-1.43.59L10.3 9.45l-7.72 7.72c-.78.78-.78 2.05 0 2.83L4 21.41c.39.39.9.59 1.41.59.51 0 1.02-.2 1.41-.59l7.78-7.78 2.81-2.81c.8-.78.8-2.07 0-2.86zM5.41 20L4 18.59l7.72-7.72 1.47 1.35L5.41 20z\"/>\n",
              "  </svg>\n",
              "      </button>\n",
              "      \n",
              "  <style>\n",
              "    .colab-df-container {\n",
              "      display:flex;\n",
              "      flex-wrap:wrap;\n",
              "      gap: 12px;\n",
              "    }\n",
              "\n",
              "    .colab-df-convert {\n",
              "      background-color: #E8F0FE;\n",
              "      border: none;\n",
              "      border-radius: 50%;\n",
              "      cursor: pointer;\n",
              "      display: none;\n",
              "      fill: #1967D2;\n",
              "      height: 32px;\n",
              "      padding: 0 0 0 0;\n",
              "      width: 32px;\n",
              "    }\n",
              "\n",
              "    .colab-df-convert:hover {\n",
              "      background-color: #E2EBFA;\n",
              "      box-shadow: 0px 1px 2px rgba(60, 64, 67, 0.3), 0px 1px 3px 1px rgba(60, 64, 67, 0.15);\n",
              "      fill: #174EA6;\n",
              "    }\n",
              "\n",
              "    [theme=dark] .colab-df-convert {\n",
              "      background-color: #3B4455;\n",
              "      fill: #D2E3FC;\n",
              "    }\n",
              "\n",
              "    [theme=dark] .colab-df-convert:hover {\n",
              "      background-color: #434B5C;\n",
              "      box-shadow: 0px 1px 3px 1px rgba(0, 0, 0, 0.15);\n",
              "      filter: drop-shadow(0px 1px 2px rgba(0, 0, 0, 0.3));\n",
              "      fill: #FFFFFF;\n",
              "    }\n",
              "  </style>\n",
              "\n",
              "      <script>\n",
              "        const buttonEl =\n",
              "          document.querySelector('#df-ad9e7a1b-bd42-4744-9c1e-d32580085e39 button.colab-df-convert');\n",
              "        buttonEl.style.display =\n",
              "          google.colab.kernel.accessAllowed ? 'block' : 'none';\n",
              "\n",
              "        async function convertToInteractive(key) {\n",
              "          const element = document.querySelector('#df-ad9e7a1b-bd42-4744-9c1e-d32580085e39');\n",
              "          const dataTable =\n",
              "            await google.colab.kernel.invokeFunction('convertToInteractive',\n",
              "                                                     [key], {});\n",
              "          if (!dataTable) return;\n",
              "\n",
              "          const docLinkHtml = 'Like what you see? Visit the ' +\n",
              "            '<a target=\"_blank\" href=https://colab.research.google.com/notebooks/data_table.ipynb>data table notebook</a>'\n",
              "            + ' to learn more about interactive tables.';\n",
              "          element.innerHTML = '';\n",
              "          dataTable['output_type'] = 'display_data';\n",
              "          await google.colab.output.renderOutput(dataTable, element);\n",
              "          const docLink = document.createElement('div');\n",
              "          docLink.innerHTML = docLinkHtml;\n",
              "          element.appendChild(docLink);\n",
              "        }\n",
              "      </script>\n",
              "    </div>\n",
              "  </div>\n",
              "  "
            ]
          },
          "metadata": {},
          "execution_count": 13
        }
      ]
    },
    {
      "cell_type": "markdown",
      "source": [
        "Тоже самое мы можем сделать и с очками, потому что, очевидно, наиболее ценный игрок должен набирать добротное количество очков за матч."
      ],
      "metadata": {
        "id": "AjZFpXbxbgiS"
      }
    },
    {
      "cell_type": "code",
      "source": [
        "plt.hist(mvpShares[\"pts_per_g\"], bins = 20, alpha = 0.7, density=True, label = \"MVP Votes\")\n",
        "plt.hist(nonMvpShares[\"pts_per_g\"], bins = 20, alpha = 0.7, density=True, label = \"No MVP Votes\")\n",
        "plt.xlabel(\"Points Per Game\")\n",
        "plt.ylabel(\"Proportion\")\n",
        "plt.title(\"\"\"Distribution of PPG of Players \n",
        "          who had MVP Votes Versus No MVP Votes\n",
        "          \"\"\")\n",
        "plt.legend()\n",
        "plt.show()\n",
        "\n",
        "pts_cutoff = mvpShares[\"pts_per_g\"].mean() - 3 * mvpShares[\"pts_per_g\"].std()\n",
        "print(f\"The cutoff is {pts_cutoff:.3f} points in a game\")"
      ],
      "metadata": {
        "colab": {
          "base_uri": "https://localhost:8080/",
          "height": 530
        },
        "id": "zTUKTd35bsEi",
        "outputId": "83253310-ac5f-41cf-8049-c31cd6e59af0"
      },
      "execution_count": null,
      "outputs": [
        {
          "output_type": "display_data",
          "data": {
            "text/plain": [
              "<Figure size 640x480 with 1 Axes>"
            ],
            "image/png": "[encoded data removed]"
          },
          "metadata": {}
        },
        {
          "output_type": "stream",
          "name": "stdout",
          "text": [
            "The cutoff is 7.092 points in a game\n"
          ]
        }
      ]
    },
    {
      "cell_type": "markdown",
      "source": [
        "Здесь мы снова отрезали еще 4ых игроков, получивших голоса MVP. В эру центровых они славились мощной защитой и подборами. Также были удалены игроки, которые славились не количеством победных очков, а своей защитой."
      ],
      "metadata": {
        "id": "qcnPWyOrbzkl"
      }
    },
    {
      "cell_type": "code",
      "source": [
        "mvpShares[mvpShares[\"pts_per_g\"] < pts_cutoff][[\"season\", \"player\", \"pts_per_g\", 'blk_per_g', 'orb_per_g', 'drb_per_g', 'award_share']].reset_index(drop = True)\n"
      ],
      "metadata": {
        "colab": {
          "base_uri": "https://localhost:8080/",
          "height": 174
        },
        "id": "EHl5mXIicKFA",
        "outputId": "4ddbae04-c284-4911-acc7-1983e080e719"
      },
      "execution_count": null,
      "outputs": [
        {
          "output_type": "execute_result",
          "data": {
            "text/plain": [
              "   season         player  pts_per_g  blk_per_g  orb_per_g  drb_per_g  \\\n",
              "0    1989     Mark Eaton        6.2        3.8        2.8        7.5   \n",
              "1    1994  Dennis Rodman        4.7        0.4        5.7       11.6   \n",
              "2    1996  Dennis Rodman        5.5        0.4        5.6        9.3   \n",
              "3    2003    Ben Wallace        6.9        3.2        4.0       11.4   \n",
              "\n",
              "   award_share  \n",
              "0        0.004  \n",
              "1        0.001  \n",
              "2        0.004  \n",
              "3        0.028  "
            ],
            "text/html": [
              "\n",
              "  <div id=\"df-2d45be7f-75c2-4c48-85e8-2daf2b07c5ed\">\n",
              "    <div class=\"colab-df-container\">\n",
              "      <div>\n",
              "<style scoped>\n",
              "    .dataframe tbody tr th:only-of-type {\n",
              "        vertical-align: middle;\n",
              "    }\n",
              "\n",
              "    .dataframe tbody tr th {\n",
              "        vertical-align: top;\n",
              "    }\n",
              "\n",
              "    .dataframe thead th {\n",
              "        text-align: right;\n",
              "    }\n",
              "</style>\n",
              "<table border=\"1\" class=\"dataframe\">\n",
              "  <thead>\n",
              "    <tr style=\"text-align: right;\">\n",
              "      <th></th>\n",
              "      <th>season</th>\n",
              "      <th>player</th>\n",
              "      <th>pts_per_g</th>\n",
              "      <th>blk_per_g</th>\n",
              "      <th>orb_per_g</th>\n",
              "      <th>drb_per_g</th>\n",
              "      <th>award_share</th>\n",
              "    </tr>\n",
              "  </thead>\n",
              "  <tbody>\n",
              "    <tr>\n",
              "      <th>0</th>\n",
              "      <td>1989</td>\n",
              "      <td>Mark Eaton</td>\n",
              "      <td>6.2</td>\n",
              "      <td>3.8</td>\n",
              "      <td>2.8</td>\n",
              "      <td>7.5</td>\n",
              "      <td>0.004</td>\n",
              "    </tr>\n",
              "    <tr>\n",
              "      <th>1</th>\n",
              "      <td>1994</td>\n",
              "      <td>Dennis Rodman</td>\n",
              "      <td>4.7</td>\n",
              "      <td>0.4</td>\n",
              "      <td>5.7</td>\n",
              "      <td>11.6</td>\n",
              "      <td>0.001</td>\n",
              "    </tr>\n",
              "    <tr>\n",
              "      <th>2</th>\n",
              "      <td>1996</td>\n",
              "      <td>Dennis Rodman</td>\n",
              "      <td>5.5</td>\n",
              "      <td>0.4</td>\n",
              "      <td>5.6</td>\n",
              "      <td>9.3</td>\n",
              "      <td>0.004</td>\n",
              "    </tr>\n",
              "    <tr>\n",
              "      <th>3</th>\n",
              "      <td>2003</td>\n",
              "      <td>Ben Wallace</td>\n",
              "      <td>6.9</td>\n",
              "      <td>3.2</td>\n",
              "      <td>4.0</td>\n",
              "      <td>11.4</td>\n",
              "      <td>0.028</td>\n",
              "    </tr>\n",
              "  </tbody>\n",
              "</table>\n",
              "</div>\n",
              "      <button class=\"colab-df-convert\" onclick=\"convertToInteractive('df-2d45be7f-75c2-4c48-85e8-2daf2b07c5ed')\"\n",
              "              title=\"Convert this dataframe to an interactive table.\"\n",
              "              style=\"display:none;\">\n",
              "        \n",
              "  <svg xmlns=\"http://www.w3.org/2000/svg\" height=\"24px\"viewBox=\"0 0 24 24\"\n",
              "       width=\"24px\">\n",
              "    <path d=\"M0 0h24v24H0V0z\" fill=\"none\"/>\n",
              "    <path d=\"M18.56 5.44l.94 2.06.94-2.06 2.06-.94-2.06-.94-.94-2.06-.94 2.06-2.06.94zm-11 1L8.5 8.5l.94-2.06 2.06-.94-2.06-.94L8.5 2.5l-.94 2.06-2.06.94zm10 10l.94 2.06.94-2.06 2.06-.94-2.06-.94-.94-2.06-.94 2.06-2.06.94z\"/><path d=\"M17.41 7.96l-1.37-1.37c-.4-.4-.92-.59-1.43-.59-.52 0-1.04.2-1.43.59L10.3 9.45l-7.72 7.72c-.78.78-.78 2.05 0 2.83L4 21.41c.39.39.9.59 1.41.59.51 0 1.02-.2 1.41-.59l7.78-7.78 2.81-2.81c.8-.78.8-2.07 0-2.86zM5.41 20L4 18.59l7.72-7.72 1.47 1.35L5.41 20z\"/>\n",
              "  </svg>\n",
              "      </button>\n",
              "      \n",
              "  <style>\n",
              "    .colab-df-container {\n",
              "      display:flex;\n",
              "      flex-wrap:wrap;\n",
              "      gap: 12px;\n",
              "    }\n",
              "\n",
              "    .colab-df-convert {\n",
              "      background-color: #E8F0FE;\n",
              "      border: none;\n",
              "      border-radius: 50%;\n",
              "      cursor: pointer;\n",
              "      display: none;\n",
              "      fill: #1967D2;\n",
              "      height: 32px;\n",
              "      padding: 0 0 0 0;\n",
              "      width: 32px;\n",
              "    }\n",
              "\n",
              "    .colab-df-convert:hover {\n",
              "      background-color: #E2EBFA;\n",
              "      box-shadow: 0px 1px 2px rgba(60, 64, 67, 0.3), 0px 1px 3px 1px rgba(60, 64, 67, 0.15);\n",
              "      fill: #174EA6;\n",
              "    }\n",
              "\n",
              "    [theme=dark] .colab-df-convert {\n",
              "      background-color: #3B4455;\n",
              "      fill: #D2E3FC;\n",
              "    }\n",
              "\n",
              "    [theme=dark] .colab-df-convert:hover {\n",
              "      background-color: #434B5C;\n",
              "      box-shadow: 0px 1px 3px 1px rgba(0, 0, 0, 0.15);\n",
              "      filter: drop-shadow(0px 1px 2px rgba(0, 0, 0, 0.3));\n",
              "      fill: #FFFFFF;\n",
              "    }\n",
              "  </style>\n",
              "\n",
              "      <script>\n",
              "        const buttonEl =\n",
              "          document.querySelector('#df-2d45be7f-75c2-4c48-85e8-2daf2b07c5ed button.colab-df-convert');\n",
              "        buttonEl.style.display =\n",
              "          google.colab.kernel.accessAllowed ? 'block' : 'none';\n",
              "\n",
              "        async function convertToInteractive(key) {\n",
              "          const element = document.querySelector('#df-2d45be7f-75c2-4c48-85e8-2daf2b07c5ed');\n",
              "          const dataTable =\n",
              "            await google.colab.kernel.invokeFunction('convertToInteractive',\n",
              "                                                     [key], {});\n",
              "          if (!dataTable) return;\n",
              "\n",
              "          const docLinkHtml = 'Like what you see? Visit the ' +\n",
              "            '<a target=\"_blank\" href=https://colab.research.google.com/notebooks/data_table.ipynb>data table notebook</a>'\n",
              "            + ' to learn more about interactive tables.';\n",
              "          element.innerHTML = '';\n",
              "          dataTable['output_type'] = 'display_data';\n",
              "          await google.colab.output.renderOutput(dataTable, element);\n",
              "          const docLink = document.createElement('div');\n",
              "          docLink.innerHTML = docLinkHtml;\n",
              "          element.appendChild(docLink);\n",
              "        }\n",
              "      </script>\n",
              "    </div>\n",
              "  </div>\n",
              "  "
            ]
          },
          "metadata": {},
          "execution_count": 15
        }
      ]
    },
    {
      "cell_type": "markdown",
      "source": [
        "После этих отсечек мы можем уменьшить размер датасета еще на 1000 значений."
      ],
      "metadata": {
        "id": "AQQVFDZbcNjy"
      }
    },
    {
      "cell_type": "code",
      "source": [
        "df = df[(df[\"pts_per_g\"] > pts_cutoff) & (df[\"mp_per_g\"] > mp_cutoff)].reset_index(drop = True)"
      ],
      "metadata": {
        "id": "Nfk49ooccXTN"
      },
      "execution_count": null,
      "outputs": []
    },
    {
      "cell_type": "code",
      "source": [
        "from collections import Counter\n",
        "from imblearn.over_sampling import SMOTE\n",
        "\n",
        "classes = df[\"award_share\"] > 0\n",
        "\n",
        "dataDf = df.drop([\"player\", \"pos\", \"team_id\", \"was_mvp\"], axis = 1)\n",
        "unSmoteLen = len(dataDf)\n",
        "\n",
        "def func(pct, allvals):\n",
        "    absolute = int(np.round(pct/100.*np.sum(allvals)))\n",
        "    return \"{:.1f}%\\n({:d})\".format(pct, absolute)\n",
        "\n",
        "fig, ax = plt.subplots()\n",
        "\n",
        "wedges, texts, autotexts = ax.pie(classes.value_counts(), \n",
        "       autopct = lambda pct: func(pct, classes.value_counts()),\n",
        "       pctdistance = 1.3)\n",
        "\n",
        "ax.set_title(\"NBA Players who Recieved MVP Votes\")\n",
        "\n",
        "ax.legend([\"No MVP Votes\", \"MVP Votes\"],\n",
        "          title=\"Votes\",\n",
        "          loc = 'center right',\n",
        "           bbox_to_anchor=(1.25, 0.85))\n",
        "\n",
        "plt.show()"
      ],
      "metadata": {
        "colab": {
          "base_uri": "https://localhost:8080/",
          "height": 428
        },
        "id": "3VGKx1PUcotJ",
        "outputId": "e5e33f14-b478-4471-ea01-fd149a0201d9"
      },
      "execution_count": null,
      "outputs": [
        {
          "output_type": "display_data",
          "data": {
            "text/plain": [
              "<Figure size 640x480 with 1 Axes>"
            ],
            "image/png": "[encoded data removed]"
          },
          "metadata": {}
        }
      ]
    },
    {
      "cell_type": "markdown",
      "source": [
        "Теперь пора применять SMOTE."
      ],
      "metadata": {
        "id": "XNdHQmpyczqg"
      }
    },
    {
      "cell_type": "code",
      "source": [
        "smote = SMOTE(sampling_strategy = 1)\n",
        "dataDf, classes = smote.fit_resample(dataDf, classes)\n",
        "\n",
        "fig, ax = plt.subplots()\n",
        "\n",
        "wedges, texts, autotexts = ax.pie(classes.value_counts(), \n",
        "       autopct = lambda pct: func(pct, classes.value_counts()),\n",
        "       pctdistance = 0.4)\n",
        "\n",
        "ax.set_title(\"SMOTE: NBA Players who Recieved MVP Votes\")\n",
        "\n",
        "ax.legend([\"No MVP Votes\", \"MVP Votes\"],\n",
        "          title=\"Votes\",\n",
        "          loc = 'center right',\n",
        "           bbox_to_anchor=(1.25, 0.85))\n",
        "\n",
        "plt.show()"
      ],
      "metadata": {
        "colab": {
          "base_uri": "https://localhost:8080/",
          "height": 428
        },
        "id": "u5p3meqgc1HX",
        "outputId": "a791e183-e15d-4531-8355-208bf0b4bc09"
      },
      "execution_count": null,
      "outputs": [
        {
          "output_type": "display_data",
          "data": {
            "text/plain": [
              "<Figure size 640x480 with 1 Axes>"
            ],
            "image/png": "[encoded data removed]"
          },
          "metadata": {}
        }
      ]
    },
    {
      "cell_type": "markdown",
      "source": [
        "Теперь данные сбалансированны, но появилась проблема - наши синтетические данные могут быть лучше, чем истинный MVP того года, хотя эти данные и не принадлежат настоящему игроку.\n",
        "\n",
        "Добавим метки, обозначающие, какие данные являются синтетическими, а какие нет.\n",
        "\n",
        "Сделать это легко, потому что SMOTE добавляет синтетические данные в конец датасета."
      ],
      "metadata": {
        "id": "6AUR9qi6c-7p"
      }
    },
    {
      "cell_type": "code",
      "source": [
        "dataDf[\"is_smote\"] = dataDf.index >= unSmoteLen"
      ],
      "metadata": {
        "id": "n5UX0Mt9dQOr"
      },
      "execution_count": null,
      "outputs": []
    },
    {
      "cell_type": "code",
      "source": [
        "labeledDataDf = dataDf.merge(df, how = \"left\")"
      ],
      "metadata": {
        "id": "SYkw4wYcdmQL"
      },
      "execution_count": null,
      "outputs": []
    },
    {
      "cell_type": "markdown",
      "source": [
        "#The Boruta Method"
      ],
      "metadata": {
        "id": "o5Dawmbrd0X5"
      }
    },
    {
      "cell_type": "markdown",
      "source": [
        "Теперь у нас есть сбалансированный датасет. Теперь нужно убедиться, что данные, которые мы вводим, не являются просто шумом.\n",
        "\n",
        "Не вся статистика NBA одинакова. Например, передачи за игру менее ценны, чем очки за игру для прогнозирования MVP. Важно не чтобы было много данных, а чтобы эти данные были полезны. \n",
        "\n",
        "Таким образом, нужно выбрать показатели статистики, которые наиболее важны для нашей модели.\n",
        "\n",
        "Чтобы отбирать признаки, будет использовать метод Боруты."
      ],
      "metadata": {
        "id": "aRfrF-t8d-It"
      }
    },
    {
      "cell_type": "code",
      "source": [
        "!pip install Boruta"
      ],
      "metadata": {
        "colab": {
          "base_uri": "https://localhost:8080/"
        },
        "id": "lAs4j99-e35P",
        "outputId": "8f3d1b8b-3c1e-428b-ecf2-01889bf45c3b"
      },
      "execution_count": null,
      "outputs": [
        {
          "output_type": "stream",
          "name": "stdout",
          "text": [
            "Looking in indexes: https://pypi.org/simple, https://us-python.pkg.dev/colab-wheels/public/simple/\n",
            "Collecting Boruta\n",
            "  Downloading Boruta-0.3-py3-none-any.whl (56 kB)\n",
            "\u001b[2K     \u001b[90m━━━━━━━━━━━━━━━━━━━━━━━━━━━━━━━━━━━━━━━━\u001b[0m \u001b[32m56.6/56.6 kB\u001b[0m \u001b[31m2.8 MB/s\u001b[0m eta \u001b[36m0:00:00\u001b[0m\n",
            "\u001b[?25hRequirement already satisfied: numpy>=1.10.4 in /usr/local/lib/python3.10/dist-packages (from Boruta) (1.22.4)\n",
            "Requirement already satisfied: scikit-learn>=0.17.1 in /usr/local/lib/python3.10/dist-packages (from Boruta) (1.2.2)\n",
            "Requirement already satisfied: scipy>=0.17.0 in /usr/local/lib/python3.10/dist-packages (from Boruta) (1.10.1)\n",
            "Requirement already satisfied: joblib>=1.1.1 in /usr/local/lib/python3.10/dist-packages (from scikit-learn>=0.17.1->Boruta) (1.2.0)\n",
            "Requirement already satisfied: threadpoolctl>=2.0.0 in /usr/local/lib/python3.10/dist-packages (from scikit-learn>=0.17.1->Boruta) (3.1.0)\n",
            "Installing collected packages: Boruta\n",
            "Successfully installed Boruta-0.3\n"
          ]
        }
      ]
    },
    {
      "cell_type": "code",
      "source": [
        "# from boruta import BorutaPy\n",
        "# from sklearn.ensemble import RandomForestRegressor\n",
        "# from sklearn.ensemble import RandomForestClassifier\n",
        "# import numpy as np\n",
        "\n",
        "# rf = RandomForestRegressor(max_depth = 5, n_jobs=-1, n_estimators=500, oob_score=True)\n",
        "# trans = BorutaPy(rf, n_estimators = \"auto\", random_state=42, verbose=2)\n",
        "# selector = trans.fit(dataDf.drop([\"award_share\", \"season\", \"is_smote\"],axis= 1).to_numpy(), \n",
        "#                      dataDf[\"award_share\"].to_numpy())\n",
        "columns = ['age', 'g', 'gs', 'mp_per_g', 'fga_per_g', 'fg_pct',\n",
        "       'fg2a_per_g', 'fg2_pct', 'efg_pct', 'fta_per_g', 'ft_pct', 'drb_per_g',\n",
        "       'ast_per_g', 'stl_per_g', 'tov_per_g', 'pf_per_g', 'pts_per_g', 'mp',\n",
        "       'per', 'ts_pct', 'fta_per_fga_pct', 'drb_pct', 'trb_pct', 'ast_pct',\n",
        "       'stl_pct', 'tov_pct', 'usg_pct', 'ows', 'dws', 'ws', 'ws_per_48',\n",
        "       'obpm', 'dbpm', 'bpm', 'vorp', 'mov', 'win_loss_pct']"
      ],
      "metadata": {
        "id": "f2qFpW7Ve2hk"
      },
      "execution_count": null,
      "outputs": []
    },
    {
      "cell_type": "code",
      "source": [
        "#columns = dataDf.drop([\"award_share\", \"season\", \"is_smote\"],axis= 1).columns[selector.ranking_ <= 2]"
      ],
      "metadata": {
        "id": "dtJvI803olLM"
      },
      "execution_count": null,
      "outputs": []
    },
    {
      "cell_type": "markdown",
      "source": [
        "#Data Preprocessing"
      ],
      "metadata": {
        "id": "DMyN0qRvpB5O"
      }
    },
    {
      "cell_type": "markdown",
      "source": [
        "После того, как мы разобрались с \"грязными\" данными, нужно разделить выборку на обучающую и тестовую."
      ],
      "metadata": {
        "id": "uIZWdtaoxoVi"
      }
    },
    {
      "cell_type": "code",
      "source": [
        "dfTestSet = dfTestSet[(dfTestSet[\"gs\"] > 20) & (dfTestSet[\"pts_per_g\"] > pts_cutoff) & (dfTestSet[\"mp_per_g\"] > mp_cutoff)].reset_index(drop = True)"
      ],
      "metadata": {
        "id": "cIDbE4hbpCvo"
      },
      "execution_count": null,
      "outputs": []
    },
    {
      "cell_type": "code",
      "source": [
        "from pandas.core.dtypes.common import validate_all_hashable\n",
        "\n",
        "# Shuffling the data\n",
        "modelDf = labeledDataDf.sample(frac=1).reset_index(drop = True)\n",
        "\n",
        "# Train Data\n",
        "trainInfo = modelDf[[\"season\", \"player\", \"pos\", \"team_id\",\"award_share\",  \"was_mvp\", \"is_smote\"]]\n",
        "trainData = modelDf[columns]\n",
        "trainTargets = modelDf[[\"award_share\"]]\n",
        "\n",
        "# Test Data\n",
        "testInfo = dfTestSet[[\"season\", \"player\", \"pos\", \"team_id\", \"award_share\", \"was_mvp\"]]\n",
        "testData = dfTestSet[columns]\n",
        "testTargets = dfTestSet[[\"award_share\"]]"
      ],
      "metadata": {
        "id": "qz7kgm_oyIN0"
      },
      "execution_count": null,
      "outputs": []
    },
    {
      "cell_type": "markdown",
      "source": [
        "#Random Forest Model_default method"
      ],
      "metadata": {
        "id": "xBXW7Za2yZLc"
      }
    },
    {
      "cell_type": "markdown",
      "source": [
        "Model for all seasons"
      ],
      "metadata": {
        "id": "DtXn3J7tyept"
      }
    },
    {
      "cell_type": "code",
      "source": [
        "from sklearn.ensemble import RandomForestRegressor\n",
        "\n",
        "validation_scores = {\"season\" : [], \"mae\" : [], \"was_mvp\" : [], \"was_top_two\" : [], \"was_top_three\":[], \"info\" : []}\n",
        "seasons = trainInfo.season.unique()\n",
        "for season in seasons:\n",
        "  print(\"\\n\")\n",
        "  print(f\"Season: {season}\")\n",
        "\n",
        "  trainFold = trainData[trainInfo[\"season\"] != season]\n",
        "  trainTarFold = trainTargets[trainInfo[\"season\"] != season]\n",
        "  valFold = trainData[(trainInfo[\"season\"] == season) & (~trainInfo[\"is_smote\"])]\n",
        "  valTarFold = trainTargets[(trainInfo[\"season\"] == season) & (~trainInfo[\"is_smote\"])]\n",
        "  valInfo = trainInfo[(trainInfo[\"season\"] == season) & (~trainInfo[\"is_smote\"])]\n",
        "\n",
        "  regr = RandomForestRegressor(max_depth = 7, random_state=0)\n",
        "  regr.fit(trainFold.to_numpy(), trainTarFold.to_numpy()[:,0])\n",
        "\n",
        "  valPred = regr.predict(valFold)\n",
        "  mae = np.mean(np.absolute(valPred - valTarFold.to_numpy()[:,0]))\n",
        "\n",
        "  print(f\"MAE: {mae}\")\n",
        "\n",
        "  topTwo = valInfo.iloc[np.argsort(valPred)[-2:]]\n",
        "  was_top_two = sum(topTwo[\"was_mvp\"]) > 0\n",
        "  topThree = valInfo.iloc[np.argsort(valPred)[-3:]]\n",
        "  was_top_three = sum(topThree[\"was_mvp\"]) > 0\n",
        "  print(\"Predicted top three players in MVP voting with their actual award_share:\")\n",
        "  print(topThree.iloc[::-1])\n",
        "\n",
        "\n",
        "  mostVotes = np.argmax(valPred)\n",
        "  score = np.amax(valPred)\n",
        "  was_mvp = valInfo.iloc[[mostVotes]][\"was_mvp\"].values[0]\n",
        "  player = valInfo.iloc[[mostVotes]][\"player\"].values[0]\n",
        "  print(f\"Predicted MVP: {player}\")\n",
        "  print(f\"Predicted Win Share: {score}\")\n",
        "  print(f\"Was MVP correct: {was_mvp}\")\n",
        "  \n",
        "  validation_scores[\"season\"].append(season)\n",
        "  validation_scores[\"mae\"].append(mae)\n",
        "  validation_scores[\"was_mvp\"].append(was_mvp)\n",
        "  validation_scores[\"was_top_two\"].append(was_top_three)\n",
        "  validation_scores[\"was_top_three\"].append(was_top_three)\n",
        "  validation_scores[\"info\"].append(valInfo.iloc[[mostVotes]])"
      ],
      "metadata": {
        "id": "rtzL6BeyycQB",
        "colab": {
          "base_uri": "https://localhost:8080/"
        },
        "outputId": "ecd3e159-f207-496f-8832-72e5518b4ad2"
      },
      "execution_count": null,
      "outputs": [
        {
          "output_type": "stream",
          "name": "stdout",
          "text": [
            "\n",
            "\n",
            "Season: 2019\n"
          ]
        },
        {
          "output_type": "stream",
          "name": "stderr",
          "text": [
            "/usr/local/lib/python3.10/dist-packages/sklearn/base.py:432: UserWarning: X has feature names, but RandomForestRegressor was fitted without feature names\n",
            "  warnings.warn(\n"
          ]
        },
        {
          "output_type": "stream",
          "name": "stdout",
          "text": [
            "MAE: 0.01719420391442131\n",
            "Predicted top three players in MVP voting with their actual award_share:\n",
            "      season                 player pos team_id  award_share was_mvp  is_smote\n",
            "7305    2019  Giannis Antetokounmpo  PF     MIL        0.932    True     False\n",
            "6715    2019           James Harden  PG     HOU        0.768   False     False\n",
            "4360    2019           Nikola Jokić   C     DEN        0.210   False     False\n",
            "Predicted MVP: Giannis Antetokounmpo\n",
            "Predicted Win Share: 0.7640693381607566\n",
            "Was MVP correct: True\n",
            "\n",
            "\n",
            "Season: 1993\n"
          ]
        },
        {
          "output_type": "stream",
          "name": "stderr",
          "text": [
            "/usr/local/lib/python3.10/dist-packages/sklearn/base.py:432: UserWarning: X has feature names, but RandomForestRegressor was fitted without feature names\n",
            "  warnings.warn(\n"
          ]
        },
        {
          "output_type": "stream",
          "name": "stdout",
          "text": [
            "MAE: 0.014932012503291613\n",
            "Predicted top three players in MVP voting with their actual award_share:\n",
            "      season           player pos team_id  award_share was_mvp  is_smote\n",
            "2919    1993   Michael Jordan  SG     CHI        0.577   False     False\n",
            "1611    1993  Charles Barkley  PF     PHO        0.852    True     False\n",
            "6646    1993  Hakeem Olajuwon   C     HOU        0.660   False     False\n",
            "Predicted MVP: Michael Jordan\n",
            "Predicted Win Share: 0.6653978125184963\n",
            "Was MVP correct: False\n",
            "\n",
            "\n",
            "Season: 1991\n"
          ]
        },
        {
          "output_type": "stream",
          "name": "stderr",
          "text": [
            "/usr/local/lib/python3.10/dist-packages/sklearn/base.py:432: UserWarning: X has feature names, but RandomForestRegressor was fitted without feature names\n",
            "  warnings.warn(\n"
          ]
        },
        {
          "output_type": "stream",
          "name": "stdout",
          "text": [
            "MAE: 0.012315542895450435\n",
            "Predicted top three players in MVP voting with their actual award_share:\n",
            "      season          player pos team_id  award_share was_mvp  is_smote\n",
            "4249    1991  Michael Jordan  SG     CHI        0.928    True     False\n",
            "7544    1991  David Robinson   C     SAS        0.496   False     False\n",
            "1116    1991   Magic Johnson  PG     LAL        0.518   False     False\n",
            "Predicted MVP: Michael Jordan\n",
            "Predicted Win Share: 0.8112427911861617\n",
            "Was MVP correct: True\n",
            "\n",
            "\n",
            "Season: 1996\n"
          ]
        },
        {
          "output_type": "stream",
          "name": "stderr",
          "text": [
            "/usr/local/lib/python3.10/dist-packages/sklearn/base.py:432: UserWarning: X has feature names, but RandomForestRegressor was fitted without feature names\n",
            "  warnings.warn(\n"
          ]
        },
        {
          "output_type": "stream",
          "name": "stdout",
          "text": [
            "MAE: 0.01251865324197377\n",
            "Predicted top three players in MVP voting with their actual award_share:\n",
            "      season             player pos team_id  award_share was_mvp  is_smote\n",
            "7472    1996     Michael Jordan  SG     CHI        0.986    True     False\n",
            "2424    1996     David Robinson   C     SAS        0.508   False     False\n",
            "588     1996  Anfernee Hardaway  PG     ORL        0.319   False     False\n",
            "Predicted MVP: Michael Jordan\n",
            "Predicted Win Share: 0.9016819786212521\n",
            "Was MVP correct: True\n",
            "\n",
            "\n",
            "Season: 1987\n"
          ]
        },
        {
          "output_type": "stream",
          "name": "stderr",
          "text": [
            "/usr/local/lib/python3.10/dist-packages/sklearn/base.py:432: UserWarning: X has feature names, but RandomForestRegressor was fitted without feature names\n",
            "  warnings.warn(\n"
          ]
        },
        {
          "output_type": "stream",
          "name": "stdout",
          "text": [
            "MAE: 0.013382475998842545\n",
            "Predicted top three players in MVP voting with their actual award_share:\n",
            "      season          player pos team_id  award_share was_mvp  is_smote\n",
            "1798    1987   Magic Johnson  PG     LAL        0.940    True     False\n",
            "901     1987      Larry Bird  SF     BOS        0.347   False     False\n",
            "5974    1987  Michael Jordan  SG     CHI        0.576   False     False\n",
            "Predicted MVP: Magic Johnson\n",
            "Predicted Win Share: 0.6747760505798714\n",
            "Was MVP correct: True\n",
            "\n",
            "\n",
            "Season: 2017\n"
          ]
        },
        {
          "output_type": "stream",
          "name": "stderr",
          "text": [
            "/usr/local/lib/python3.10/dist-packages/sklearn/base.py:432: UserWarning: X has feature names, but RandomForestRegressor was fitted without feature names\n",
            "  warnings.warn(\n"
          ]
        },
        {
          "output_type": "stream",
          "name": "stdout",
          "text": [
            "MAE: 0.02466499464866858\n",
            "Predicted top three players in MVP voting with their actual award_share:\n",
            "      season             player pos team_id  award_share was_mvp  is_smote\n",
            "2150    2017  Russell Westbrook  PG     OKC        0.879    True     False\n",
            "2931    2017       James Harden  PG     HOU        0.746   False     False\n",
            "6367    2017      Kawhi Leonard  SF     SAS        0.495   False     False\n",
            "Predicted MVP: Russell Westbrook\n",
            "Predicted Win Share: 0.5931055114403686\n",
            "Was MVP correct: True\n",
            "\n",
            "\n",
            "Season: 2015\n"
          ]
        },
        {
          "output_type": "stream",
          "name": "stderr",
          "text": [
            "/usr/local/lib/python3.10/dist-packages/sklearn/base.py:432: UserWarning: X has feature names, but RandomForestRegressor was fitted without feature names\n",
            "  warnings.warn(\n"
          ]
        },
        {
          "output_type": "stream",
          "name": "stdout",
          "text": [
            "MAE: 0.016864547168235933\n",
            "Predicted top three players in MVP voting with their actual award_share:\n",
            "      season         player pos team_id  award_share was_mvp  is_smote\n",
            "4831    2015  Stephen Curry  PG     GSW        0.922    True     False\n",
            "2446    2015   James Harden  SG     HOU        0.720   False     False\n",
            "3420    2015  Anthony Davis  PF     NOP        0.156   False     False\n",
            "Predicted MVP: Stephen Curry\n",
            "Predicted Win Share: 0.5937492774899511\n",
            "Was MVP correct: True\n",
            "\n",
            "\n",
            "Season: 2000\n"
          ]
        },
        {
          "output_type": "stream",
          "name": "stderr",
          "text": [
            "/usr/local/lib/python3.10/dist-packages/sklearn/base.py:432: UserWarning: X has feature names, but RandomForestRegressor was fitted without feature names\n",
            "  warnings.warn(\n"
          ]
        },
        {
          "output_type": "stream",
          "name": "stdout",
          "text": [
            "MAE: 0.00944901571057967\n",
            "Predicted top three players in MVP voting with their actual award_share:\n",
            "      season            player pos team_id  award_share was_mvp  is_smote\n",
            "4614    2000  Shaquille O'Neal   C     LAL        0.998    True     False\n",
            "1616    2000       Karl Malone  PF     UTA        0.258   False     False\n",
            "4933    2000     Kevin Garnett  PF     MIN        0.337   False     False\n",
            "Predicted MVP: Shaquille O'Neal\n",
            "Predicted Win Share: 0.9488342059660327\n",
            "Was MVP correct: True\n",
            "\n",
            "\n",
            "Season: 2009\n"
          ]
        },
        {
          "output_type": "stream",
          "name": "stderr",
          "text": [
            "/usr/local/lib/python3.10/dist-packages/sklearn/base.py:432: UserWarning: X has feature names, but RandomForestRegressor was fitted without feature names\n",
            "  warnings.warn(\n"
          ]
        },
        {
          "output_type": "stream",
          "name": "stdout",
          "text": [
            "MAE: 0.013159309564295056\n",
            "Predicted top three players in MVP voting with their actual award_share:\n",
            "      season         player pos team_id  award_share was_mvp  is_smote\n",
            "730     2009   LeBron James  SF     CLE        0.969    True     False\n",
            "2286    2009    Dwyane Wade  SG     MIA        0.562   False     False\n",
            "5507    2009  Dwight Howard   C     ORL        0.271   False     False\n",
            "Predicted MVP: LeBron James\n",
            "Predicted Win Share: 0.9129637668352106\n",
            "Was MVP correct: True\n",
            "\n",
            "\n",
            "Season: 1997\n"
          ]
        },
        {
          "output_type": "stream",
          "name": "stderr",
          "text": [
            "/usr/local/lib/python3.10/dist-packages/sklearn/base.py:432: UserWarning: X has feature names, but RandomForestRegressor was fitted without feature names\n",
            "  warnings.warn(\n"
          ]
        },
        {
          "output_type": "stream",
          "name": "stdout",
          "text": [
            "MAE: 0.013363908947109334\n",
            "Predicted top three players in MVP voting with their actual award_share:\n",
            "      season          player pos team_id  award_share was_mvp  is_smote\n",
            "3820    1997  Michael Jordan  SG     CHI        0.832   False     False\n",
            "1979    1997     Karl Malone  PF     UTA        0.857    True     False\n",
            "5825    1997      Grant Hill  SF     DET        0.327   False     False\n",
            "Predicted MVP: Michael Jordan\n",
            "Predicted Win Share: 0.8496395908994271\n",
            "Was MVP correct: False\n",
            "\n",
            "\n",
            "Season: 2008\n"
          ]
        },
        {
          "output_type": "stream",
          "name": "stderr",
          "text": [
            "/usr/local/lib/python3.10/dist-packages/sklearn/base.py:432: UserWarning: X has feature names, but RandomForestRegressor was fitted without feature names\n",
            "  warnings.warn(\n"
          ]
        },
        {
          "output_type": "stream",
          "name": "stdout",
          "text": [
            "MAE: 0.024159406427239422\n",
            "Predicted top three players in MVP voting with their actual award_share:\n",
            "      season        player pos team_id  award_share was_mvp  is_smote\n",
            "3312    2008  LeBron James  SF     CLE        0.348   False     False\n",
            "130     2008    Chris Paul  PG     NOH        0.710   False     False\n",
            "6985    2008   Kobe Bryant  SG     LAL        0.873    True     False\n",
            "Predicted MVP: LeBron James\n",
            "Predicted Win Share: 0.5571566368001176\n",
            "Was MVP correct: False\n",
            "\n",
            "\n",
            "Season: 2011\n"
          ]
        },
        {
          "output_type": "stream",
          "name": "stderr",
          "text": [
            "/usr/local/lib/python3.10/dist-packages/sklearn/base.py:432: UserWarning: X has feature names, but RandomForestRegressor was fitted without feature names\n",
            "  warnings.warn(\n"
          ]
        },
        {
          "output_type": "stream",
          "name": "stdout",
          "text": [
            "MAE: 0.015843682409227552\n",
            "Predicted top three players in MVP voting with their actual award_share:\n",
            "      season         player pos team_id  award_share was_mvp  is_smote\n",
            "6608    2011   Derrick Rose  PG     CHI        0.977    True     False\n",
            "1950    2011   LeBron James  SF     MIA        0.431   False     False\n",
            "115     2011  Dwight Howard   C     ORL        0.531   False     False\n",
            "Predicted MVP: Derrick Rose\n",
            "Predicted Win Share: 0.7057497995536994\n",
            "Was MVP correct: True\n",
            "\n",
            "\n",
            "Season: 2005\n"
          ]
        },
        {
          "output_type": "stream",
          "name": "stderr",
          "text": [
            "/usr/local/lib/python3.10/dist-packages/sklearn/base.py:432: UserWarning: X has feature names, but RandomForestRegressor was fitted without feature names\n",
            "  warnings.warn(\n"
          ]
        },
        {
          "output_type": "stream",
          "name": "stdout",
          "text": [
            "MAE: 0.022603846994893102\n",
            "Predicted top three players in MVP voting with their actual award_share:\n",
            "      season             player pos team_id  award_share was_mvp  is_smote\n",
            "4424    2005         Steve Nash  PG     PHO        0.839    True     False\n",
            "1124    2005  Amar'e Stoudemire   C     PHO        0.032   False     False\n",
            "439     2005       LeBron James  SF     CLE        0.073   False     False\n",
            "Predicted MVP: Steve Nash\n",
            "Predicted Win Share: 0.5316252560171164\n",
            "Was MVP correct: True\n",
            "\n",
            "\n",
            "Season: 2012\n"
          ]
        },
        {
          "output_type": "stream",
          "name": "stderr",
          "text": [
            "/usr/local/lib/python3.10/dist-packages/sklearn/base.py:432: UserWarning: X has feature names, but RandomForestRegressor was fitted without feature names\n",
            "  warnings.warn(\n"
          ]
        },
        {
          "output_type": "stream",
          "name": "stdout",
          "text": [
            "MAE: 0.021447358461181183\n",
            "Predicted top three players in MVP voting with their actual award_share:\n",
            "      season        player pos team_id  award_share was_mvp  is_smote\n",
            "7106    2012  LeBron James  SF     MIA        0.888    True     False\n",
            "3028    2012  Kevin Durant  SF     OKC        0.735   False     False\n",
            "5017    2012  Derrick Rose  PG     CHI        0.004   False     False\n",
            "Predicted MVP: LeBron James\n",
            "Predicted Win Share: 0.6407619785395814\n",
            "Was MVP correct: True\n",
            "\n",
            "\n",
            "Season: 1983\n"
          ]
        },
        {
          "output_type": "stream",
          "name": "stderr",
          "text": [
            "/usr/local/lib/python3.10/dist-packages/sklearn/base.py:432: UserWarning: X has feature names, but RandomForestRegressor was fitted without feature names\n",
            "  warnings.warn(\n"
          ]
        },
        {
          "output_type": "stream",
          "name": "stdout",
          "text": [
            "MAE: 0.01434007971032541\n",
            "Predicted top three players in MVP voting with their actual award_share:\n",
            "      season         player pos team_id  award_share was_mvp  is_smote\n",
            "224     1983   Moses Malone   C     PHI        0.960    True     False\n",
            "7221    1983     Larry Bird  PF     BOS        0.485   False     False\n",
            "2457    1983  Magic Johnson  SG     LAL        0.406   False     False\n",
            "Predicted MVP: Moses Malone\n",
            "Predicted Win Share: 0.6777701098424221\n",
            "Was MVP correct: True\n",
            "\n",
            "\n",
            "Season: 1992\n"
          ]
        },
        {
          "output_type": "stream",
          "name": "stderr",
          "text": [
            "/usr/local/lib/python3.10/dist-packages/sklearn/base.py:432: UserWarning: X has feature names, but RandomForestRegressor was fitted without feature names\n",
            "  warnings.warn(\n"
          ]
        },
        {
          "output_type": "stream",
          "name": "stdout",
          "text": [
            "MAE: 0.013251016098331417\n",
            "Predicted top three players in MVP voting with their actual award_share:\n",
            "      season          player pos team_id  award_share was_mvp  is_smote\n",
            "897     1992  Michael Jordan  SG     CHI        0.938    True     False\n",
            "4390    1992     Karl Malone  PF     UTA        0.273   False     False\n",
            "458     1992   Clyde Drexler  SG     POR        0.584   False     False\n",
            "Predicted MVP: Michael Jordan\n",
            "Predicted Win Share: 0.8818403649591855\n",
            "Was MVP correct: True\n",
            "\n",
            "\n",
            "Season: 1989\n"
          ]
        },
        {
          "output_type": "stream",
          "name": "stderr",
          "text": [
            "/usr/local/lib/python3.10/dist-packages/sklearn/base.py:432: UserWarning: X has feature names, but RandomForestRegressor was fitted without feature names\n",
            "  warnings.warn(\n"
          ]
        },
        {
          "output_type": "stream",
          "name": "stdout",
          "text": [
            "MAE: 0.012713348527374267\n",
            "Predicted top three players in MVP voting with their actual award_share:\n",
            "      season          player pos team_id  award_share was_mvp  is_smote\n",
            "411     1989  Michael Jordan  SG     CHI        0.704   False     False\n",
            "3225    1989   Magic Johnson  PG     LAL        0.782    True     False\n",
            "7675    1989     Karl Malone  PF     UTA        0.426   False     False\n",
            "Predicted MVP: Michael Jordan\n",
            "Predicted Win Share: 0.7320456394408253\n",
            "Was MVP correct: False\n",
            "\n",
            "\n",
            "Season: 1999\n"
          ]
        },
        {
          "output_type": "stream",
          "name": "stderr",
          "text": [
            "/usr/local/lib/python3.10/dist-packages/sklearn/base.py:432: UserWarning: X has feature names, but RandomForestRegressor was fitted without feature names\n",
            "  warnings.warn(\n"
          ]
        },
        {
          "output_type": "stream",
          "name": "stdout",
          "text": [
            "MAE: 0.02280435436480757\n",
            "Predicted top three players in MVP voting with their actual award_share:\n",
            "      season            player pos team_id  award_share was_mvp  is_smote\n",
            "1546    1999       Karl Malone  PF     UTA        0.701    True     False\n",
            "2423    1999  Shaquille O'Neal   C     LAL        0.075   False     False\n",
            "5609    1999   Alonzo Mourning   C     MIA        0.655   False     False\n",
            "Predicted MVP: Karl Malone\n",
            "Predicted Win Share: 0.26480415697929394\n",
            "Was MVP correct: True\n",
            "\n",
            "\n",
            "Season: 2010\n"
          ]
        },
        {
          "output_type": "stream",
          "name": "stderr",
          "text": [
            "/usr/local/lib/python3.10/dist-packages/sklearn/base.py:432: UserWarning: X has feature names, but RandomForestRegressor was fitted without feature names\n",
            "  warnings.warn(\n"
          ]
        },
        {
          "output_type": "stream",
          "name": "stdout",
          "text": [
            "MAE: 0.014184717206736617\n",
            "Predicted top three players in MVP voting with their actual award_share:\n",
            "      season         player pos team_id  award_share was_mvp  is_smote\n",
            "754     2010   LeBron James  SF     CLE        0.980    True     False\n",
            "821     2010   Kevin Durant  SF     OKC        0.495   False     False\n",
            "3767    2010  Dwight Howard   C     ORL        0.389   False     False\n",
            "Predicted MVP: LeBron James\n",
            "Predicted Win Share: 0.9127775069557735\n",
            "Was MVP correct: True\n",
            "\n",
            "\n",
            "Season: 2001\n"
          ]
        },
        {
          "output_type": "stream",
          "name": "stderr",
          "text": [
            "/usr/local/lib/python3.10/dist-packages/sklearn/base.py:432: UserWarning: X has feature names, but RandomForestRegressor was fitted without feature names\n",
            "  warnings.warn(\n"
          ]
        },
        {
          "output_type": "stream",
          "name": "stdout",
          "text": [
            "MAE: 0.021682751585739027\n",
            "Predicted top three players in MVP voting with their actual award_share:\n",
            "      season            player pos team_id  award_share was_mvp  is_smote\n",
            "1287    2001     Allen Iverson  SG     PHI        0.904    True     False\n",
            "3994    2001  Shaquille O'Neal   C     LAL        0.466   False     False\n",
            "2718    2001        Tim Duncan  PF     SAS        0.569   False     False\n",
            "Predicted MVP: Allen Iverson\n",
            "Predicted Win Share: 0.5374201384272523\n",
            "Was MVP correct: True\n",
            "\n",
            "\n",
            "Season: 2013\n"
          ]
        },
        {
          "output_type": "stream",
          "name": "stderr",
          "text": [
            "/usr/local/lib/python3.10/dist-packages/sklearn/base.py:432: UserWarning: X has feature names, but RandomForestRegressor was fitted without feature names\n",
            "  warnings.warn(\n"
          ]
        },
        {
          "output_type": "stream",
          "name": "stdout",
          "text": [
            "MAE: 0.011983794572209378\n",
            "Predicted top three players in MVP voting with their actual award_share:\n",
            "      season        player pos team_id  award_share was_mvp  is_smote\n",
            "325     2013  LeBron James  PF     MIA        0.998    True     False\n",
            "992     2013  Kevin Durant  SF     OKC        0.632   False     False\n",
            "5738    2013    Chris Paul  PG     LAC        0.239   False     False\n",
            "Predicted MVP: LeBron James\n",
            "Predicted Win Share: 0.8687664134332185\n",
            "Was MVP correct: True\n",
            "\n",
            "\n",
            "Season: 2014\n"
          ]
        },
        {
          "output_type": "stream",
          "name": "stderr",
          "text": [
            "/usr/local/lib/python3.10/dist-packages/sklearn/base.py:432: UserWarning: X has feature names, but RandomForestRegressor was fitted without feature names\n",
            "  warnings.warn(\n"
          ]
        },
        {
          "output_type": "stream",
          "name": "stdout",
          "text": [
            "MAE: 0.015160404363687008\n",
            "Predicted top three players in MVP voting with their actual award_share:\n",
            "      season        player pos team_id  award_share was_mvp  is_smote\n",
            "7194    2014  Kevin Durant  SF     OKC        0.986    True     False\n",
            "2567    2014  LeBron James  PF     MIA        0.713   False     False\n",
            "2489    2014    Kevin Love  PF     MIN        0.020   False     False\n",
            "Predicted MVP: Kevin Durant\n",
            "Predicted Win Share: 0.8026128895198491\n",
            "Was MVP correct: True\n",
            "\n",
            "\n",
            "Season: 2006\n"
          ]
        },
        {
          "output_type": "stream",
          "name": "stderr",
          "text": [
            "/usr/local/lib/python3.10/dist-packages/sklearn/base.py:432: UserWarning: X has feature names, but RandomForestRegressor was fitted without feature names\n",
            "  warnings.warn(\n"
          ]
        },
        {
          "output_type": "stream",
          "name": "stdout",
          "text": [
            "MAE: 0.025356586021748874\n",
            "Predicted top three players in MVP voting with their actual award_share:\n",
            "      season         player pos team_id  award_share was_mvp  is_smote\n",
            "1438    2006  Dirk Nowitzki  PF     DAL        0.435   False     False\n",
            "6832    2006   LeBron James  SF     CLE        0.550   False     False\n",
            "1189    2006    Kobe Bryant  SG     LAL        0.386   False     False\n",
            "Predicted MVP: Dirk Nowitzki\n",
            "Predicted Win Share: 0.5794104127126373\n",
            "Was MVP correct: False\n",
            "\n",
            "\n",
            "Season: 1995\n"
          ]
        },
        {
          "output_type": "stream",
          "name": "stderr",
          "text": [
            "/usr/local/lib/python3.10/dist-packages/sklearn/base.py:432: UserWarning: X has feature names, but RandomForestRegressor was fitted without feature names\n",
            "  warnings.warn(\n"
          ]
        },
        {
          "output_type": "stream",
          "name": "stdout",
          "text": [
            "MAE: 0.009911041904450612\n",
            "Predicted top three players in MVP voting with their actual award_share:\n",
            "      season            player pos team_id  award_share was_mvp  is_smote\n",
            "6624    1995    David Robinson   C     SAS        0.858    True     False\n",
            "7410    1995       Karl Malone  PF     UTA        0.507   False     False\n",
            "4723    1995  Shaquille O'Neal   C     ORL        0.576   False     False\n",
            "Predicted MVP: David Robinson\n",
            "Predicted Win Share: 0.7918043535059348\n",
            "Was MVP correct: True\n",
            "\n",
            "\n",
            "Season: 1986\n"
          ]
        },
        {
          "output_type": "stream",
          "name": "stderr",
          "text": [
            "/usr/local/lib/python3.10/dist-packages/sklearn/base.py:432: UserWarning: X has feature names, but RandomForestRegressor was fitted without feature names\n",
            "  warnings.warn(\n"
          ]
        },
        {
          "output_type": "stream",
          "name": "stdout",
          "text": [
            "MAE: 0.01441129949308771\n",
            "Predicted top three players in MVP voting with their actual award_share:\n",
            "      season             player pos team_id  award_share was_mvp  is_smote\n",
            "7037    1986         Larry Bird  SF     BOS        0.981    True     False\n",
            "164     1986      Magic Johnson  PG     LAL        0.263   False     False\n",
            "7266    1986  Dominique Wilkins  SF     ATL        0.522   False     False\n",
            "Predicted MVP: Larry Bird\n",
            "Predicted Win Share: 0.7529706496553484\n",
            "Was MVP correct: True\n",
            "\n",
            "\n",
            "Season: 1984\n"
          ]
        },
        {
          "output_type": "stream",
          "name": "stderr",
          "text": [
            "/usr/local/lib/python3.10/dist-packages/sklearn/base.py:432: UserWarning: X has feature names, but RandomForestRegressor was fitted without feature names\n",
            "  warnings.warn(\n"
          ]
        },
        {
          "output_type": "stream",
          "name": "stdout",
          "text": [
            "MAE: 0.016692525835546097\n",
            "Predicted top three players in MVP voting with their actual award_share:\n",
            "      season          player pos team_id  award_share was_mvp  is_smote\n",
            "3022    1984      Larry Bird  PF     BOS        0.858    True     False\n",
            "2636    1984   Magic Johnson  PG     LAL        0.401   False     False\n",
            "4493    1984  Adrian Dantley  SF     UTA        0.116   False     False\n",
            "Predicted MVP: Larry Bird\n",
            "Predicted Win Share: 0.5581096221704088\n",
            "Was MVP correct: True\n",
            "\n",
            "\n",
            "Season: 1985\n"
          ]
        },
        {
          "output_type": "stream",
          "name": "stderr",
          "text": [
            "/usr/local/lib/python3.10/dist-packages/sklearn/base.py:432: UserWarning: X has feature names, but RandomForestRegressor was fitted without feature names\n",
            "  warnings.warn(\n"
          ]
        },
        {
          "output_type": "stream",
          "name": "stdout",
          "text": [
            "MAE: 0.01214417478203241\n",
            "Predicted top three players in MVP voting with their actual award_share:\n",
            "      season          player pos team_id  award_share was_mvp  is_smote\n",
            "1752    1985      Larry Bird  SF     BOS        0.978    True     False\n",
            "3612    1985   Magic Johnson  PG     LAL        0.338   False     False\n",
            "1443    1985  Michael Jordan  SG     CHI        0.172   False     False\n",
            "Predicted MVP: Larry Bird\n",
            "Predicted Win Share: 0.7346333894078725\n",
            "Was MVP correct: True\n",
            "\n",
            "\n",
            "Season: 2018\n"
          ]
        },
        {
          "output_type": "stream",
          "name": "stderr",
          "text": [
            "/usr/local/lib/python3.10/dist-packages/sklearn/base.py:432: UserWarning: X has feature names, but RandomForestRegressor was fitted without feature names\n",
            "  warnings.warn(\n"
          ]
        },
        {
          "output_type": "stream",
          "name": "stdout",
          "text": [
            "MAE: 0.018883325874634246\n",
            "Predicted top three players in MVP voting with their actual award_share:\n",
            "      season         player pos team_id  award_share was_mvp  is_smote\n",
            "1052    2018   James Harden  SG     HOU        0.955    True     False\n",
            "2049    2018   LeBron James  PF     CLE        0.731   False     False\n",
            "2011    2018  Anthony Davis  PF     NOP        0.441   False     False\n",
            "Predicted MVP: James Harden\n",
            "Predicted Win Share: 0.7277731688114963\n",
            "Was MVP correct: True\n",
            "\n",
            "\n",
            "Season: 2021\n"
          ]
        },
        {
          "output_type": "stream",
          "name": "stderr",
          "text": [
            "/usr/local/lib/python3.10/dist-packages/sklearn/base.py:432: UserWarning: X has feature names, but RandomForestRegressor was fitted without feature names\n",
            "  warnings.warn(\n"
          ]
        },
        {
          "output_type": "stream",
          "name": "stdout",
          "text": [
            "MAE: 0.01882625367164558\n",
            "Predicted top three players in MVP voting with their actual award_share:\n",
            "      season                 player pos team_id  award_share was_mvp  is_smote\n",
            "3745    2021           Nikola Jokić   C     DEN        0.961    True     False\n",
            "4264    2021  Giannis Antetokounmpo  PF     MIL        0.345   False     False\n",
            "4438    2021          Stephen Curry  PG     GSW        0.449   False     False\n",
            "Predicted MVP: Nikola Jokić\n",
            "Predicted Win Share: 0.866389037390362\n",
            "Was MVP correct: True\n",
            "\n",
            "\n",
            "Season: 2003\n"
          ]
        },
        {
          "output_type": "stream",
          "name": "stderr",
          "text": [
            "/usr/local/lib/python3.10/dist-packages/sklearn/base.py:432: UserWarning: X has feature names, but RandomForestRegressor was fitted without feature names\n",
            "  warnings.warn(\n"
          ]
        },
        {
          "output_type": "stream",
          "name": "stdout",
          "text": [
            "MAE: 0.016036437822028227\n",
            "Predicted top three players in MVP voting with their actual award_share:\n",
            "      season         player pos team_id  award_share was_mvp  is_smote\n",
            "5016    2003     Tim Duncan  PF     SAS        0.808    True     False\n",
            "3581    2003  Tracy McGrady  SG     ORL        0.359   False     False\n",
            "3074    2003  Dirk Nowitzki  PF     DAL        0.036   False     False\n",
            "Predicted MVP: Tim Duncan\n",
            "Predicted Win Share: 0.6871912417487667\n",
            "Was MVP correct: True\n",
            "\n",
            "\n",
            "Season: 2007\n"
          ]
        },
        {
          "output_type": "stream",
          "name": "stderr",
          "text": [
            "/usr/local/lib/python3.10/dist-packages/sklearn/base.py:432: UserWarning: X has feature names, but RandomForestRegressor was fitted without feature names\n",
            "  warnings.warn(\n"
          ]
        },
        {
          "output_type": "stream",
          "name": "stdout",
          "text": [
            "MAE: 0.01746702976018116\n",
            "Predicted top three players in MVP voting with their actual award_share:\n",
            "      season         player pos team_id  award_share was_mvp  is_smote\n",
            "7493    2007     Steve Nash  PG     PHO        0.785   False     False\n",
            "2510    2007  Dirk Nowitzki  PF     DAL        0.882    True     False\n",
            "1699    2007   LeBron James  SF     CLE        0.142   False     False\n",
            "Predicted MVP: Steve Nash\n",
            "Predicted Win Share: 0.5823984346096639\n",
            "Was MVP correct: False\n",
            "\n",
            "\n",
            "Season: 1998\n"
          ]
        },
        {
          "output_type": "stream",
          "name": "stderr",
          "text": [
            "/usr/local/lib/python3.10/dist-packages/sklearn/base.py:432: UserWarning: X has feature names, but RandomForestRegressor was fitted without feature names\n",
            "  warnings.warn(\n"
          ]
        },
        {
          "output_type": "stream",
          "name": "stdout",
          "text": [
            "MAE: 0.012168591287466168\n",
            "Predicted top three players in MVP voting with their actual award_share:\n",
            "      season          player pos team_id  award_share was_mvp  is_smote\n",
            "4999    1998     Karl Malone  PF     UTA        0.726   False     False\n",
            "5222    1998  Michael Jordan  SG     CHI        0.934    True     False\n",
            "7299    1998  David Robinson   C     SAS        0.031   False     False\n",
            "Predicted MVP: Karl Malone\n",
            "Predicted Win Share: 0.7085614296296281\n",
            "Was MVP correct: False\n",
            "\n",
            "\n",
            "Season: 1994\n"
          ]
        },
        {
          "output_type": "stream",
          "name": "stderr",
          "text": [
            "/usr/local/lib/python3.10/dist-packages/sklearn/base.py:432: UserWarning: X has feature names, but RandomForestRegressor was fitted without feature names\n",
            "  warnings.warn(\n"
          ]
        },
        {
          "output_type": "stream",
          "name": "stdout",
          "text": [
            "MAE: 0.015045546379251741\n",
            "Predicted top three players in MVP voting with their actual award_share:\n",
            "      season            player pos team_id  award_share was_mvp  is_smote\n",
            "5546    1994    David Robinson   C     SAS        0.723   False     False\n",
            "6315    1994   Hakeem Olajuwon   C     HOU        0.880    True     False\n",
            "7310    1994  Shaquille O'Neal   C     ORL        0.286   False     False\n",
            "Predicted MVP: David Robinson\n",
            "Predicted Win Share: 0.7661221419636073\n",
            "Was MVP correct: False\n",
            "\n",
            "\n",
            "Season: 2002\n"
          ]
        },
        {
          "output_type": "stream",
          "name": "stderr",
          "text": [
            "/usr/local/lib/python3.10/dist-packages/sklearn/base.py:432: UserWarning: X has feature names, but RandomForestRegressor was fitted without feature names\n",
            "  warnings.warn(\n"
          ]
        },
        {
          "output_type": "stream",
          "name": "stdout",
          "text": [
            "MAE: 0.018213397161384755\n",
            "Predicted top three players in MVP voting with their actual award_share:\n",
            "      season            player pos team_id  award_share was_mvp  is_smote\n",
            "6925    2002        Tim Duncan  PF     SAS        0.757    True     False\n",
            "7141    2002        Jason Kidd  PG     NJN        0.712   False     False\n",
            "5803    2002  Shaquille O'Neal   C     LAL        0.552   False     False\n",
            "Predicted MVP: Tim Duncan\n",
            "Predicted Win Share: 0.5629310342672648\n",
            "Was MVP correct: True\n",
            "\n",
            "\n",
            "Season: 1990\n"
          ]
        },
        {
          "output_type": "stream",
          "name": "stderr",
          "text": [
            "/usr/local/lib/python3.10/dist-packages/sklearn/base.py:432: UserWarning: X has feature names, but RandomForestRegressor was fitted without feature names\n",
            "  warnings.warn(\n"
          ]
        },
        {
          "output_type": "stream",
          "name": "stdout",
          "text": [
            "MAE: 0.019498750819522986\n",
            "Predicted top three players in MVP voting with their actual award_share:\n",
            "      season           player pos team_id  award_share was_mvp  is_smote\n",
            "5316    1990   Michael Jordan  SG     CHI        0.613   False     False\n",
            "7159    1990    Magic Johnson  PG     LAL        0.691    True     False\n",
            "7259    1990  Charles Barkley  SF     PHI        0.667   False     False\n",
            "Predicted MVP: Michael Jordan\n",
            "Predicted Win Share: 0.7243189499101288\n",
            "Was MVP correct: False\n",
            "\n",
            "\n",
            "Season: 2004\n"
          ]
        },
        {
          "output_type": "stream",
          "name": "stderr",
          "text": [
            "/usr/local/lib/python3.10/dist-packages/sklearn/base.py:432: UserWarning: X has feature names, but RandomForestRegressor was fitted without feature names\n",
            "  warnings.warn(\n"
          ]
        },
        {
          "output_type": "stream",
          "name": "stdout",
          "text": [
            "MAE: 0.01688655819314001\n",
            "Predicted top three players in MVP voting with their actual award_share:\n",
            "      season            player pos team_id  award_share was_mvp  is_smote\n",
            "1761    2004     Kevin Garnett  PF     MIN        0.991    True     False\n",
            "4361    2004        Tim Duncan  PF     SAS        0.582   False     False\n",
            "5437    2004  Shaquille O'Neal   C     LAL        0.145   False     False\n",
            "Predicted MVP: Kevin Garnett\n",
            "Predicted Win Share: 0.7248407893799876\n",
            "Was MVP correct: True\n",
            "\n",
            "\n",
            "Season: 2016\n"
          ]
        },
        {
          "output_type": "stream",
          "name": "stderr",
          "text": [
            "/usr/local/lib/python3.10/dist-packages/sklearn/base.py:432: UserWarning: X has feature names, but RandomForestRegressor was fitted without feature names\n",
            "  warnings.warn(\n"
          ]
        },
        {
          "output_type": "stream",
          "name": "stdout",
          "text": [
            "MAE: 0.015829685126958596\n",
            "Predicted top three players in MVP voting with their actual award_share:\n",
            "      season         player pos team_id  award_share was_mvp  is_smote\n",
            "852     2016  Stephen Curry  PG     GSW        1.000    True     False\n",
            "6676    2016   Kevin Durant  SF     OKC        0.112   False     False\n",
            "3322    2016   LeBron James  SF     CLE        0.482   False     False\n",
            "Predicted MVP: Stephen Curry\n",
            "Predicted Win Share: 0.8406365013285096\n",
            "Was MVP correct: True\n",
            "\n",
            "\n",
            "Season: 2020\n"
          ]
        },
        {
          "output_type": "stream",
          "name": "stderr",
          "text": [
            "/usr/local/lib/python3.10/dist-packages/sklearn/base.py:432: UserWarning: X has feature names, but RandomForestRegressor was fitted without feature names\n",
            "  warnings.warn(\n"
          ]
        },
        {
          "output_type": "stream",
          "name": "stdout",
          "text": [
            "MAE: 0.01630722847527696\n",
            "Predicted top three players in MVP voting with their actual award_share:\n",
            "      season                 player pos team_id  award_share was_mvp  is_smote\n",
            "3813    2020           LeBron James  PG     LAL        0.746   False     False\n",
            "3574    2020  Giannis Antetokounmpo  PF     MIL        0.952    True     False\n",
            "5666    2020           James Harden  SG     HOU        0.363   False     False\n",
            "Predicted MVP: LeBron James\n",
            "Predicted Win Share: 0.5066174881715131\n",
            "Was MVP correct: False\n",
            "\n",
            "\n",
            "Season: 1982\n"
          ]
        },
        {
          "output_type": "stream",
          "name": "stderr",
          "text": [
            "/usr/local/lib/python3.10/dist-packages/sklearn/base.py:432: UserWarning: X has feature names, but RandomForestRegressor was fitted without feature names\n",
            "  warnings.warn(\n"
          ]
        },
        {
          "output_type": "stream",
          "name": "stdout",
          "text": [
            "MAE: 0.018983363474200116\n",
            "Predicted top three players in MVP voting with their actual award_share:\n",
            "      season         player pos team_id  award_share was_mvp  is_smote\n",
            "3857    1982  Julius Erving  SF     PHI        0.294   False     False\n",
            "4810    1982   Moses Malone   C     HOU        0.735    True     False\n",
            "1496    1982     Larry Bird  PF     BOS        0.588   False     False\n",
            "Predicted MVP: Julius Erving\n",
            "Predicted Win Share: 0.35400120500166177\n",
            "Was MVP correct: False\n",
            "\n",
            "\n",
            "Season: 1988\n",
            "MAE: 0.014170620934204504\n",
            "Predicted top three players in MVP voting with their actual award_share:\n",
            "      season          player pos team_id  award_share was_mvp  is_smote\n",
            "5122    1988  Michael Jordan  SG     CHI        0.831    True     False\n",
            "6199    1988      Larry Bird  SF     BOS        0.659   False     False\n",
            "5605    1988   Magic Johnson  PG     LAL        0.635   False     False\n",
            "Predicted MVP: Michael Jordan\n",
            "Predicted Win Share: 0.7265518501271768\n",
            "Was MVP correct: True\n"
          ]
        },
        {
          "output_type": "stream",
          "name": "stderr",
          "text": [
            "/usr/local/lib/python3.10/dist-packages/sklearn/base.py:432: UserWarning: X has feature names, but RandomForestRegressor was fitted without feature names\n",
            "  warnings.warn(\n"
          ]
        }
      ]
    },
    {
      "cell_type": "code",
      "source": [
        "print(f\"The Random Forest Model predicted the NBA MVP correctly {sum(validation_scores['was_mvp'])/len(seasons)}% of the time\")\n",
        "print(f\"The Random Forest Model predicted the NBA MVP correctly in the top two {sum(validation_scores['was_top_two'])/len(seasons)}% of the time\")\n",
        "print(f\"The Random Forest Model predicted the NBA MVP correctly in the top three {sum(validation_scores['was_top_three'])/len(seasons)}% of the time\")"
      ],
      "metadata": {
        "id": "oYcxQv_M-PdF",
        "colab": {
          "base_uri": "https://localhost:8080/"
        },
        "outputId": "ba1753e8-6eb0-476c-e747-e410cf312759"
      },
      "execution_count": null,
      "outputs": [
        {
          "output_type": "stream",
          "name": "stdout",
          "text": [
            "The Random Forest Model predicted the NBA MVP correctly 0.725% of the time\n",
            "The Random Forest Model predicted the NBA MVP correctly in the top two 0.975% of the time\n",
            "The Random Forest Model predicted the NBA MVP correctly in the top three 0.975% of the time\n"
          ]
        }
      ]
    },
    {
      "cell_type": "markdown",
      "source": [
        "Подбор гиперпараметров с помощью optuna для какого-то одного сезона"
      ],
      "metadata": {
        "id": "iY8Heu4vCBuv"
      }
    },
    {
      "cell_type": "code",
      "source": [
        "!pip install optuna"
      ],
      "metadata": {
        "id": "BSiexUp0DVpw",
        "colab": {
          "base_uri": "https://localhost:8080/"
        },
        "outputId": "a5312bc0-686f-4f44-811d-4e8c7b43d390"
      },
      "execution_count": null,
      "outputs": [
        {
          "output_type": "stream",
          "name": "stdout",
          "text": [
            "Looking in indexes: https://pypi.org/simple, https://us-python.pkg.dev/colab-wheels/public/simple/\n",
            "Collecting optuna\n",
            "  Downloading optuna-3.1.1-py3-none-any.whl (365 kB)\n",
            "\u001b[2K     \u001b[90m━━━━━━━━━━━━━━━━━━━━━━━━━━━━━━━━━━━━━━━\u001b[0m \u001b[32m365.7/365.7 kB\u001b[0m \u001b[31m7.0 MB/s\u001b[0m eta \u001b[36m0:00:00\u001b[0m\n",
            "\u001b[?25hCollecting alembic>=1.5.0 (from optuna)\n",
            "  Downloading alembic-1.10.4-py3-none-any.whl (212 kB)\n",
            "\u001b[2K     \u001b[90m━━━━━━━━━━━━━━━━━━━━━━━━━━━━━━━━━━━━━━\u001b[0m \u001b[32m212.9/212.9 kB\u001b[0m \u001b[31m17.5 MB/s\u001b[0m eta \u001b[36m0:00:00\u001b[0m\n",
            "\u001b[?25hCollecting cmaes>=0.9.1 (from optuna)\n",
            "  Downloading cmaes-0.9.1-py3-none-any.whl (21 kB)\n",
            "Collecting colorlog (from optuna)\n",
            "  Downloading colorlog-6.7.0-py2.py3-none-any.whl (11 kB)\n",
            "Requirement already satisfied: numpy in /usr/local/lib/python3.10/dist-packages (from optuna) (1.22.4)\n",
            "Requirement already satisfied: packaging>=20.0 in /usr/local/lib/python3.10/dist-packages (from optuna) (23.1)\n",
            "Requirement already satisfied: sqlalchemy>=1.3.0 in /usr/local/lib/python3.10/dist-packages (from optuna) (2.0.10)\n",
            "Requirement already satisfied: tqdm in /usr/local/lib/python3.10/dist-packages (from optuna) (4.65.0)\n",
            "Requirement already satisfied: PyYAML in /usr/local/lib/python3.10/dist-packages (from optuna) (6.0)\n",
            "Collecting Mako (from alembic>=1.5.0->optuna)\n",
            "  Downloading Mako-1.2.4-py3-none-any.whl (78 kB)\n",
            "\u001b[2K     \u001b[90m━━━━━━━━━━━━━━━━━━━━━━━━━━━━━━━━━━━━━━━━\u001b[0m \u001b[32m78.7/78.7 kB\u001b[0m \u001b[31m6.0 MB/s\u001b[0m eta \u001b[36m0:00:00\u001b[0m\n",
            "\u001b[?25hRequirement already satisfied: typing-extensions>=4 in /usr/local/lib/python3.10/dist-packages (from alembic>=1.5.0->optuna) (4.5.0)\n",
            "Requirement already satisfied: greenlet!=0.4.17 in /usr/local/lib/python3.10/dist-packages (from sqlalchemy>=1.3.0->optuna) (2.0.2)\n",
            "Requirement already satisfied: MarkupSafe>=0.9.2 in /usr/local/lib/python3.10/dist-packages (from Mako->alembic>=1.5.0->optuna) (2.1.2)\n",
            "Installing collected packages: Mako, colorlog, cmaes, alembic, optuna\n",
            "Successfully installed Mako-1.2.4 alembic-1.10.4 cmaes-0.9.1 colorlog-6.7.0 optuna-3.1.1\n"
          ]
        }
      ]
    },
    {
      "cell_type": "code",
      "source": [
        "#предсказываем для seasons[-20] без оптуны\n",
        "from sklearn.ensemble import RandomForestRegressor\n",
        "\n",
        "validation_scores = {\"season\" : [], \"mae\" : [], \"was_mvp\" : [], \"was_top_two\" : [], \"was_top_three\":[], \"info\" : []}\n",
        "seasons = trainInfo.season.unique()\n",
        "#какой-то случайный сезон\n",
        "season = seasons[-20]\n",
        "print(\"\\n\")\n",
        "print(f\"Season: {season}\")\n",
        "\n",
        "trainFold = trainData[trainInfo[\"season\"] != season]\n",
        "trainTarFold = trainTargets[trainInfo[\"season\"] != season]\n",
        "valFold = trainData[(trainInfo[\"season\"] == season) & (~trainInfo[\"is_smote\"])]\n",
        "valTarFold = trainTargets[(trainInfo[\"season\"] == season) & (~trainInfo[\"is_smote\"])]\n",
        "valInfo = trainInfo[(trainInfo[\"season\"] == season) & (~trainInfo[\"is_smote\"])]\n",
        "\n",
        "regr = RandomForestRegressor(max_depth = 7, random_state=0)\n",
        "regr.fit(trainFold.to_numpy(), trainTarFold.to_numpy()[:,0])\n",
        "\n",
        "valPred = regr.predict(valFold)\n",
        "mae = np.mean(np.absolute(valPred - valTarFold.to_numpy()[:,0]))\n",
        "\n",
        "print(f\"MAE: {mae}\")\n",
        "\n",
        "topTwo = valInfo.iloc[np.argsort(valPred)[-2:]]\n",
        "was_top_two = sum(topTwo[\"was_mvp\"]) > 0\n",
        "topThree = valInfo.iloc[np.argsort(valPred)[-3:]]\n",
        "was_top_three = sum(topThree[\"was_mvp\"]) > 0\n",
        "print(\"Predicted top three players in MVP voting with their actual award_share:\")\n",
        "print(topThree.iloc[::-1])\n",
        "\n",
        "\n",
        "mostVotes = np.argmax(valPred)\n",
        "score = np.amax(valPred)\n",
        "was_mvp = valInfo.iloc[[mostVotes]][\"was_mvp\"].values[0]\n",
        "player = valInfo.iloc[[mostVotes]][\"player\"].values[0]\n",
        "print(f\"Predicted MVP: {player}\")\n",
        "print(f\"Predicted Win Share: {score}\")\n",
        "print(f\"Was MVP correct: {was_mvp}\")\n",
        " \n",
        "validation_scores[\"season\"].append(season)\n",
        "validation_scores[\"mae\"].append(mae)\n",
        "validation_scores[\"was_mvp\"].append(was_mvp)\n",
        "validation_scores[\"was_top_two\"].append(was_top_three)\n",
        "validation_scores[\"was_top_three\"].append(was_top_three)\n",
        "validation_scores[\"info\"].append(valInfo.iloc[[mostVotes]])"
      ],
      "metadata": {
        "id": "vSESNr9ECIZ7",
        "colab": {
          "base_uri": "https://localhost:8080/"
        },
        "outputId": "628bc0ae-66b8-44c4-874e-08c1a7a15a5a"
      },
      "execution_count": null,
      "outputs": [
        {
          "output_type": "stream",
          "name": "stdout",
          "text": [
            "\n",
            "\n",
            "Season: 2013\n",
            "MAE: 0.011983794572209378\n",
            "Predicted top three players in MVP voting with their actual award_share:\n",
            "      season        player pos team_id  award_share was_mvp  is_smote\n",
            "325     2013  LeBron James  PF     MIA        0.998    True     False\n",
            "992     2013  Kevin Durant  SF     OKC        0.632   False     False\n",
            "5738    2013    Chris Paul  PG     LAC        0.239   False     False\n",
            "Predicted MVP: LeBron James\n",
            "Predicted Win Share: 0.8687664134332185\n",
            "Was MVP correct: True\n"
          ]
        },
        {
          "output_type": "stream",
          "name": "stderr",
          "text": [
            "/usr/local/lib/python3.10/dist-packages/sklearn/base.py:432: UserWarning: X has feature names, but RandomForestRegressor was fitted without feature names\n",
            "  warnings.warn(\n"
          ]
        }
      ]
    },
    {
      "cell_type": "code",
      "source": [
        "#подбор гиперпараметров с помощью оптуны\n",
        "import sklearn\n",
        "from sklearn.ensemble import RandomForestRegressor\n",
        "import optuna\n",
        "\n",
        "def object(trial):\n",
        "  seasons = trainInfo.season.unique()\n",
        "#какой-то случайный сезон\n",
        "  season = seasons[-20]\n",
        "  print(\"\\n\")\n",
        "  print(f\"Season: {season}\")\n",
        "  #гиперпараметры\n",
        "  n_est = trial.suggest_int('n_estimators', 2, 20)\n",
        "  max_depth = trial.suggest_int('max_depth', 1, 32, log=True)\n",
        "  min_split = trial.suggest_int('min_split', 2, 10)\n",
        "  min_leaf = trial.suggest_int('min_leaf', 1, 10)\n",
        "  #данные\n",
        "  trainFold = trainData[trainInfo[\"season\"] != season]\n",
        "  trainTarFold = trainTargets[trainInfo[\"season\"] != season]\n",
        "  #модель\n",
        "  regr = RandomForestRegressor(n_estimators=n_est, max_depth=max_depth, min_samples_leaf=min_leaf, min_samples_split=min_split)\n",
        "  #return sklearn.model_selection.cross_val_score(regr, trainFold, trainTarFold, n_jobs=-1, cv=3).mean(np.absolute(valPred - valTarFold.to_numpy()[:,0]))\n",
        "  return sklearn.model_selection.cross_val_score(regr, trainFold, trainTarFold, n_jobs=-1, cv=3).mean()\n"
      ],
      "metadata": {
        "id": "7JuG_rssXDJX"
      },
      "execution_count": null,
      "outputs": []
    },
    {
      "cell_type": "code",
      "source": [
        "study = optuna.create_study(direction='maximize')\n",
        "study.optimize(object, n_trials=50)\n",
        "\n",
        "trial = study.best_trial\n",
        "\n",
        "print('Accuracy: {}'.format(trial.value))\n",
        "print('Best hyperparametrs: {}'.format(trial.params))"
      ],
      "metadata": {
        "id": "iqadEPrte-FY",
        "colab": {
          "base_uri": "https://localhost:8080/"
        },
        "outputId": "e9067e27-dd1f-405c-9a3f-ae62de4e60de"
      },
      "execution_count": null,
      "outputs": [
        {
          "output_type": "stream",
          "name": "stderr",
          "text": [
            "\u001b[32m[I 2023-05-15 11:51:59,360]\u001b[0m A new study created in memory with name: no-name-cefd5aa6-207d-4694-9f0d-948e79fe2e9c\u001b[0m\n"
          ]
        },
        {
          "output_type": "stream",
          "name": "stdout",
          "text": [
            "\n",
            "\n",
            "Season: 2013\n"
          ]
        },
        {
          "output_type": "stream",
          "name": "stderr",
          "text": [
            "\u001b[32m[I 2023-05-15 11:52:05,092]\u001b[0m Trial 0 finished with value: 0.8105662126090188 and parameters: {'n_estimators': 9, 'max_depth': 25, 'min_split': 6, 'min_leaf': 10}. Best is trial 0 with value: 0.8105662126090188.\u001b[0m\n"
          ]
        },
        {
          "output_type": "stream",
          "name": "stdout",
          "text": [
            "\n",
            "\n",
            "Season: 2013\n"
          ]
        },
        {
          "output_type": "stream",
          "name": "stderr",
          "text": [
            "\u001b[32m[I 2023-05-15 11:52:16,927]\u001b[0m Trial 1 finished with value: 0.8547453504691037 and parameters: {'n_estimators': 19, 'max_depth': 17, 'min_split': 10, 'min_leaf': 3}. Best is trial 1 with value: 0.8547453504691037.\u001b[0m\n"
          ]
        },
        {
          "output_type": "stream",
          "name": "stdout",
          "text": [
            "\n",
            "\n",
            "Season: 2013\n"
          ]
        },
        {
          "output_type": "stream",
          "name": "stderr",
          "text": [
            "\u001b[32m[I 2023-05-15 11:52:18,293]\u001b[0m Trial 2 finished with value: 0.7764817477919772 and parameters: {'n_estimators': 5, 'max_depth': 6, 'min_split': 3, 'min_leaf': 7}. Best is trial 1 with value: 0.8547453504691037.\u001b[0m\n"
          ]
        },
        {
          "output_type": "stream",
          "name": "stdout",
          "text": [
            "\n",
            "\n",
            "Season: 2013\n"
          ]
        },
        {
          "output_type": "stream",
          "name": "stderr",
          "text": [
            "\u001b[32m[I 2023-05-15 11:52:22,045]\u001b[0m Trial 3 finished with value: 0.849919561958539 and parameters: {'n_estimators': 6, 'max_depth': 27, 'min_split': 4, 'min_leaf': 1}. Best is trial 1 with value: 0.8547453504691037.\u001b[0m\n"
          ]
        },
        {
          "output_type": "stream",
          "name": "stdout",
          "text": [
            "\n",
            "\n",
            "Season: 2013\n"
          ]
        },
        {
          "output_type": "stream",
          "name": "stderr",
          "text": [
            "\u001b[32m[I 2023-05-15 11:52:25,267]\u001b[0m Trial 4 finished with value: 0.8321135878900661 and parameters: {'n_estimators': 5, 'max_depth': 13, 'min_split': 4, 'min_leaf': 5}. Best is trial 1 with value: 0.8547453504691037.\u001b[0m\n"
          ]
        },
        {
          "output_type": "stream",
          "name": "stdout",
          "text": [
            "\n",
            "\n",
            "Season: 2013\n"
          ]
        },
        {
          "output_type": "stream",
          "name": "stderr",
          "text": [
            "\u001b[32m[I 2023-05-15 11:52:31,647]\u001b[0m Trial 5 finished with value: 0.8192154102160054 and parameters: {'n_estimators': 9, 'max_depth': 16, 'min_split': 6, 'min_leaf': 10}. Best is trial 1 with value: 0.8547453504691037.\u001b[0m\n"
          ]
        },
        {
          "output_type": "stream",
          "name": "stdout",
          "text": [
            "\n",
            "\n",
            "Season: 2013\n"
          ]
        },
        {
          "output_type": "stream",
          "name": "stderr",
          "text": [
            "\u001b[32m[I 2023-05-15 11:52:32,517]\u001b[0m Trial 6 finished with value: 0.639146008912823 and parameters: {'n_estimators': 6, 'max_depth': 3, 'min_split': 8, 'min_leaf': 3}. Best is trial 1 with value: 0.8547453504691037.\u001b[0m\n"
          ]
        },
        {
          "output_type": "stream",
          "name": "stdout",
          "text": [
            "\n",
            "\n",
            "Season: 2013\n"
          ]
        },
        {
          "output_type": "stream",
          "name": "stderr",
          "text": [
            "\u001b[32m[I 2023-05-15 11:52:33,111]\u001b[0m Trial 7 finished with value: 0.42735792778024706 and parameters: {'n_estimators': 5, 'max_depth': 1, 'min_split': 9, 'min_leaf': 3}. Best is trial 1 with value: 0.8547453504691037.\u001b[0m\n"
          ]
        },
        {
          "output_type": "stream",
          "name": "stdout",
          "text": [
            "\n",
            "\n",
            "Season: 2013\n"
          ]
        },
        {
          "output_type": "stream",
          "name": "stderr",
          "text": [
            "\u001b[32m[I 2023-05-15 11:52:36,976]\u001b[0m Trial 8 finished with value: 0.8151235872512305 and parameters: {'n_estimators': 13, 'max_depth': 11, 'min_split': 9, 'min_leaf': 10}. Best is trial 1 with value: 0.8547453504691037.\u001b[0m\n"
          ]
        },
        {
          "output_type": "stream",
          "name": "stdout",
          "text": [
            "\n",
            "\n",
            "Season: 2013\n"
          ]
        },
        {
          "output_type": "stream",
          "name": "stderr",
          "text": [
            "\u001b[32m[I 2023-05-15 11:52:37,482]\u001b[0m Trial 9 finished with value: 0.42416288295918453 and parameters: {'n_estimators': 15, 'max_depth': 1, 'min_split': 5, 'min_leaf': 4}. Best is trial 1 with value: 0.8547453504691037.\u001b[0m\n"
          ]
        },
        {
          "output_type": "stream",
          "name": "stdout",
          "text": [
            "\n",
            "\n",
            "Season: 2013\n"
          ]
        },
        {
          "output_type": "stream",
          "name": "stderr",
          "text": [
            "\u001b[32m[I 2023-05-15 11:52:40,684]\u001b[0m Trial 10 finished with value: 0.7152254476000528 and parameters: {'n_estimators': 20, 'max_depth': 4, 'min_split': 10, 'min_leaf': 7}. Best is trial 1 with value: 0.8547453504691037.\u001b[0m\n"
          ]
        },
        {
          "output_type": "stream",
          "name": "stdout",
          "text": [
            "\n",
            "\n",
            "Season: 2013\n"
          ]
        },
        {
          "output_type": "stream",
          "name": "stderr",
          "text": [
            "\u001b[32m[I 2023-05-15 11:52:47,948]\u001b[0m Trial 11 finished with value: 0.877394388210884 and parameters: {'n_estimators': 20, 'max_depth': 32, 'min_split': 2, 'min_leaf': 1}. Best is trial 11 with value: 0.877394388210884.\u001b[0m\n"
          ]
        },
        {
          "output_type": "stream",
          "name": "stdout",
          "text": [
            "\n",
            "\n",
            "Season: 2013\n"
          ]
        },
        {
          "output_type": "stream",
          "name": "stderr",
          "text": [
            "\u001b[32m[I 2023-05-15 11:52:55,953]\u001b[0m Trial 12 finished with value: 0.8774074475108007 and parameters: {'n_estimators': 20, 'max_depth': 32, 'min_split': 2, 'min_leaf': 1}. Best is trial 12 with value: 0.8774074475108007.\u001b[0m\n"
          ]
        },
        {
          "output_type": "stream",
          "name": "stdout",
          "text": [
            "\n",
            "\n",
            "Season: 2013\n"
          ]
        },
        {
          "output_type": "stream",
          "name": "stderr",
          "text": [
            "\u001b[32m[I 2023-05-15 11:53:01,840]\u001b[0m Trial 13 finished with value: 0.8817073857826072 and parameters: {'n_estimators': 17, 'max_depth': 31, 'min_split': 2, 'min_leaf': 1}. Best is trial 13 with value: 0.8817073857826072.\u001b[0m\n"
          ]
        },
        {
          "output_type": "stream",
          "name": "stdout",
          "text": [
            "\n",
            "\n",
            "Season: 2013\n"
          ]
        },
        {
          "output_type": "stream",
          "name": "stderr",
          "text": [
            "\u001b[32m[I 2023-05-15 11:53:08,299]\u001b[0m Trial 14 finished with value: 0.8755957380937582 and parameters: {'n_estimators': 16, 'max_depth': 32, 'min_split': 2, 'min_leaf': 1}. Best is trial 13 with value: 0.8817073857826072.\u001b[0m\n"
          ]
        },
        {
          "output_type": "stream",
          "name": "stdout",
          "text": [
            "\n",
            "\n",
            "Season: 2013\n"
          ]
        },
        {
          "output_type": "stream",
          "name": "stderr",
          "text": [
            "\u001b[32m[I 2023-05-15 11:53:11,357]\u001b[0m Trial 15 finished with value: 0.8256469348637566 and parameters: {'n_estimators': 17, 'max_depth': 7, 'min_split': 3, 'min_leaf': 2}. Best is trial 13 with value: 0.8817073857826072.\u001b[0m\n"
          ]
        },
        {
          "output_type": "stream",
          "name": "stdout",
          "text": [
            "\n",
            "\n",
            "Season: 2013\n"
          ]
        },
        {
          "output_type": "stream",
          "name": "stderr",
          "text": [
            "\u001b[32m[I 2023-05-15 11:53:15,026]\u001b[0m Trial 16 finished with value: 0.8477315384194194 and parameters: {'n_estimators': 13, 'max_depth': 19, 'min_split': 2, 'min_leaf': 5}. Best is trial 13 with value: 0.8817073857826072.\u001b[0m\n"
          ]
        },
        {
          "output_type": "stream",
          "name": "stdout",
          "text": [
            "\n",
            "\n",
            "Season: 2013\n"
          ]
        },
        {
          "output_type": "stream",
          "name": "stderr",
          "text": [
            "\u001b[32m[I 2023-05-15 11:53:15,577]\u001b[0m Trial 17 finished with value: 0.7694331539307256 and parameters: {'n_estimators': 2, 'max_depth': 9, 'min_split': 4, 'min_leaf': 7}. Best is trial 13 with value: 0.8817073857826072.\u001b[0m\n"
          ]
        },
        {
          "output_type": "stream",
          "name": "stdout",
          "text": [
            "\n",
            "\n",
            "Season: 2013\n"
          ]
        },
        {
          "output_type": "stream",
          "name": "stderr",
          "text": [
            "\u001b[32m[I 2023-05-15 11:53:22,189]\u001b[0m Trial 18 finished with value: 0.8655058374399887 and parameters: {'n_estimators': 18, 'max_depth': 21, 'min_split': 7, 'min_leaf': 2}. Best is trial 13 with value: 0.8817073857826072.\u001b[0m\n"
          ]
        },
        {
          "output_type": "stream",
          "name": "stdout",
          "text": [
            "\n",
            "\n",
            "Season: 2013\n"
          ]
        },
        {
          "output_type": "stream",
          "name": "stderr",
          "text": [
            "\u001b[32m[I 2023-05-15 11:53:25,748]\u001b[0m Trial 19 finished with value: 0.8615702040916812 and parameters: {'n_estimators': 14, 'max_depth': 12, 'min_split': 3, 'min_leaf': 2}. Best is trial 13 with value: 0.8817073857826072.\u001b[0m\n"
          ]
        },
        {
          "output_type": "stream",
          "name": "stdout",
          "text": [
            "Accuracy: 0.8817073857826072\n",
            "Best hyperparametrs: {'n_estimators': 17, 'max_depth': 31, 'min_split': 2, 'min_leaf': 1}\n"
          ]
        }
      ]
    },
    {
      "cell_type": "code",
      "source": [
        "print(trial.params)"
      ],
      "metadata": {
        "id": "BgcqVz_2l7-H",
        "colab": {
          "base_uri": "https://localhost:8080/"
        },
        "outputId": "ee0b1503-3553-48bd-ffa4-b8c550eb85bd"
      },
      "execution_count": null,
      "outputs": [
        {
          "output_type": "stream",
          "name": "stdout",
          "text": [
            "{'n_estimators': 17, 'max_depth': 31, 'min_split': 2, 'min_leaf': 1}\n"
          ]
        }
      ]
    },
    {
      "cell_type": "code",
      "source": [
        "#обучение с оптимальными гиперпараметрами\n",
        "from sklearn.ensemble import RandomForestRegressor\n",
        "\n",
        "validation_scores = {\"season\" : [], \"mae\" : [], \"was_mvp\" : [], \"was_top_two\" : [], \"was_top_three\":[], \"info\" : []}\n",
        "seasons = trainInfo.season.unique()\n",
        "#какой-то случайный сезон\n",
        "season = seasons[-20]\n",
        "print(\"\\n\")\n",
        "print(f\"Season: {season}\")\n",
        "\n",
        "trainFold = trainData[trainInfo[\"season\"] != season]\n",
        "trainTarFold = trainTargets[trainInfo[\"season\"] != season]\n",
        "valFold = trainData[(trainInfo[\"season\"] == season) & (~trainInfo[\"is_smote\"])]\n",
        "valTarFold = trainTargets[(trainInfo[\"season\"] == season) & (~trainInfo[\"is_smote\"])]\n",
        "valInfo = trainInfo[(trainInfo[\"season\"] == season) & (~trainInfo[\"is_smote\"])]\n",
        "\n",
        "regr = RandomForestRegressor(n_estimators=trial.params['n_estimators'], max_depth=trial.params['max_depth'],\n",
        "                             min_samples_leaf=trial.params['min_leaf'], min_samples_split=trial.params['min_split'], random_state=0)\n",
        "regr.fit(trainFold.to_numpy(), trainTarFold.to_numpy()[:,0])\n",
        "\n",
        "valPred = regr.predict(valFold)\n",
        "mae = np.mean(np.absolute(valPred - valTarFold.to_numpy()[:,0]))\n",
        "\n",
        "print(f\"MAE: {mae}\")\n",
        "\n",
        "topTwo = valInfo.iloc[np.argsort(valPred)[-2:]]\n",
        "was_top_two = sum(topTwo[\"was_mvp\"]) > 0\n",
        "topThree = valInfo.iloc[np.argsort(valPred)[-3:]]\n",
        "was_top_three = sum(topThree[\"was_mvp\"]) > 0\n",
        "print(\"Predicted top three players in MVP voting with their actual award_share:\")\n",
        "print(topThree.iloc[::-1])\n",
        "\n",
        "\n",
        "mostVotes = np.argmax(valPred)\n",
        "score = np.amax(valPred)\n",
        "was_mvp = valInfo.iloc[[mostVotes]][\"was_mvp\"].values[0]\n",
        "player = valInfo.iloc[[mostVotes]][\"player\"].values[0]\n",
        "print(f\"Predicted MVP: {player}\")\n",
        "print(f\"Predicted Win Share: {score}\")\n",
        "print(f\"Was MVP correct: {was_mvp}\")\n",
        " \n",
        "validation_scores[\"season\"].append(season)\n",
        "validation_scores[\"mae\"].append(mae)\n",
        "validation_scores[\"was_mvp\"].append(was_mvp)\n",
        "validation_scores[\"was_top_two\"].append(was_top_three)\n",
        "validation_scores[\"was_top_three\"].append(was_top_three)\n",
        "validation_scores[\"info\"].append(valInfo.iloc[[mostVotes]])"
      ],
      "metadata": {
        "id": "_5ksd13kltp5",
        "colab": {
          "base_uri": "https://localhost:8080/"
        },
        "outputId": "d0cbdf58-985e-4baf-e611-660e76cac1ae"
      },
      "execution_count": null,
      "outputs": [
        {
          "output_type": "stream",
          "name": "stdout",
          "text": [
            "\n",
            "\n",
            "Season: 2013\n",
            "MAE: 0.008827268509915607\n",
            "Predicted top three players in MVP voting with their actual award_share:\n",
            "     season           player pos team_id  award_share was_mvp  is_smote\n",
            "325    2013     LeBron James  PF     MIA        0.998    True     False\n",
            "992    2013     Kevin Durant  SF     OKC        0.632   False     False\n",
            "333    2013  Carmelo Anthony  PF     NYK        0.393   False     False\n",
            "Predicted MVP: LeBron James\n",
            "Predicted Win Share: 0.9129369481453434\n",
            "Was MVP correct: True\n"
          ]
        },
        {
          "output_type": "stream",
          "name": "stderr",
          "text": [
            "/usr/local/lib/python3.10/dist-packages/sklearn/base.py:432: UserWarning: X has feature names, but RandomForestRegressor was fitted without feature names\n",
            "  warnings.warn(\n"
          ]
        }
      ]
    },
    {
      "cell_type": "code",
      "source": [
        "from sklearn.ensemble import RandomForestRegressor\n",
        "\n",
        "validation_scores = {\"season\" : [], \"mae\" : [], \"was_mvp\" : [], \"was_top_two\" : [], \"was_top_three\":[], \"info\" : []}\n",
        "seasons = trainInfo.season.unique()\n",
        "for season in seasons:\n",
        "  print(\"\\n\")\n",
        "  print(f\"Season: {season}\")\n",
        "\n",
        "  trainFold = trainData[trainInfo[\"season\"] != season]\n",
        "  trainTarFold = trainTargets[trainInfo[\"season\"] != season]\n",
        "  valFold = trainData[(trainInfo[\"season\"] == season) & (~trainInfo[\"is_smote\"])]\n",
        "  valTarFold = trainTargets[(trainInfo[\"season\"] == season) & (~trainInfo[\"is_smote\"])]\n",
        "  valInfo = trainInfo[(trainInfo[\"season\"] == season) & (~trainInfo[\"is_smote\"])]\n",
        "\n",
        "  regr = RandomForestRegressor(n_estimators=trial.params['n_estimators'], max_depth=trial.params['max_depth'],\n",
        "                             min_samples_leaf=trial.params['min_leaf'], min_samples_split=trial.params['min_split'], random_state=0)\n",
        "  regr.fit(trainFold.to_numpy(), trainTarFold.to_numpy()[:,0])\n",
        "\n",
        "  valPred = regr.predict(valFold)\n",
        "  mae = np.mean(np.absolute(valPred - valTarFold.to_numpy()[:,0]))\n",
        "\n",
        "  print(f\"MAE: {mae}\")\n",
        "\n",
        "  topTwo = valInfo.iloc[np.argsort(valPred)[-2:]]\n",
        "  was_top_two = sum(topTwo[\"was_mvp\"]) > 0\n",
        "  topThree = valInfo.iloc[np.argsort(valPred)[-3:]]\n",
        "  was_top_three = sum(topThree[\"was_mvp\"]) > 0\n",
        "  print(\"Predicted top three players in MVP voting with their actual award_share:\")\n",
        "  print(topThree.iloc[::-1])\n",
        "\n",
        "\n",
        "  mostVotes = np.argmax(valPred)\n",
        "  score = np.amax(valPred)\n",
        "  was_mvp = valInfo.iloc[[mostVotes]][\"was_mvp\"].values[0]\n",
        "  player = valInfo.iloc[[mostVotes]][\"player\"].values[0]\n",
        "  print(f\"Predicted MVP: {player}\")\n",
        "  print(f\"Predicted Win Share: {score}\")\n",
        "  print(f\"Was MVP correct: {was_mvp}\")\n",
        "  \n",
        "  validation_scores[\"season\"].append(season)\n",
        "  validation_scores[\"mae\"].append(mae)\n",
        "  validation_scores[\"was_mvp\"].append(was_mvp)\n",
        "  validation_scores[\"was_top_two\"].append(was_top_three)\n",
        "  validation_scores[\"was_top_three\"].append(was_top_three)\n",
        "  validation_scores[\"info\"].append(valInfo.iloc[[mostVotes]])"
      ],
      "metadata": {
        "id": "_Hj3eQZ1nB8e",
        "colab": {
          "base_uri": "https://localhost:8080/"
        },
        "outputId": "ce7087d1-cd07-49b0-dca2-308fea98f757"
      },
      "execution_count": null,
      "outputs": [
        {
          "output_type": "stream",
          "name": "stdout",
          "text": [
            "\n",
            "\n",
            "Season: 2019\n"
          ]
        },
        {
          "output_type": "stream",
          "name": "stderr",
          "text": [
            "/usr/local/lib/python3.10/dist-packages/sklearn/base.py:432: UserWarning: X has feature names, but RandomForestRegressor was fitted without feature names\n",
            "  warnings.warn(\n"
          ]
        },
        {
          "output_type": "stream",
          "name": "stdout",
          "text": [
            "MAE: 0.01272300382934528\n",
            "Predicted top three players in MVP voting with their actual award_share:\n",
            "      season                 player pos team_id  award_share was_mvp  is_smote\n",
            "7305    2019  Giannis Antetokounmpo  PF     MIL        0.932    True     False\n",
            "6715    2019           James Harden  PG     HOU        0.768   False     False\n",
            "6405    2019            Paul George  SF     OKC        0.352   False     False\n",
            "Predicted MVP: Giannis Antetokounmpo\n",
            "Predicted Win Share: 0.7726018402945565\n",
            "Was MVP correct: True\n",
            "\n",
            "\n",
            "Season: 1993\n"
          ]
        },
        {
          "output_type": "stream",
          "name": "stderr",
          "text": [
            "/usr/local/lib/python3.10/dist-packages/sklearn/base.py:432: UserWarning: X has feature names, but RandomForestRegressor was fitted without feature names\n",
            "  warnings.warn(\n"
          ]
        },
        {
          "output_type": "stream",
          "name": "stdout",
          "text": [
            "MAE: 0.01024967450705363\n",
            "Predicted top three players in MVP voting with their actual award_share:\n",
            "      season           player pos team_id  award_share was_mvp  is_smote\n",
            "2919    1993   Michael Jordan  SG     CHI        0.577   False     False\n",
            "6646    1993  Hakeem Olajuwon   C     HOU        0.660   False     False\n",
            "1611    1993  Charles Barkley  PF     PHO        0.852    True     False\n",
            "Predicted MVP: Michael Jordan\n",
            "Predicted Win Share: 0.6268471937691078\n",
            "Was MVP correct: False\n",
            "\n",
            "\n",
            "Season: 1991\n"
          ]
        },
        {
          "output_type": "stream",
          "name": "stderr",
          "text": [
            "/usr/local/lib/python3.10/dist-packages/sklearn/base.py:432: UserWarning: X has feature names, but RandomForestRegressor was fitted without feature names\n",
            "  warnings.warn(\n"
          ]
        },
        {
          "output_type": "stream",
          "name": "stdout",
          "text": [
            "MAE: 0.010097812054152553\n",
            "Predicted top three players in MVP voting with their actual award_share:\n",
            "      season          player pos team_id  award_share was_mvp  is_smote\n",
            "4249    1991  Michael Jordan  SG     CHI        0.928    True     False\n",
            "7544    1991  David Robinson   C     SAS        0.496   False     False\n",
            "1116    1991   Magic Johnson  PG     LAL        0.518   False     False\n",
            "Predicted MVP: Michael Jordan\n",
            "Predicted Win Share: 0.8843112066958216\n",
            "Was MVP correct: True\n",
            "\n",
            "\n",
            "Season: 1996\n"
          ]
        },
        {
          "output_type": "stream",
          "name": "stderr",
          "text": [
            "/usr/local/lib/python3.10/dist-packages/sklearn/base.py:432: UserWarning: X has feature names, but RandomForestRegressor was fitted without feature names\n",
            "  warnings.warn(\n"
          ]
        },
        {
          "output_type": "stream",
          "name": "stdout",
          "text": [
            "MAE: 0.008579650617710231\n",
            "Predicted top three players in MVP voting with their actual award_share:\n",
            "      season             player pos team_id  award_share was_mvp  is_smote\n",
            "7472    1996     Michael Jordan  SG     CHI        0.986    True     False\n",
            "2424    1996     David Robinson   C     SAS        0.508   False     False\n",
            "588     1996  Anfernee Hardaway  PG     ORL        0.319   False     False\n",
            "Predicted MVP: Michael Jordan\n",
            "Predicted Win Share: 0.9185125535924054\n",
            "Was MVP correct: True\n",
            "\n",
            "\n",
            "Season: 1987\n"
          ]
        },
        {
          "output_type": "stream",
          "name": "stderr",
          "text": [
            "/usr/local/lib/python3.10/dist-packages/sklearn/base.py:432: UserWarning: X has feature names, but RandomForestRegressor was fitted without feature names\n",
            "  warnings.warn(\n"
          ]
        },
        {
          "output_type": "stream",
          "name": "stdout",
          "text": [
            "MAE: 0.011969569996184853\n",
            "Predicted top three players in MVP voting with their actual award_share:\n",
            "      season          player pos team_id  award_share was_mvp  is_smote\n",
            "1798    1987   Magic Johnson  PG     LAL        0.940    True     False\n",
            "901     1987      Larry Bird  SF     BOS        0.347   False     False\n",
            "5974    1987  Michael Jordan  SG     CHI        0.576   False     False\n",
            "Predicted MVP: Magic Johnson\n",
            "Predicted Win Share: 0.6676930305076292\n",
            "Was MVP correct: True\n",
            "\n",
            "\n",
            "Season: 2017\n"
          ]
        },
        {
          "output_type": "stream",
          "name": "stderr",
          "text": [
            "/usr/local/lib/python3.10/dist-packages/sklearn/base.py:432: UserWarning: X has feature names, but RandomForestRegressor was fitted without feature names\n",
            "  warnings.warn(\n"
          ]
        },
        {
          "output_type": "stream",
          "name": "stdout",
          "text": [
            "MAE: 0.02104484552266395\n",
            "Predicted top three players in MVP voting with their actual award_share:\n",
            "      season             player pos team_id  award_share was_mvp  is_smote\n",
            "2150    2017  Russell Westbrook  PG     OKC        0.879    True     False\n",
            "2931    2017       James Harden  PG     HOU        0.746   False     False\n",
            "6367    2017      Kawhi Leonard  SF     SAS        0.495   False     False\n",
            "Predicted MVP: Russell Westbrook\n",
            "Predicted Win Share: 0.6608083560323256\n",
            "Was MVP correct: True\n",
            "\n",
            "\n",
            "Season: 2015\n"
          ]
        },
        {
          "output_type": "stream",
          "name": "stderr",
          "text": [
            "/usr/local/lib/python3.10/dist-packages/sklearn/base.py:432: UserWarning: X has feature names, but RandomForestRegressor was fitted without feature names\n",
            "  warnings.warn(\n"
          ]
        },
        {
          "output_type": "stream",
          "name": "stdout",
          "text": [
            "MAE: 0.014078554949549309\n",
            "Predicted top three players in MVP voting with their actual award_share:\n",
            "      season         player pos team_id  award_share was_mvp  is_smote\n",
            "4831    2015  Stephen Curry  PG     GSW        0.922    True     False\n",
            "2446    2015   James Harden  SG     HOU        0.720   False     False\n",
            "1160    2015   LeBron James  SF     CLE        0.425   False     False\n",
            "Predicted MVP: Stephen Curry\n",
            "Predicted Win Share: 0.5694041080051377\n",
            "Was MVP correct: True\n",
            "\n",
            "\n",
            "Season: 2000\n"
          ]
        },
        {
          "output_type": "stream",
          "name": "stderr",
          "text": [
            "/usr/local/lib/python3.10/dist-packages/sklearn/base.py:432: UserWarning: X has feature names, but RandomForestRegressor was fitted without feature names\n",
            "  warnings.warn(\n"
          ]
        },
        {
          "output_type": "stream",
          "name": "stdout",
          "text": [
            "MAE: 0.0077357172853896325\n",
            "Predicted top three players in MVP voting with their actual award_share:\n",
            "      season            player pos team_id  award_share was_mvp  is_smote\n",
            "4614    2000  Shaquille O'Neal   C     LAL        0.998    True     False\n",
            "4933    2000     Kevin Garnett  PF     MIN        0.337   False     False\n",
            "1616    2000       Karl Malone  PF     UTA        0.258   False     False\n",
            "Predicted MVP: Shaquille O'Neal\n",
            "Predicted Win Share: 0.9937068979567677\n",
            "Was MVP correct: True\n",
            "\n",
            "\n",
            "Season: 2009\n"
          ]
        },
        {
          "output_type": "stream",
          "name": "stderr",
          "text": [
            "/usr/local/lib/python3.10/dist-packages/sklearn/base.py:432: UserWarning: X has feature names, but RandomForestRegressor was fitted without feature names\n",
            "  warnings.warn(\n"
          ]
        },
        {
          "output_type": "stream",
          "name": "stdout",
          "text": [
            "MAE: 0.010139056446440807\n",
            "Predicted top three players in MVP voting with their actual award_share:\n",
            "      season        player pos team_id  award_share was_mvp  is_smote\n",
            "730     2009  LeBron James  SF     CLE        0.969    True     False\n",
            "2286    2009   Dwyane Wade  SG     MIA        0.562   False     False\n",
            "7417    2009    Chris Paul  PG     NOH        0.159   False     False\n",
            "Predicted MVP: LeBron James\n",
            "Predicted Win Share: 0.9530499775352053\n",
            "Was MVP correct: True\n",
            "\n",
            "\n",
            "Season: 1997\n"
          ]
        },
        {
          "output_type": "stream",
          "name": "stderr",
          "text": [
            "/usr/local/lib/python3.10/dist-packages/sklearn/base.py:432: UserWarning: X has feature names, but RandomForestRegressor was fitted without feature names\n",
            "  warnings.warn(\n"
          ]
        },
        {
          "output_type": "stream",
          "name": "stdout",
          "text": [
            "MAE: 0.012237695224712027\n",
            "Predicted top three players in MVP voting with their actual award_share:\n",
            "      season          player pos team_id  award_share was_mvp  is_smote\n",
            "3820    1997  Michael Jordan  SG     CHI        0.832   False     False\n",
            "1979    1997     Karl Malone  PF     UTA        0.857    True     False\n",
            "5825    1997      Grant Hill  SF     DET        0.327   False     False\n",
            "Predicted MVP: Michael Jordan\n",
            "Predicted Win Share: 0.8445474493145477\n",
            "Was MVP correct: False\n",
            "\n",
            "\n",
            "Season: 2008\n"
          ]
        },
        {
          "output_type": "stream",
          "name": "stderr",
          "text": [
            "/usr/local/lib/python3.10/dist-packages/sklearn/base.py:432: UserWarning: X has feature names, but RandomForestRegressor was fitted without feature names\n",
            "  warnings.warn(\n"
          ]
        },
        {
          "output_type": "stream",
          "name": "stdout",
          "text": [
            "MAE: 0.020110078435826923\n",
            "Predicted top three players in MVP voting with their actual award_share:\n",
            "      season        player pos team_id  award_share was_mvp  is_smote\n",
            "3312    2008  LeBron James  SF     CLE        0.348   False     False\n",
            "130     2008    Chris Paul  PG     NOH        0.710   False     False\n",
            "6985    2008   Kobe Bryant  SG     LAL        0.873    True     False\n",
            "Predicted MVP: LeBron James\n",
            "Predicted Win Share: 0.5990840347383994\n",
            "Was MVP correct: False\n",
            "\n",
            "\n",
            "Season: 2011\n"
          ]
        },
        {
          "output_type": "stream",
          "name": "stderr",
          "text": [
            "/usr/local/lib/python3.10/dist-packages/sklearn/base.py:432: UserWarning: X has feature names, but RandomForestRegressor was fitted without feature names\n",
            "  warnings.warn(\n"
          ]
        },
        {
          "output_type": "stream",
          "name": "stdout",
          "text": [
            "MAE: 0.01013340453577432\n",
            "Predicted top three players in MVP voting with their actual award_share:\n",
            "      season         player pos team_id  award_share was_mvp  is_smote\n",
            "6608    2011   Derrick Rose  PG     CHI        0.977    True     False\n",
            "1950    2011   LeBron James  SF     MIA        0.431   False     False\n",
            "115     2011  Dwight Howard   C     ORL        0.531   False     False\n",
            "Predicted MVP: Derrick Rose\n",
            "Predicted Win Share: 0.8981095306711504\n",
            "Was MVP correct: True\n",
            "\n",
            "\n",
            "Season: 2005\n"
          ]
        },
        {
          "output_type": "stream",
          "name": "stderr",
          "text": [
            "/usr/local/lib/python3.10/dist-packages/sklearn/base.py:432: UserWarning: X has feature names, but RandomForestRegressor was fitted without feature names\n",
            "  warnings.warn(\n"
          ]
        },
        {
          "output_type": "stream",
          "name": "stdout",
          "text": [
            "MAE: 0.017678954630258443\n",
            "Predicted top three players in MVP voting with their actual award_share:\n",
            "      season             player pos team_id  award_share was_mvp  is_smote\n",
            "4424    2005         Steve Nash  PG     PHO        0.839    True     False\n",
            "1124    2005  Amar'e Stoudemire   C     PHO        0.032   False     False\n",
            "4019    2005   Shaquille O'Neal   C     MIA        0.813   False     False\n",
            "Predicted MVP: Steve Nash\n",
            "Predicted Win Share: 0.7079703797802211\n",
            "Was MVP correct: True\n",
            "\n",
            "\n",
            "Season: 2012\n"
          ]
        },
        {
          "output_type": "stream",
          "name": "stderr",
          "text": [
            "/usr/local/lib/python3.10/dist-packages/sklearn/base.py:432: UserWarning: X has feature names, but RandomForestRegressor was fitted without feature names\n",
            "  warnings.warn(\n"
          ]
        },
        {
          "output_type": "stream",
          "name": "stdout",
          "text": [
            "MAE: 0.016085716013447764\n",
            "Predicted top three players in MVP voting with their actual award_share:\n",
            "      season        player pos team_id  award_share was_mvp  is_smote\n",
            "7106    2012  LeBron James  SF     MIA        0.888    True     False\n",
            "3028    2012  Kevin Durant  SF     OKC        0.735   False     False\n",
            "5017    2012  Derrick Rose  PG     CHI        0.004   False     False\n",
            "Predicted MVP: LeBron James\n",
            "Predicted Win Share: 0.6235558890922802\n",
            "Was MVP correct: True\n",
            "\n",
            "\n",
            "Season: 1983\n"
          ]
        },
        {
          "output_type": "stream",
          "name": "stderr",
          "text": [
            "/usr/local/lib/python3.10/dist-packages/sklearn/base.py:432: UserWarning: X has feature names, but RandomForestRegressor was fitted without feature names\n",
            "  warnings.warn(\n"
          ]
        },
        {
          "output_type": "stream",
          "name": "stdout",
          "text": [
            "MAE: 0.012895397187309426\n",
            "Predicted top three players in MVP voting with their actual award_share:\n",
            "      season         player pos team_id  award_share was_mvp  is_smote\n",
            "224     1983   Moses Malone   C     PHI        0.960    True     False\n",
            "7221    1983     Larry Bird  PF     BOS        0.485   False     False\n",
            "2457    1983  Magic Johnson  SG     LAL        0.406   False     False\n",
            "Predicted MVP: Moses Malone\n",
            "Predicted Win Share: 0.7329479572505924\n",
            "Was MVP correct: True\n",
            "\n",
            "\n",
            "Season: 1992\n"
          ]
        },
        {
          "output_type": "stream",
          "name": "stderr",
          "text": [
            "/usr/local/lib/python3.10/dist-packages/sklearn/base.py:432: UserWarning: X has feature names, but RandomForestRegressor was fitted without feature names\n",
            "  warnings.warn(\n"
          ]
        },
        {
          "output_type": "stream",
          "name": "stdout",
          "text": [
            "MAE: 0.00893110575111174\n",
            "Predicted top three players in MVP voting with their actual award_share:\n",
            "      season          player pos team_id  award_share was_mvp  is_smote\n",
            "897     1992  Michael Jordan  SG     CHI        0.938    True     False\n",
            "458     1992   Clyde Drexler  SG     POR        0.584   False     False\n",
            "4840    1992  David Robinson   C     SAS        0.351   False     False\n",
            "Predicted MVP: Michael Jordan\n",
            "Predicted Win Share: 0.8383990985215153\n",
            "Was MVP correct: True\n",
            "\n",
            "\n",
            "Season: 1989\n"
          ]
        },
        {
          "output_type": "stream",
          "name": "stderr",
          "text": [
            "/usr/local/lib/python3.10/dist-packages/sklearn/base.py:432: UserWarning: X has feature names, but RandomForestRegressor was fitted without feature names\n",
            "  warnings.warn(\n"
          ]
        },
        {
          "output_type": "stream",
          "name": "stdout",
          "text": [
            "MAE: 0.012166453096161376\n",
            "Predicted top three players in MVP voting with their actual award_share:\n",
            "      season          player pos team_id  award_share was_mvp  is_smote\n",
            "411     1989  Michael Jordan  SG     CHI        0.704   False     False\n",
            "3225    1989   Magic Johnson  PG     LAL        0.782    True     False\n",
            "7675    1989     Karl Malone  PF     UTA        0.426   False     False\n",
            "Predicted MVP: Michael Jordan\n",
            "Predicted Win Share: 0.7274951518907434\n",
            "Was MVP correct: False\n",
            "\n",
            "\n",
            "Season: 1999\n"
          ]
        },
        {
          "output_type": "stream",
          "name": "stderr",
          "text": [
            "/usr/local/lib/python3.10/dist-packages/sklearn/base.py:432: UserWarning: X has feature names, but RandomForestRegressor was fitted without feature names\n",
            "  warnings.warn(\n"
          ]
        },
        {
          "output_type": "stream",
          "name": "stdout",
          "text": [
            "MAE: 0.01656622858196594\n",
            "Predicted top three players in MVP voting with their actual award_share:\n",
            "      season            player pos team_id  award_share was_mvp  is_smote\n",
            "1546    1999       Karl Malone  PF     UTA        0.701    True     False\n",
            "2423    1999  Shaquille O'Neal   C     LAL        0.075   False     False\n",
            "5609    1999   Alonzo Mourning   C     MIA        0.655   False     False\n",
            "Predicted MVP: Karl Malone\n",
            "Predicted Win Share: 0.5168669251794343\n",
            "Was MVP correct: True\n",
            "\n",
            "\n",
            "Season: 2010\n"
          ]
        },
        {
          "output_type": "stream",
          "name": "stderr",
          "text": [
            "/usr/local/lib/python3.10/dist-packages/sklearn/base.py:432: UserWarning: X has feature names, but RandomForestRegressor was fitted without feature names\n",
            "  warnings.warn(\n"
          ]
        },
        {
          "output_type": "stream",
          "name": "stdout",
          "text": [
            "MAE: 0.012489532811399315\n",
            "Predicted top three players in MVP voting with their actual award_share:\n",
            "      season         player pos team_id  award_share was_mvp  is_smote\n",
            "754     2010   LeBron James  SF     CLE        0.980    True     False\n",
            "821     2010   Kevin Durant  SF     OKC        0.495   False     False\n",
            "3767    2010  Dwight Howard   C     ORL        0.389   False     False\n",
            "Predicted MVP: LeBron James\n",
            "Predicted Win Share: 0.933114543773234\n",
            "Was MVP correct: True\n",
            "\n",
            "\n",
            "Season: 2001\n"
          ]
        },
        {
          "output_type": "stream",
          "name": "stderr",
          "text": [
            "/usr/local/lib/python3.10/dist-packages/sklearn/base.py:432: UserWarning: X has feature names, but RandomForestRegressor was fitted without feature names\n",
            "  warnings.warn(\n"
          ]
        },
        {
          "output_type": "stream",
          "name": "stdout",
          "text": [
            "MAE: 0.01611756833174271\n",
            "Predicted top three players in MVP voting with their actual award_share:\n",
            "      season            player pos team_id  award_share was_mvp  is_smote\n",
            "1287    2001     Allen Iverson  SG     PHI        0.904    True     False\n",
            "3994    2001  Shaquille O'Neal   C     LAL        0.466   False     False\n",
            "5784    2001      Chris Webber  PF     SAC        0.420   False     False\n",
            "Predicted MVP: Allen Iverson\n",
            "Predicted Win Share: 0.6974308148114873\n",
            "Was MVP correct: True\n",
            "\n",
            "\n",
            "Season: 2013\n"
          ]
        },
        {
          "output_type": "stream",
          "name": "stderr",
          "text": [
            "/usr/local/lib/python3.10/dist-packages/sklearn/base.py:432: UserWarning: X has feature names, but RandomForestRegressor was fitted without feature names\n",
            "  warnings.warn(\n"
          ]
        },
        {
          "output_type": "stream",
          "name": "stdout",
          "text": [
            "MAE: 0.008827268509915607\n",
            "Predicted top three players in MVP voting with their actual award_share:\n",
            "     season           player pos team_id  award_share was_mvp  is_smote\n",
            "325    2013     LeBron James  PF     MIA        0.998    True     False\n",
            "992    2013     Kevin Durant  SF     OKC        0.632   False     False\n",
            "333    2013  Carmelo Anthony  PF     NYK        0.393   False     False\n",
            "Predicted MVP: LeBron James\n",
            "Predicted Win Share: 0.9129369481453434\n",
            "Was MVP correct: True\n",
            "\n",
            "\n",
            "Season: 2014\n"
          ]
        },
        {
          "output_type": "stream",
          "name": "stderr",
          "text": [
            "/usr/local/lib/python3.10/dist-packages/sklearn/base.py:432: UserWarning: X has feature names, but RandomForestRegressor was fitted without feature names\n",
            "  warnings.warn(\n"
          ]
        },
        {
          "output_type": "stream",
          "name": "stdout",
          "text": [
            "MAE: 0.010202155286650144\n",
            "Predicted top three players in MVP voting with their actual award_share:\n",
            "      season         player pos team_id  award_share was_mvp  is_smote\n",
            "7194    2014   Kevin Durant  SF     OKC        0.986    True     False\n",
            "2567    2014   LeBron James  PF     MIA        0.713   False     False\n",
            "6349    2014  Blake Griffin  PF     LAC        0.347   False     False\n",
            "Predicted MVP: Kevin Durant\n",
            "Predicted Win Share: 0.8578751294125234\n",
            "Was MVP correct: True\n",
            "\n",
            "\n",
            "Season: 2006\n"
          ]
        },
        {
          "output_type": "stream",
          "name": "stderr",
          "text": [
            "/usr/local/lib/python3.10/dist-packages/sklearn/base.py:432: UserWarning: X has feature names, but RandomForestRegressor was fitted without feature names\n",
            "  warnings.warn(\n"
          ]
        },
        {
          "output_type": "stream",
          "name": "stdout",
          "text": [
            "MAE: 0.021323279663851672\n",
            "Predicted top three players in MVP voting with their actual award_share:\n",
            "      season         player pos team_id  award_share was_mvp  is_smote\n",
            "1438    2006  Dirk Nowitzki  PF     DAL        0.435   False     False\n",
            "6832    2006   LeBron James  SF     CLE        0.550   False     False\n",
            "1189    2006    Kobe Bryant  SG     LAL        0.386   False     False\n",
            "Predicted MVP: Dirk Nowitzki\n",
            "Predicted Win Share: 0.564392220997472\n",
            "Was MVP correct: False\n",
            "\n",
            "\n",
            "Season: 1995\n"
          ]
        },
        {
          "output_type": "stream",
          "name": "stderr",
          "text": [
            "/usr/local/lib/python3.10/dist-packages/sklearn/base.py:432: UserWarning: X has feature names, but RandomForestRegressor was fitted without feature names\n",
            "  warnings.warn(\n"
          ]
        },
        {
          "output_type": "stream",
          "name": "stdout",
          "text": [
            "MAE: 0.007732289650105409\n",
            "Predicted top three players in MVP voting with their actual award_share:\n",
            "      season            player pos team_id  award_share was_mvp  is_smote\n",
            "6624    1995    David Robinson   C     SAS        0.858    True     False\n",
            "7410    1995       Karl Malone  PF     UTA        0.507   False     False\n",
            "4723    1995  Shaquille O'Neal   C     ORL        0.576   False     False\n",
            "Predicted MVP: David Robinson\n",
            "Predicted Win Share: 0.8085069868870729\n",
            "Was MVP correct: True\n",
            "\n",
            "\n",
            "Season: 1986\n"
          ]
        },
        {
          "output_type": "stream",
          "name": "stderr",
          "text": [
            "/usr/local/lib/python3.10/dist-packages/sklearn/base.py:432: UserWarning: X has feature names, but RandomForestRegressor was fitted without feature names\n",
            "  warnings.warn(\n"
          ]
        },
        {
          "output_type": "stream",
          "name": "stdout",
          "text": [
            "MAE: 0.01095213546660595\n",
            "Predicted top three players in MVP voting with their actual award_share:\n",
            "      season             player pos team_id  award_share was_mvp  is_smote\n",
            "7037    1986         Larry Bird  SF     BOS        0.981    True     False\n",
            "164     1986      Magic Johnson  PG     LAL        0.263   False     False\n",
            "7266    1986  Dominique Wilkins  SF     ATL        0.522   False     False\n",
            "Predicted MVP: Larry Bird\n",
            "Predicted Win Share: 0.6925066283029581\n",
            "Was MVP correct: True\n",
            "\n",
            "\n",
            "Season: 1984\n"
          ]
        },
        {
          "output_type": "stream",
          "name": "stderr",
          "text": [
            "/usr/local/lib/python3.10/dist-packages/sklearn/base.py:432: UserWarning: X has feature names, but RandomForestRegressor was fitted without feature names\n",
            "  warnings.warn(\n"
          ]
        },
        {
          "output_type": "stream",
          "name": "stdout",
          "text": [
            "MAE: 0.013956688318551607\n",
            "Predicted top three players in MVP voting with their actual award_share:\n",
            "      season         player pos team_id  award_share was_mvp  is_smote\n",
            "3022    1984     Larry Bird  PF     BOS        0.858    True     False\n",
            "2636    1984  Magic Johnson  PG     LAL        0.401   False     False\n",
            "159     1984   Bernard King  SF     NYK        0.491   False     False\n",
            "Predicted MVP: Larry Bird\n",
            "Predicted Win Share: 0.6349668070763634\n",
            "Was MVP correct: True\n",
            "\n",
            "\n",
            "Season: 1985\n"
          ]
        },
        {
          "output_type": "stream",
          "name": "stderr",
          "text": [
            "/usr/local/lib/python3.10/dist-packages/sklearn/base.py:432: UserWarning: X has feature names, but RandomForestRegressor was fitted without feature names\n",
            "  warnings.warn(\n"
          ]
        },
        {
          "output_type": "stream",
          "name": "stdout",
          "text": [
            "MAE: 0.009900228907830766\n",
            "Predicted top three players in MVP voting with their actual award_share:\n",
            "      season          player pos team_id  award_share was_mvp  is_smote\n",
            "1752    1985      Larry Bird  SF     BOS        0.978    True     False\n",
            "3612    1985   Magic Johnson  PG     LAL        0.338   False     False\n",
            "1443    1985  Michael Jordan  SG     CHI        0.172   False     False\n",
            "Predicted MVP: Larry Bird\n",
            "Predicted Win Share: 0.733134131700839\n",
            "Was MVP correct: True\n",
            "\n",
            "\n",
            "Season: 2018\n"
          ]
        },
        {
          "output_type": "stream",
          "name": "stderr",
          "text": [
            "/usr/local/lib/python3.10/dist-packages/sklearn/base.py:432: UserWarning: X has feature names, but RandomForestRegressor was fitted without feature names\n",
            "  warnings.warn(\n"
          ]
        },
        {
          "output_type": "stream",
          "name": "stdout",
          "text": [
            "MAE: 0.014640828776921607\n",
            "Predicted top three players in MVP voting with their actual award_share:\n",
            "      season         player pos team_id  award_share was_mvp  is_smote\n",
            "1052    2018   James Harden  SG     HOU        0.955    True     False\n",
            "2049    2018   LeBron James  PF     CLE        0.731   False     False\n",
            "2011    2018  Anthony Davis  PF     NOP        0.441   False     False\n",
            "Predicted MVP: James Harden\n",
            "Predicted Win Share: 0.7191943610075363\n",
            "Was MVP correct: True\n",
            "\n",
            "\n",
            "Season: 2021\n"
          ]
        },
        {
          "output_type": "stream",
          "name": "stderr",
          "text": [
            "/usr/local/lib/python3.10/dist-packages/sklearn/base.py:432: UserWarning: X has feature names, but RandomForestRegressor was fitted without feature names\n",
            "  warnings.warn(\n"
          ]
        },
        {
          "output_type": "stream",
          "name": "stdout",
          "text": [
            "MAE: 0.013941122359312986\n",
            "Predicted top three players in MVP voting with their actual award_share:\n",
            "      season                 player pos team_id  award_share was_mvp  is_smote\n",
            "3745    2021           Nikola Jokić   C     DEN        0.961    True     False\n",
            "4438    2021          Stephen Curry  PG     GSW        0.449   False     False\n",
            "4264    2021  Giannis Antetokounmpo  PF     MIL        0.345   False     False\n",
            "Predicted MVP: Nikola Jokić\n",
            "Predicted Win Share: 0.9406358390208458\n",
            "Was MVP correct: True\n",
            "\n",
            "\n",
            "Season: 2003\n"
          ]
        },
        {
          "output_type": "stream",
          "name": "stderr",
          "text": [
            "/usr/local/lib/python3.10/dist-packages/sklearn/base.py:432: UserWarning: X has feature names, but RandomForestRegressor was fitted without feature names\n",
            "  warnings.warn(\n"
          ]
        },
        {
          "output_type": "stream",
          "name": "stdout",
          "text": [
            "MAE: 0.014706157275874612\n",
            "Predicted top three players in MVP voting with their actual award_share:\n",
            "      season         player pos team_id  award_share was_mvp  is_smote\n",
            "5016    2003     Tim Duncan  PF     SAS        0.808    True     False\n",
            "3581    2003  Tracy McGrady  SG     ORL        0.359   False     False\n",
            "826     2003  Kevin Garnett  PF     MIN        0.732   False     False\n",
            "Predicted MVP: Tim Duncan\n",
            "Predicted Win Share: 0.7223719322644309\n",
            "Was MVP correct: True\n",
            "\n",
            "\n",
            "Season: 2007\n"
          ]
        },
        {
          "output_type": "stream",
          "name": "stderr",
          "text": [
            "/usr/local/lib/python3.10/dist-packages/sklearn/base.py:432: UserWarning: X has feature names, but RandomForestRegressor was fitted without feature names\n",
            "  warnings.warn(\n"
          ]
        },
        {
          "output_type": "stream",
          "name": "stdout",
          "text": [
            "MAE: 0.014422895303145587\n",
            "Predicted top three players in MVP voting with their actual award_share:\n",
            "      season         player pos team_id  award_share was_mvp  is_smote\n",
            "7493    2007     Steve Nash  PG     PHO        0.785   False     False\n",
            "2510    2007  Dirk Nowitzki  PF     DAL        0.882    True     False\n",
            "1699    2007   LeBron James  SF     CLE        0.142   False     False\n",
            "Predicted MVP: Steve Nash\n",
            "Predicted Win Share: 0.5799748034753284\n",
            "Was MVP correct: False\n",
            "\n",
            "\n",
            "Season: 1998\n"
          ]
        },
        {
          "output_type": "stream",
          "name": "stderr",
          "text": [
            "/usr/local/lib/python3.10/dist-packages/sklearn/base.py:432: UserWarning: X has feature names, but RandomForestRegressor was fitted without feature names\n",
            "  warnings.warn(\n"
          ]
        },
        {
          "output_type": "stream",
          "name": "stdout",
          "text": [
            "MAE: 0.010652677710339556\n",
            "Predicted top three players in MVP voting with their actual award_share:\n",
            "      season          player pos team_id  award_share was_mvp  is_smote\n",
            "4999    1998     Karl Malone  PF     UTA        0.726   False     False\n",
            "5222    1998  Michael Jordan  SG     CHI        0.934    True     False\n",
            "7299    1998  David Robinson   C     SAS        0.031   False     False\n",
            "Predicted MVP: Karl Malone\n",
            "Predicted Win Share: 0.711706328514634\n",
            "Was MVP correct: False\n",
            "\n",
            "\n",
            "Season: 1994\n"
          ]
        },
        {
          "output_type": "stream",
          "name": "stderr",
          "text": [
            "/usr/local/lib/python3.10/dist-packages/sklearn/base.py:432: UserWarning: X has feature names, but RandomForestRegressor was fitted without feature names\n",
            "  warnings.warn(\n"
          ]
        },
        {
          "output_type": "stream",
          "name": "stdout",
          "text": [
            "MAE: 0.01096851508380247\n",
            "Predicted top three players in MVP voting with their actual award_share:\n",
            "      season           player pos team_id  award_share was_mvp  is_smote\n",
            "5546    1994   David Robinson   C     SAS        0.723   False     False\n",
            "6315    1994  Hakeem Olajuwon   C     HOU        0.880    True     False\n",
            "4341    1994   Scottie Pippen  SF     CHI        0.386   False     False\n",
            "Predicted MVP: David Robinson\n",
            "Predicted Win Share: 0.780763454978912\n",
            "Was MVP correct: False\n",
            "\n",
            "\n",
            "Season: 2002\n"
          ]
        },
        {
          "output_type": "stream",
          "name": "stderr",
          "text": [
            "/usr/local/lib/python3.10/dist-packages/sklearn/base.py:432: UserWarning: X has feature names, but RandomForestRegressor was fitted without feature names\n",
            "  warnings.warn(\n"
          ]
        },
        {
          "output_type": "stream",
          "name": "stdout",
          "text": [
            "MAE: 0.014843764123144795\n",
            "Predicted top three players in MVP voting with their actual award_share:\n",
            "      season            player pos team_id  award_share was_mvp  is_smote\n",
            "6925    2002        Tim Duncan  PF     SAS        0.757    True     False\n",
            "7141    2002        Jason Kidd  PG     NJN        0.712   False     False\n",
            "5803    2002  Shaquille O'Neal   C     LAL        0.552   False     False\n",
            "Predicted MVP: Tim Duncan\n",
            "Predicted Win Share: 0.67980813274424\n",
            "Was MVP correct: True\n",
            "\n",
            "\n",
            "Season: 1990\n"
          ]
        },
        {
          "output_type": "stream",
          "name": "stderr",
          "text": [
            "/usr/local/lib/python3.10/dist-packages/sklearn/base.py:432: UserWarning: X has feature names, but RandomForestRegressor was fitted without feature names\n",
            "  warnings.warn(\n"
          ]
        },
        {
          "output_type": "stream",
          "name": "stdout",
          "text": [
            "MAE: 0.01702489179178295\n",
            "Predicted top three players in MVP voting with their actual award_share:\n",
            "      season           player pos team_id  award_share was_mvp  is_smote\n",
            "5316    1990   Michael Jordan  SG     CHI        0.613   False     False\n",
            "7159    1990    Magic Johnson  PG     LAL        0.691    True     False\n",
            "7259    1990  Charles Barkley  SF     PHI        0.667   False     False\n",
            "Predicted MVP: Michael Jordan\n",
            "Predicted Win Share: 0.6915906818744343\n",
            "Was MVP correct: False\n",
            "\n",
            "\n",
            "Season: 2004\n"
          ]
        },
        {
          "output_type": "stream",
          "name": "stderr",
          "text": [
            "/usr/local/lib/python3.10/dist-packages/sklearn/base.py:432: UserWarning: X has feature names, but RandomForestRegressor was fitted without feature names\n",
            "  warnings.warn(\n"
          ]
        },
        {
          "output_type": "stream",
          "name": "stdout",
          "text": [
            "MAE: 0.015424085451608482\n",
            "Predicted top three players in MVP voting with their actual award_share:\n",
            "      season            player pos team_id  award_share was_mvp  is_smote\n",
            "1761    2004     Kevin Garnett  PF     MIN        0.991    True     False\n",
            "4361    2004        Tim Duncan  PF     SAS        0.582   False     False\n",
            "5437    2004  Shaquille O'Neal   C     LAL        0.145   False     False\n",
            "Predicted MVP: Kevin Garnett\n",
            "Predicted Win Share: 0.8202962491904913\n",
            "Was MVP correct: True\n",
            "\n",
            "\n",
            "Season: 2016\n"
          ]
        },
        {
          "output_type": "stream",
          "name": "stderr",
          "text": [
            "/usr/local/lib/python3.10/dist-packages/sklearn/base.py:432: UserWarning: X has feature names, but RandomForestRegressor was fitted without feature names\n",
            "  warnings.warn(\n"
          ]
        },
        {
          "output_type": "stream",
          "name": "stdout",
          "text": [
            "MAE: 0.014604768006394165\n",
            "Predicted top three players in MVP voting with their actual award_share:\n",
            "      season         player pos team_id  award_share was_mvp  is_smote\n",
            "852     2016  Stephen Curry  PG     GSW        1.000    True     False\n",
            "3322    2016   LeBron James  SF     CLE        0.482   False     False\n",
            "6676    2016   Kevin Durant  SF     OKC        0.112   False     False\n",
            "Predicted MVP: Stephen Curry\n",
            "Predicted Win Share: 0.7672093051362457\n",
            "Was MVP correct: True\n",
            "\n",
            "\n",
            "Season: 2020\n"
          ]
        },
        {
          "output_type": "stream",
          "name": "stderr",
          "text": [
            "/usr/local/lib/python3.10/dist-packages/sklearn/base.py:432: UserWarning: X has feature names, but RandomForestRegressor was fitted without feature names\n",
            "  warnings.warn(\n"
          ]
        },
        {
          "output_type": "stream",
          "name": "stdout",
          "text": [
            "MAE: 0.013381160869255896\n",
            "Predicted top three players in MVP voting with their actual award_share:\n",
            "      season                 player pos team_id  award_share was_mvp  is_smote\n",
            "3813    2020           LeBron James  PG     LAL        0.746   False     False\n",
            "3574    2020  Giannis Antetokounmpo  PF     MIL        0.952    True     False\n",
            "5666    2020           James Harden  SG     HOU        0.363   False     False\n",
            "Predicted MVP: LeBron James\n",
            "Predicted Win Share: 0.6242916440379472\n",
            "Was MVP correct: False\n",
            "\n",
            "\n",
            "Season: 1982\n"
          ]
        },
        {
          "output_type": "stream",
          "name": "stderr",
          "text": [
            "/usr/local/lib/python3.10/dist-packages/sklearn/base.py:432: UserWarning: X has feature names, but RandomForestRegressor was fitted without feature names\n",
            "  warnings.warn(\n"
          ]
        },
        {
          "output_type": "stream",
          "name": "stdout",
          "text": [
            "MAE: 0.015903173355080465\n",
            "Predicted top three players in MVP voting with their actual award_share:\n",
            "      season         player pos team_id  award_share was_mvp  is_smote\n",
            "4810    1982   Moses Malone   C     HOU        0.735    True     False\n",
            "3857    1982  Julius Erving  SF     PHI        0.294   False     False\n",
            "1496    1982     Larry Bird  PF     BOS        0.588   False     False\n",
            "Predicted MVP: Moses Malone\n",
            "Predicted Win Share: 0.4671950547513801\n",
            "Was MVP correct: True\n",
            "\n",
            "\n",
            "Season: 1988\n",
            "MAE: 0.011438220616422577\n",
            "Predicted top three players in MVP voting with their actual award_share:\n",
            "      season          player pos team_id  award_share was_mvp  is_smote\n",
            "5122    1988  Michael Jordan  SG     CHI        0.831    True     False\n",
            "6199    1988      Larry Bird  SF     BOS        0.659   False     False\n",
            "5605    1988   Magic Johnson  PG     LAL        0.635   False     False\n",
            "Predicted MVP: Michael Jordan\n",
            "Predicted Win Share: 0.7420435620094762\n",
            "Was MVP correct: True\n"
          ]
        },
        {
          "output_type": "stream",
          "name": "stderr",
          "text": [
            "/usr/local/lib/python3.10/dist-packages/sklearn/base.py:432: UserWarning: X has feature names, but RandomForestRegressor was fitted without feature names\n",
            "  warnings.warn(\n"
          ]
        }
      ]
    },
    {
      "cell_type": "code",
      "source": [
        "print(f\"The Random Forest Model predicted the NBA MVP correctly {sum(validation_scores['was_mvp'])/len(seasons)}% of the time\")\n",
        "print(f\"The Random Forest Model predicted the NBA MVP correctly in the top two {sum(validation_scores['was_top_two'])/len(seasons)}% of the time\")\n",
        "print(f\"The Random Forest Model predicted the NBA MVP correctly in the top three {sum(validation_scores['was_top_three'])/len(seasons)}% of the time\")"
      ],
      "metadata": {
        "id": "MvCZHvwmn09q",
        "colab": {
          "base_uri": "https://localhost:8080/"
        },
        "outputId": "620740e4-62df-4f68-c627-124d86fc97f2"
      },
      "execution_count": null,
      "outputs": [
        {
          "output_type": "stream",
          "name": "stdout",
          "text": [
            "The Random Forest Model predicted the NBA MVP correctly 0.75% of the time\n",
            "The Random Forest Model predicted the NBA MVP correctly in the top two 0.975% of the time\n",
            "The Random Forest Model predicted the NBA MVP correctly in the top three 0.975% of the time\n"
          ]
        }
      ]
    },
    {
      "cell_type": "markdown",
      "source": [
        "#Random Forest Model_GridSampler method"
      ],
      "metadata": {
        "id": "yhFZszL6xpV8"
      }
    },
    {
      "cell_type": "markdown",
      "source": [
        "Подбор гиперпараметров с помощью optuna для какого-то одного сезона"
      ],
      "metadata": {
        "id": "Wz6T3Pw0yHn-"
      }
    },
    {
      "cell_type": "code",
      "source": [
        "#подбор гиперпараметров с помощью оптуны\n",
        "import sklearn\n",
        "from sklearn.ensemble import RandomForestRegressor\n",
        "import optuna\n",
        "def object(trial):\n",
        "  seasons = trainInfo.season.unique()\n",
        "#какой-то случайный сезон\n",
        "  season = seasons[-20]\n",
        "  print(\"\\n\")\n",
        "  print(f\"Season: {season}\")\n",
        "  #гиперпараметры\n",
        "  n_est = trial.suggest_int('n_estimators', 2, 20)\n",
        "  max_depth = trial.suggest_int('max_depth', 1, 32, log=True)\n",
        "  min_split = trial.suggest_int('min_split', 2, 10)\n",
        "  min_leaf = trial.suggest_int('min_leaf', 1, 10)\n",
        "  #данные\n",
        "  trainFold = trainData[trainInfo[\"season\"] != season]\n",
        "  trainTarFold = trainTargets[trainInfo[\"season\"] != season]\n",
        "  #модель\n",
        "  regr = RandomForestRegressor(n_estimators=n_est, max_depth=max_depth, min_samples_leaf=min_leaf, min_samples_split=min_split)\n",
        "  #return sklearn.model_selection.cross_val_score(regr, trainFold, trainTarFold, n_jobs=-1, cv=3).mean(np.absolute(valPred - valTarFold.to_numpy()[:,0]))\n",
        "  return sklearn.model_selection.cross_val_score(regr, trainFold, trainTarFold, n_jobs=-1, cv=3).mean()\n"
      ],
      "metadata": {
        "id": "CzfAjO4myHoA"
      },
      "execution_count": null,
      "outputs": []
    },
    {
      "cell_type": "code",
      "source": [
        "search_space = {\"n_estimators\": [2,3,4,5,6,7,8,9,10,11,12,13,14,15,16,17,18,19,20], \"max_depth\": [1,2,3,4,5,6,7,8,9,10,11,12,13,14,15,16,17,18,19,20,21,22,23,24,25,26,27,28,29,30,31,32], \"min_leaf\": [1,2,3,4,5,6,7,8,9,10], \"min_split\": [2,3,4,5,6,7,8,9,10]}\n",
        "study = optuna.create_study(sampler=optuna.samplers.GridSampler(search_space), direction='maximize')\n",
        "study.optimize(object, n_trials=50)\n",
        "\n",
        "trial = study.best_trial\n",
        "\n",
        "print('Accuracy: {}'.format(trial.value))\n",
        "print('Best hyperparametrs: {}'.format(trial.params))"
      ],
      "metadata": {
        "id": "2UzmFt76yHoB",
        "colab": {
          "base_uri": "https://localhost:8080/"
        },
        "outputId": "c8428d5c-c8ca-4f29-c442-0a44aefc483a"
      },
      "execution_count": null,
      "outputs": [
        {
          "output_type": "stream",
          "name": "stderr",
          "text": [
            "\u001b[32m[I 2023-05-15 11:56:10,661]\u001b[0m A new study created in memory with name: no-name-ea61a43f-44d4-4a27-a0ba-cddf0fb0daef\u001b[0m\n"
          ]
        },
        {
          "output_type": "stream",
          "name": "stdout",
          "text": [
            "\n",
            "\n",
            "Season: 2013\n"
          ]
        },
        {
          "output_type": "stream",
          "name": "stderr",
          "text": [
            "\u001b[32m[I 2023-05-15 11:56:11,686]\u001b[0m Trial 0 finished with value: 0.7931881655767364 and parameters: {'n_estimators': 4, 'max_depth': 11, 'min_split': 10, 'min_leaf': 10}. Best is trial 0 with value: 0.7931881655767364.\u001b[0m\n"
          ]
        },
        {
          "output_type": "stream",
          "name": "stdout",
          "text": [
            "\n",
            "\n",
            "Season: 2013\n"
          ]
        },
        {
          "output_type": "stream",
          "name": "stderr",
          "text": [
            "\u001b[32m[I 2023-05-15 11:56:16,360]\u001b[0m Trial 1 finished with value: 0.8720544214155798 and parameters: {'n_estimators': 12, 'max_depth': 21, 'min_split': 4, 'min_leaf': 1}. Best is trial 1 with value: 0.8720544214155798.\u001b[0m\n"
          ]
        },
        {
          "output_type": "stream",
          "name": "stdout",
          "text": [
            "\n",
            "\n",
            "Season: 2013\n"
          ]
        },
        {
          "output_type": "stream",
          "name": "stderr",
          "text": [
            "\u001b[32m[I 2023-05-15 11:56:21,074]\u001b[0m Trial 2 finished with value: 0.8708843135420752 and parameters: {'n_estimators': 16, 'max_depth': 11, 'min_split': 2, 'min_leaf': 1}. Best is trial 1 with value: 0.8720544214155798.\u001b[0m\n"
          ]
        },
        {
          "output_type": "stream",
          "name": "stdout",
          "text": [
            "\n",
            "\n",
            "Season: 2013\n"
          ]
        },
        {
          "output_type": "stream",
          "name": "stderr",
          "text": [
            "\u001b[32m[I 2023-05-15 11:56:22,014]\u001b[0m Trial 3 finished with value: 0.7960204357637308 and parameters: {'n_estimators': 3, 'max_depth': 19, 'min_split': 3, 'min_leaf': 8}. Best is trial 1 with value: 0.8720544214155798.\u001b[0m\n"
          ]
        },
        {
          "output_type": "stream",
          "name": "stdout",
          "text": [
            "\n",
            "\n",
            "Season: 2013\n"
          ]
        },
        {
          "output_type": "stream",
          "name": "stderr",
          "text": [
            "\u001b[32m[I 2023-05-15 11:56:23,793]\u001b[0m Trial 4 finished with value: 0.8068270640733348 and parameters: {'n_estimators': 10, 'max_depth': 8, 'min_split': 7, 'min_leaf': 10}. Best is trial 1 with value: 0.8720544214155798.\u001b[0m\n"
          ]
        },
        {
          "output_type": "stream",
          "name": "stdout",
          "text": [
            "\n",
            "\n",
            "Season: 2013\n"
          ]
        },
        {
          "output_type": "stream",
          "name": "stderr",
          "text": [
            "\u001b[32m[I 2023-05-15 11:56:24,502]\u001b[0m Trial 5 finished with value: 0.6528582729500129 and parameters: {'n_estimators': 7, 'max_depth': 3, 'min_split': 6, 'min_leaf': 1}. Best is trial 1 with value: 0.8720544214155798.\u001b[0m\n"
          ]
        },
        {
          "output_type": "stream",
          "name": "stdout",
          "text": [
            "\n",
            "\n",
            "Season: 2013\n"
          ]
        },
        {
          "output_type": "stream",
          "name": "stderr",
          "text": [
            "\u001b[32m[I 2023-05-15 11:56:25,101]\u001b[0m Trial 6 finished with value: 0.7587268690713915 and parameters: {'n_estimators': 3, 'max_depth': 6, 'min_split': 2, 'min_leaf': 4}. Best is trial 1 with value: 0.8720544214155798.\u001b[0m\n"
          ]
        },
        {
          "output_type": "stream",
          "name": "stdout",
          "text": [
            "\n",
            "\n",
            "Season: 2013\n"
          ]
        },
        {
          "output_type": "stream",
          "name": "stderr",
          "text": [
            "\u001b[32m[I 2023-05-15 11:56:31,416]\u001b[0m Trial 7 finished with value: 0.8634920115781718 and parameters: {'n_estimators': 20, 'max_depth': 15, 'min_split': 8, 'min_leaf': 4}. Best is trial 1 with value: 0.8720544214155798.\u001b[0m\n"
          ]
        },
        {
          "output_type": "stream",
          "name": "stdout",
          "text": [
            "\n",
            "\n",
            "Season: 2013\n"
          ]
        },
        {
          "output_type": "stream",
          "name": "stderr",
          "text": [
            "\u001b[32m[I 2023-05-15 11:56:36,390]\u001b[0m Trial 8 finished with value: 0.8564553543465744 and parameters: {'n_estimators': 19, 'max_depth': 13, 'min_split': 10, 'min_leaf': 4}. Best is trial 1 with value: 0.8720544214155798.\u001b[0m\n"
          ]
        },
        {
          "output_type": "stream",
          "name": "stdout",
          "text": [
            "\n",
            "\n",
            "Season: 2013\n"
          ]
        },
        {
          "output_type": "stream",
          "name": "stderr",
          "text": [
            "\u001b[32m[I 2023-05-15 11:56:39,982]\u001b[0m Trial 9 finished with value: 0.8148126361678057 and parameters: {'n_estimators': 20, 'max_depth': 8, 'min_split': 7, 'min_leaf': 10}. Best is trial 1 with value: 0.8720544214155798.\u001b[0m\n"
          ]
        },
        {
          "output_type": "stream",
          "name": "stdout",
          "text": [
            "\n",
            "\n",
            "Season: 2013\n"
          ]
        },
        {
          "output_type": "stream",
          "name": "stderr",
          "text": [
            "\u001b[32m[I 2023-05-15 11:56:41,601]\u001b[0m Trial 10 finished with value: 0.6557845220090599 and parameters: {'n_estimators': 19, 'max_depth': 3, 'min_split': 3, 'min_leaf': 1}. Best is trial 1 with value: 0.8720544214155798.\u001b[0m\n"
          ]
        },
        {
          "output_type": "stream",
          "name": "stdout",
          "text": [
            "\n",
            "\n",
            "Season: 2013\n"
          ]
        },
        {
          "output_type": "stream",
          "name": "stderr",
          "text": [
            "\u001b[32m[I 2023-05-15 11:56:44,159]\u001b[0m Trial 11 finished with value: 0.8027539691014205 and parameters: {'n_estimators': 10, 'max_depth': 7, 'min_split': 6, 'min_leaf': 9}. Best is trial 1 with value: 0.8720544214155798.\u001b[0m\n"
          ]
        },
        {
          "output_type": "stream",
          "name": "stdout",
          "text": [
            "\n",
            "\n",
            "Season: 2013\n"
          ]
        },
        {
          "output_type": "stream",
          "name": "stderr",
          "text": [
            "\u001b[32m[I 2023-05-15 11:56:47,271]\u001b[0m Trial 12 finished with value: 0.8213349739324571 and parameters: {'n_estimators': 12, 'max_depth': 9, 'min_split': 8, 'min_leaf': 8}. Best is trial 1 with value: 0.8720544214155798.\u001b[0m\n"
          ]
        },
        {
          "output_type": "stream",
          "name": "stdout",
          "text": [
            "\n",
            "\n",
            "Season: 2013\n"
          ]
        },
        {
          "output_type": "stream",
          "name": "stderr",
          "text": [
            "\u001b[32m[I 2023-05-15 11:56:52,498]\u001b[0m Trial 13 finished with value: 0.8700076659251672 and parameters: {'n_estimators': 17, 'max_depth': 16, 'min_split': 5, 'min_leaf': 1}. Best is trial 1 with value: 0.8720544214155798.\u001b[0m\n"
          ]
        },
        {
          "output_type": "stream",
          "name": "stdout",
          "text": [
            "\n",
            "\n",
            "Season: 2013\n"
          ]
        },
        {
          "output_type": "stream",
          "name": "stderr",
          "text": [
            "\u001b[32m[I 2023-05-15 11:56:56,670]\u001b[0m Trial 14 finished with value: 0.8600880399459623 and parameters: {'n_estimators': 12, 'max_depth': 29, 'min_split': 9, 'min_leaf': 1}. Best is trial 1 with value: 0.8720544214155798.\u001b[0m\n"
          ]
        },
        {
          "output_type": "stream",
          "name": "stdout",
          "text": [
            "\n",
            "\n",
            "Season: 2013\n"
          ]
        },
        {
          "output_type": "stream",
          "name": "stderr",
          "text": [
            "\u001b[32m[I 2023-05-15 11:56:57,703]\u001b[0m Trial 15 finished with value: 0.707236009729516 and parameters: {'n_estimators': 5, 'max_depth': 4, 'min_split': 5, 'min_leaf': 6}. Best is trial 1 with value: 0.8720544214155798.\u001b[0m\n"
          ]
        },
        {
          "output_type": "stream",
          "name": "stdout",
          "text": [
            "\n",
            "\n",
            "Season: 2013\n"
          ]
        },
        {
          "output_type": "stream",
          "name": "stderr",
          "text": [
            "\u001b[32m[I 2023-05-15 11:56:58,948]\u001b[0m Trial 16 finished with value: 0.7913694095528174 and parameters: {'n_estimators': 2, 'max_depth': 25, 'min_split': 8, 'min_leaf': 1}. Best is trial 1 with value: 0.8720544214155798.\u001b[0m\n"
          ]
        },
        {
          "output_type": "stream",
          "name": "stdout",
          "text": [
            "\n",
            "\n",
            "Season: 2013\n"
          ]
        },
        {
          "output_type": "stream",
          "name": "stderr",
          "text": [
            "\u001b[32m[I 2023-05-15 11:57:00,848]\u001b[0m Trial 17 finished with value: 0.811222080163672 and parameters: {'n_estimators': 8, 'max_depth': 9, 'min_split': 10, 'min_leaf': 10}. Best is trial 1 with value: 0.8720544214155798.\u001b[0m\n"
          ]
        },
        {
          "output_type": "stream",
          "name": "stdout",
          "text": [
            "\n",
            "\n",
            "Season: 2013\n"
          ]
        },
        {
          "output_type": "stream",
          "name": "stderr",
          "text": [
            "\u001b[32m[I 2023-05-15 11:57:03,002]\u001b[0m Trial 18 finished with value: 0.8301265847696206 and parameters: {'n_estimators': 8, 'max_depth': 18, 'min_split': 10, 'min_leaf': 8}. Best is trial 1 with value: 0.8720544214155798.\u001b[0m\n"
          ]
        },
        {
          "output_type": "stream",
          "name": "stdout",
          "text": [
            "\n",
            "\n",
            "Season: 2013\n"
          ]
        },
        {
          "output_type": "stream",
          "name": "stderr",
          "text": [
            "\u001b[32m[I 2023-05-15 11:57:07,899]\u001b[0m Trial 19 finished with value: 0.8470474795164131 and parameters: {'n_estimators': 18, 'max_depth': 26, 'min_split': 4, 'min_leaf': 6}. Best is trial 1 with value: 0.8720544214155798.\u001b[0m\n"
          ]
        },
        {
          "output_type": "stream",
          "name": "stdout",
          "text": [
            "Accuracy: 0.8720544214155798\n",
            "Best hyperparametrs: {'n_estimators': 12, 'max_depth': 21, 'min_split': 4, 'min_leaf': 1}\n"
          ]
        }
      ]
    },
    {
      "cell_type": "code",
      "source": [
        "print(trial.params)"
      ],
      "metadata": {
        "id": "kG4E68x8yHoB",
        "colab": {
          "base_uri": "https://localhost:8080/"
        },
        "outputId": "e713feb4-5e03-4b3b-f962-6216a70e16a2"
      },
      "execution_count": null,
      "outputs": [
        {
          "output_type": "stream",
          "name": "stdout",
          "text": [
            "{'n_estimators': 12, 'max_depth': 21, 'min_split': 4, 'min_leaf': 1}\n"
          ]
        }
      ]
    },
    {
      "cell_type": "code",
      "source": [
        "#обучение с оптимальными гиперпараметрами\n",
        "from sklearn.ensemble import RandomForestRegressor\n",
        "\n",
        "validation_scores = {\"season\" : [], \"mae\" : [], \"was_mvp\" : [], \"was_top_two\" : [], \"was_top_three\":[], \"info\" : []}\n",
        "seasons = trainInfo.season.unique()\n",
        "#какой-то случайный сезон\n",
        "season = seasons[-20]\n",
        "print(\"\\n\")\n",
        "print(f\"Season: {season}\")\n",
        "\n",
        "trainFold = trainData[trainInfo[\"season\"] != season]\n",
        "trainTarFold = trainTargets[trainInfo[\"season\"] != season]\n",
        "valFold = trainData[(trainInfo[\"season\"] == season) & (~trainInfo[\"is_smote\"])]\n",
        "valTarFold = trainTargets[(trainInfo[\"season\"] == season) & (~trainInfo[\"is_smote\"])]\n",
        "valInfo = trainInfo[(trainInfo[\"season\"] == season) & (~trainInfo[\"is_smote\"])]\n",
        "\n",
        "regr = RandomForestRegressor(n_estimators=trial.params['n_estimators'], max_depth=trial.params['max_depth'],\n",
        "                             min_samples_leaf=trial.params['min_leaf'], min_samples_split=trial.params['min_split'], random_state=0)\n",
        "regr.fit(trainFold.to_numpy(), trainTarFold.to_numpy()[:,0])\n",
        "\n",
        "valPred = regr.predict(valFold)\n",
        "mae = np.mean(np.absolute(valPred - valTarFold.to_numpy()[:,0]))\n",
        "\n",
        "print(f\"MAE: {mae}\")\n",
        "\n",
        "topTwo = valInfo.iloc[np.argsort(valPred)[-2:]]\n",
        "was_top_two = sum(topTwo[\"was_mvp\"]) > 0\n",
        "topThree = valInfo.iloc[np.argsort(valPred)[-3:]]\n",
        "was_top_three = sum(topThree[\"was_mvp\"]) > 0\n",
        "print(\"Predicted top three players in MVP voting with their actual award_share:\")\n",
        "print(topThree.iloc[::-1])\n",
        "\n",
        "\n",
        "mostVotes = np.argmax(valPred)\n",
        "score = np.amax(valPred)\n",
        "was_mvp = valInfo.iloc[[mostVotes]][\"was_mvp\"].values[0]\n",
        "player = valInfo.iloc[[mostVotes]][\"player\"].values[0]\n",
        "print(f\"Predicted MVP: {player}\")\n",
        "print(f\"Predicted Win Share: {score}\")\n",
        "print(f\"Was MVP correct: {was_mvp}\")\n",
        " \n",
        "validation_scores[\"season\"].append(season)\n",
        "validation_scores[\"mae\"].append(mae)\n",
        "validation_scores[\"was_mvp\"].append(was_mvp)\n",
        "validation_scores[\"was_top_two\"].append(was_top_three)\n",
        "validation_scores[\"was_top_three\"].append(was_top_three)\n",
        "validation_scores[\"info\"].append(valInfo.iloc[[mostVotes]])"
      ],
      "metadata": {
        "id": "Y4wug3BVyHoC",
        "colab": {
          "base_uri": "https://localhost:8080/"
        },
        "outputId": "f4900eef-ff88-47b4-f1f7-7d40cd943649"
      },
      "execution_count": null,
      "outputs": [
        {
          "output_type": "stream",
          "name": "stdout",
          "text": [
            "\n",
            "\n",
            "Season: 2013\n",
            "MAE: 0.008997657430681007\n",
            "Predicted top three players in MVP voting with their actual award_share:\n",
            "     season           player pos team_id  award_share was_mvp  is_smote\n",
            "325    2013     LeBron James  PF     MIA        0.998    True     False\n",
            "992    2013     Kevin Durant  SF     OKC        0.632   False     False\n",
            "333    2013  Carmelo Anthony  PF     NYK        0.393   False     False\n",
            "Predicted MVP: LeBron James\n",
            "Predicted Win Share: 0.9177485591928076\n",
            "Was MVP correct: True\n"
          ]
        },
        {
          "output_type": "stream",
          "name": "stderr",
          "text": [
            "/usr/local/lib/python3.10/dist-packages/sklearn/base.py:432: UserWarning: X has feature names, but RandomForestRegressor was fitted without feature names\n",
            "  warnings.warn(\n"
          ]
        }
      ]
    },
    {
      "cell_type": "code",
      "source": [
        "from sklearn.ensemble import RandomForestRegressor\n",
        "\n",
        "validation_scores = {\"season\" : [], \"mae\" : [], \"was_mvp\" : [], \"was_top_two\" : [], \"was_top_three\":[], \"info\" : []}\n",
        "seasons = trainInfo.season.unique()\n",
        "for season in seasons:\n",
        "  print(\"\\n\")\n",
        "  print(f\"Season: {season}\")\n",
        "\n",
        "  trainFold = trainData[trainInfo[\"season\"] != season]\n",
        "  trainTarFold = trainTargets[trainInfo[\"season\"] != season]\n",
        "  valFold = trainData[(trainInfo[\"season\"] == season) & (~trainInfo[\"is_smote\"])]\n",
        "  valTarFold = trainTargets[(trainInfo[\"season\"] == season) & (~trainInfo[\"is_smote\"])]\n",
        "  valInfo = trainInfo[(trainInfo[\"season\"] == season) & (~trainInfo[\"is_smote\"])]\n",
        "\n",
        "  regr = RandomForestRegressor(n_estimators=trial.params['n_estimators'], max_depth=trial.params['max_depth'],\n",
        "                             min_samples_leaf=trial.params['min_leaf'], min_samples_split=trial.params['min_split'], random_state=0)\n",
        "  regr.fit(trainFold.to_numpy(), trainTarFold.to_numpy()[:,0])\n",
        "\n",
        "  valPred = regr.predict(valFold)\n",
        "  mae = np.mean(np.absolute(valPred - valTarFold.to_numpy()[:,0]))\n",
        "\n",
        "  print(f\"MAE: {mae}\")\n",
        "\n",
        "  topTwo = valInfo.iloc[np.argsort(valPred)[-2:]]\n",
        "  was_top_two = sum(topTwo[\"was_mvp\"]) > 0\n",
        "  topThree = valInfo.iloc[np.argsort(valPred)[-3:]]\n",
        "  was_top_three = sum(topThree[\"was_mvp\"]) > 0\n",
        "  print(\"Predicted top three players in MVP voting with their actual award_share:\")\n",
        "  print(topThree.iloc[::-1])\n",
        "\n",
        "\n",
        "  mostVotes = np.argmax(valPred)\n",
        "  score = np.amax(valPred)\n",
        "  was_mvp = valInfo.iloc[[mostVotes]][\"was_mvp\"].values[0]\n",
        "  player = valInfo.iloc[[mostVotes]][\"player\"].values[0]\n",
        "  print(f\"Predicted MVP: {player}\")\n",
        "  print(f\"Predicted Win Share: {score}\")\n",
        "  print(f\"Was MVP correct: {was_mvp}\")\n",
        "  \n",
        "  validation_scores[\"season\"].append(season)\n",
        "  validation_scores[\"mae\"].append(mae)\n",
        "  validation_scores[\"was_mvp\"].append(was_mvp)\n",
        "  validation_scores[\"was_top_two\"].append(was_top_three)\n",
        "  validation_scores[\"was_top_three\"].append(was_top_three)\n",
        "  validation_scores[\"info\"].append(valInfo.iloc[[mostVotes]])"
      ],
      "metadata": {
        "id": "9FqLwprCyHoC",
        "colab": {
          "base_uri": "https://localhost:8080/"
        },
        "outputId": "3c0ada6c-8a4e-4cf8-ccc6-7928ce2419aa"
      },
      "execution_count": null,
      "outputs": [
        {
          "output_type": "stream",
          "name": "stdout",
          "text": [
            "\n",
            "\n",
            "Season: 2019\n"
          ]
        },
        {
          "output_type": "stream",
          "name": "stderr",
          "text": [
            "/usr/local/lib/python3.10/dist-packages/sklearn/base.py:432: UserWarning: X has feature names, but RandomForestRegressor was fitted without feature names\n",
            "  warnings.warn(\n"
          ]
        },
        {
          "output_type": "stream",
          "name": "stdout",
          "text": [
            "MAE: 0.014049177604745333\n",
            "Predicted top three players in MVP voting with their actual award_share:\n",
            "      season                 player pos team_id  award_share was_mvp  is_smote\n",
            "7305    2019  Giannis Antetokounmpo  PF     MIL        0.932    True     False\n",
            "6715    2019           James Harden  PG     HOU        0.768   False     False\n",
            "6405    2019            Paul George  SF     OKC        0.352   False     False\n",
            "Predicted MVP: Giannis Antetokounmpo\n",
            "Predicted Win Share: 0.7171957040514454\n",
            "Was MVP correct: True\n",
            "\n",
            "\n",
            "Season: 1993\n"
          ]
        },
        {
          "output_type": "stream",
          "name": "stderr",
          "text": [
            "/usr/local/lib/python3.10/dist-packages/sklearn/base.py:432: UserWarning: X has feature names, but RandomForestRegressor was fitted without feature names\n",
            "  warnings.warn(\n"
          ]
        },
        {
          "output_type": "stream",
          "name": "stdout",
          "text": [
            "MAE: 0.011038501707624559\n",
            "Predicted top three players in MVP voting with their actual award_share:\n",
            "      season           player pos team_id  award_share was_mvp  is_smote\n",
            "2919    1993   Michael Jordan  SG     CHI        0.577   False     False\n",
            "1611    1993  Charles Barkley  PF     PHO        0.852    True     False\n",
            "6646    1993  Hakeem Olajuwon   C     HOU        0.660   False     False\n",
            "Predicted MVP: Michael Jordan\n",
            "Predicted Win Share: 0.6695827215239042\n",
            "Was MVP correct: False\n",
            "\n",
            "\n",
            "Season: 1991\n"
          ]
        },
        {
          "output_type": "stream",
          "name": "stderr",
          "text": [
            "/usr/local/lib/python3.10/dist-packages/sklearn/base.py:432: UserWarning: X has feature names, but RandomForestRegressor was fitted without feature names\n",
            "  warnings.warn(\n"
          ]
        },
        {
          "output_type": "stream",
          "name": "stdout",
          "text": [
            "MAE: 0.011503163694798795\n",
            "Predicted top three players in MVP voting with their actual award_share:\n",
            "      season          player pos team_id  award_share was_mvp  is_smote\n",
            "4249    1991  Michael Jordan  SG     CHI        0.928    True     False\n",
            "1116    1991   Magic Johnson  PG     LAL        0.518   False     False\n",
            "7544    1991  David Robinson   C     SAS        0.496   False     False\n",
            "Predicted MVP: Michael Jordan\n",
            "Predicted Win Share: 0.8372365191119174\n",
            "Was MVP correct: True\n",
            "\n",
            "\n",
            "Season: 1996\n"
          ]
        },
        {
          "output_type": "stream",
          "name": "stderr",
          "text": [
            "/usr/local/lib/python3.10/dist-packages/sklearn/base.py:432: UserWarning: X has feature names, but RandomForestRegressor was fitted without feature names\n",
            "  warnings.warn(\n"
          ]
        },
        {
          "output_type": "stream",
          "name": "stdout",
          "text": [
            "MAE: 0.008212944331032163\n",
            "Predicted top three players in MVP voting with their actual award_share:\n",
            "      season             player pos team_id  award_share was_mvp  is_smote\n",
            "7472    1996     Michael Jordan  SG     CHI        0.986    True     False\n",
            "2424    1996     David Robinson   C     SAS        0.508   False     False\n",
            "588     1996  Anfernee Hardaway  PG     ORL        0.319   False     False\n",
            "Predicted MVP: Michael Jordan\n",
            "Predicted Win Share: 0.8872003259028868\n",
            "Was MVP correct: True\n",
            "\n",
            "\n",
            "Season: 1987\n"
          ]
        },
        {
          "output_type": "stream",
          "name": "stderr",
          "text": [
            "/usr/local/lib/python3.10/dist-packages/sklearn/base.py:432: UserWarning: X has feature names, but RandomForestRegressor was fitted without feature names\n",
            "  warnings.warn(\n"
          ]
        },
        {
          "output_type": "stream",
          "name": "stdout",
          "text": [
            "MAE: 0.014022893967514374\n",
            "Predicted top three players in MVP voting with their actual award_share:\n",
            "      season          player pos team_id  award_share was_mvp  is_smote\n",
            "1798    1987   Magic Johnson  PG     LAL        0.940    True     False\n",
            "901     1987      Larry Bird  SF     BOS        0.347   False     False\n",
            "5974    1987  Michael Jordan  SG     CHI        0.576   False     False\n",
            "Predicted MVP: Magic Johnson\n",
            "Predicted Win Share: 0.6880786019573115\n",
            "Was MVP correct: True\n",
            "\n",
            "\n",
            "Season: 2017\n"
          ]
        },
        {
          "output_type": "stream",
          "name": "stderr",
          "text": [
            "/usr/local/lib/python3.10/dist-packages/sklearn/base.py:432: UserWarning: X has feature names, but RandomForestRegressor was fitted without feature names\n",
            "  warnings.warn(\n"
          ]
        },
        {
          "output_type": "stream",
          "name": "stdout",
          "text": [
            "MAE: 0.019502305036465845\n",
            "Predicted top three players in MVP voting with their actual award_share:\n",
            "      season             player pos team_id  award_share was_mvp  is_smote\n",
            "2150    2017  Russell Westbrook  PG     OKC        0.879    True     False\n",
            "2931    2017       James Harden  PG     HOU        0.746   False     False\n",
            "6367    2017      Kawhi Leonard  SF     SAS        0.495   False     False\n",
            "Predicted MVP: Russell Westbrook\n",
            "Predicted Win Share: 0.6302016287438598\n",
            "Was MVP correct: True\n",
            "\n",
            "\n",
            "Season: 2015\n"
          ]
        },
        {
          "output_type": "stream",
          "name": "stderr",
          "text": [
            "/usr/local/lib/python3.10/dist-packages/sklearn/base.py:432: UserWarning: X has feature names, but RandomForestRegressor was fitted without feature names\n",
            "  warnings.warn(\n"
          ]
        },
        {
          "output_type": "stream",
          "name": "stdout",
          "text": [
            "MAE: 0.015442123110002643\n",
            "Predicted top three players in MVP voting with their actual award_share:\n",
            "      season         player pos team_id  award_share was_mvp  is_smote\n",
            "4831    2015  Stephen Curry  PG     GSW        0.922    True     False\n",
            "2446    2015   James Harden  SG     HOU        0.720   False     False\n",
            "1160    2015   LeBron James  SF     CLE        0.425   False     False\n",
            "Predicted MVP: Stephen Curry\n",
            "Predicted Win Share: 0.5185578546211929\n",
            "Was MVP correct: True\n",
            "\n",
            "\n",
            "Season: 2000\n"
          ]
        },
        {
          "output_type": "stream",
          "name": "stderr",
          "text": [
            "/usr/local/lib/python3.10/dist-packages/sklearn/base.py:432: UserWarning: X has feature names, but RandomForestRegressor was fitted without feature names\n",
            "  warnings.warn(\n"
          ]
        },
        {
          "output_type": "stream",
          "name": "stdout",
          "text": [
            "MAE: 0.006675749053510283\n",
            "Predicted top three players in MVP voting with their actual award_share:\n",
            "      season            player pos team_id  award_share was_mvp  is_smote\n",
            "4614    2000  Shaquille O'Neal   C     LAL        0.998    True     False\n",
            "4933    2000     Kevin Garnett  PF     MIN        0.337   False     False\n",
            "391     2000   Alonzo Mourning   C     MIA        0.303   False     False\n",
            "Predicted MVP: Shaquille O'Neal\n",
            "Predicted Win Share: 0.993381954371333\n",
            "Was MVP correct: True\n",
            "\n",
            "\n",
            "Season: 2009\n"
          ]
        },
        {
          "output_type": "stream",
          "name": "stderr",
          "text": [
            "/usr/local/lib/python3.10/dist-packages/sklearn/base.py:432: UserWarning: X has feature names, but RandomForestRegressor was fitted without feature names\n",
            "  warnings.warn(\n"
          ]
        },
        {
          "output_type": "stream",
          "name": "stdout",
          "text": [
            "MAE: 0.010344250712466932\n",
            "Predicted top three players in MVP voting with their actual award_share:\n",
            "      season         player pos team_id  award_share was_mvp  is_smote\n",
            "730     2009   LeBron James  SF     CLE        0.969    True     False\n",
            "2286    2009    Dwyane Wade  SG     MIA        0.562   False     False\n",
            "5507    2009  Dwight Howard   C     ORL        0.271   False     False\n",
            "Predicted MVP: LeBron James\n",
            "Predicted Win Share: 0.9558434787039628\n",
            "Was MVP correct: True\n",
            "\n",
            "\n",
            "Season: 1997\n"
          ]
        },
        {
          "output_type": "stream",
          "name": "stderr",
          "text": [
            "/usr/local/lib/python3.10/dist-packages/sklearn/base.py:432: UserWarning: X has feature names, but RandomForestRegressor was fitted without feature names\n",
            "  warnings.warn(\n"
          ]
        },
        {
          "output_type": "stream",
          "name": "stdout",
          "text": [
            "MAE: 0.011781266072917082\n",
            "Predicted top three players in MVP voting with their actual award_share:\n",
            "      season          player pos team_id  award_share was_mvp  is_smote\n",
            "3820    1997  Michael Jordan  SG     CHI        0.832   False     False\n",
            "1979    1997     Karl Malone  PF     UTA        0.857    True     False\n",
            "5825    1997      Grant Hill  SF     DET        0.327   False     False\n",
            "Predicted MVP: Michael Jordan\n",
            "Predicted Win Share: 0.8575574907739313\n",
            "Was MVP correct: False\n",
            "\n",
            "\n",
            "Season: 2008\n"
          ]
        },
        {
          "output_type": "stream",
          "name": "stderr",
          "text": [
            "/usr/local/lib/python3.10/dist-packages/sklearn/base.py:432: UserWarning: X has feature names, but RandomForestRegressor was fitted without feature names\n",
            "  warnings.warn(\n"
          ]
        },
        {
          "output_type": "stream",
          "name": "stdout",
          "text": [
            "MAE: 0.02117998065380287\n",
            "Predicted top three players in MVP voting with their actual award_share:\n",
            "      season         player pos team_id  award_share was_mvp  is_smote\n",
            "3312    2008   LeBron James  SF     CLE        0.348   False     False\n",
            "130     2008     Chris Paul  PG     NOH        0.710   False     False\n",
            "4070    2008  Kevin Garnett  PF     BOS        0.532   False     False\n",
            "Predicted MVP: LeBron James\n",
            "Predicted Win Share: 0.5729901243652683\n",
            "Was MVP correct: False\n",
            "\n",
            "\n",
            "Season: 2011\n"
          ]
        },
        {
          "output_type": "stream",
          "name": "stderr",
          "text": [
            "/usr/local/lib/python3.10/dist-packages/sklearn/base.py:432: UserWarning: X has feature names, but RandomForestRegressor was fitted without feature names\n",
            "  warnings.warn(\n"
          ]
        },
        {
          "output_type": "stream",
          "name": "stdout",
          "text": [
            "MAE: 0.010516166109782394\n",
            "Predicted top three players in MVP voting with their actual award_share:\n",
            "      season         player pos team_id  award_share was_mvp  is_smote\n",
            "6608    2011   Derrick Rose  PG     CHI        0.977    True     False\n",
            "1950    2011   LeBron James  SF     MIA        0.431   False     False\n",
            "115     2011  Dwight Howard   C     ORL        0.531   False     False\n",
            "Predicted MVP: Derrick Rose\n",
            "Predicted Win Share: 0.8576860201450319\n",
            "Was MVP correct: True\n",
            "\n",
            "\n",
            "Season: 2005\n"
          ]
        },
        {
          "output_type": "stream",
          "name": "stderr",
          "text": [
            "/usr/local/lib/python3.10/dist-packages/sklearn/base.py:432: UserWarning: X has feature names, but RandomForestRegressor was fitted without feature names\n",
            "  warnings.warn(\n"
          ]
        },
        {
          "output_type": "stream",
          "name": "stdout",
          "text": [
            "MAE: 0.01918518128681539\n",
            "Predicted top three players in MVP voting with their actual award_share:\n",
            "      season             player pos team_id  award_share was_mvp  is_smote\n",
            "4424    2005         Steve Nash  PG     PHO        0.839    True     False\n",
            "1124    2005  Amar'e Stoudemire   C     PHO        0.032   False     False\n",
            "4019    2005   Shaquille O'Neal   C     MIA        0.813   False     False\n",
            "Predicted MVP: Steve Nash\n",
            "Predicted Win Share: 0.6744638709657532\n",
            "Was MVP correct: True\n",
            "\n",
            "\n",
            "Season: 2012\n"
          ]
        },
        {
          "output_type": "stream",
          "name": "stderr",
          "text": [
            "/usr/local/lib/python3.10/dist-packages/sklearn/base.py:432: UserWarning: X has feature names, but RandomForestRegressor was fitted without feature names\n",
            "  warnings.warn(\n"
          ]
        },
        {
          "output_type": "stream",
          "name": "stdout",
          "text": [
            "MAE: 0.015655792931172422\n",
            "Predicted top three players in MVP voting with their actual award_share:\n",
            "      season        player pos team_id  award_share was_mvp  is_smote\n",
            "7106    2012  LeBron James  SF     MIA        0.888    True     False\n",
            "3028    2012  Kevin Durant  SF     OKC        0.735   False     False\n",
            "5017    2012  Derrick Rose  PG     CHI        0.004   False     False\n",
            "Predicted MVP: LeBron James\n",
            "Predicted Win Share: 0.6938735935114594\n",
            "Was MVP correct: True\n",
            "\n",
            "\n",
            "Season: 1983\n"
          ]
        },
        {
          "output_type": "stream",
          "name": "stderr",
          "text": [
            "/usr/local/lib/python3.10/dist-packages/sklearn/base.py:432: UserWarning: X has feature names, but RandomForestRegressor was fitted without feature names\n",
            "  warnings.warn(\n"
          ]
        },
        {
          "output_type": "stream",
          "name": "stdout",
          "text": [
            "MAE: 0.01323419781241192\n",
            "Predicted top three players in MVP voting with their actual award_share:\n",
            "      season         player pos team_id  award_share was_mvp  is_smote\n",
            "224     1983   Moses Malone   C     PHI        0.960    True     False\n",
            "7221    1983     Larry Bird  PF     BOS        0.485   False     False\n",
            "2457    1983  Magic Johnson  SG     LAL        0.406   False     False\n",
            "Predicted MVP: Moses Malone\n",
            "Predicted Win Share: 0.7425316374581589\n",
            "Was MVP correct: True\n",
            "\n",
            "\n",
            "Season: 1992\n"
          ]
        },
        {
          "output_type": "stream",
          "name": "stderr",
          "text": [
            "/usr/local/lib/python3.10/dist-packages/sklearn/base.py:432: UserWarning: X has feature names, but RandomForestRegressor was fitted without feature names\n",
            "  warnings.warn(\n"
          ]
        },
        {
          "output_type": "stream",
          "name": "stdout",
          "text": [
            "MAE: 0.01046194305880945\n",
            "Predicted top three players in MVP voting with their actual award_share:\n",
            "      season          player pos team_id  award_share was_mvp  is_smote\n",
            "897     1992  Michael Jordan  SG     CHI        0.938    True     False\n",
            "458     1992   Clyde Drexler  SG     POR        0.584   False     False\n",
            "4390    1992     Karl Malone  PF     UTA        0.273   False     False\n",
            "Predicted MVP: Michael Jordan\n",
            "Predicted Win Share: 0.8232202737346187\n",
            "Was MVP correct: True\n",
            "\n",
            "\n",
            "Season: 1989\n"
          ]
        },
        {
          "output_type": "stream",
          "name": "stderr",
          "text": [
            "/usr/local/lib/python3.10/dist-packages/sklearn/base.py:432: UserWarning: X has feature names, but RandomForestRegressor was fitted without feature names\n",
            "  warnings.warn(\n"
          ]
        },
        {
          "output_type": "stream",
          "name": "stdout",
          "text": [
            "MAE: 0.012162947998684774\n",
            "Predicted top three players in MVP voting with their actual award_share:\n",
            "      season          player pos team_id  award_share was_mvp  is_smote\n",
            "411     1989  Michael Jordan  SG     CHI        0.704   False     False\n",
            "3225    1989   Magic Johnson  PG     LAL        0.782    True     False\n",
            "7675    1989     Karl Malone  PF     UTA        0.426   False     False\n",
            "Predicted MVP: Michael Jordan\n",
            "Predicted Win Share: 0.7467069951271826\n",
            "Was MVP correct: False\n",
            "\n",
            "\n",
            "Season: 1999\n"
          ]
        },
        {
          "output_type": "stream",
          "name": "stderr",
          "text": [
            "/usr/local/lib/python3.10/dist-packages/sklearn/base.py:432: UserWarning: X has feature names, but RandomForestRegressor was fitted without feature names\n",
            "  warnings.warn(\n"
          ]
        },
        {
          "output_type": "stream",
          "name": "stdout",
          "text": [
            "MAE: 0.018072503760393713\n",
            "Predicted top three players in MVP voting with their actual award_share:\n",
            "      season            player pos team_id  award_share was_mvp  is_smote\n",
            "1546    1999       Karl Malone  PF     UTA        0.701    True     False\n",
            "2423    1999  Shaquille O'Neal   C     LAL        0.075   False     False\n",
            "5609    1999   Alonzo Mourning   C     MIA        0.655   False     False\n",
            "Predicted MVP: Karl Malone\n",
            "Predicted Win Share: 0.5767364980049485\n",
            "Was MVP correct: True\n",
            "\n",
            "\n",
            "Season: 2010\n"
          ]
        },
        {
          "output_type": "stream",
          "name": "stderr",
          "text": [
            "/usr/local/lib/python3.10/dist-packages/sklearn/base.py:432: UserWarning: X has feature names, but RandomForestRegressor was fitted without feature names\n",
            "  warnings.warn(\n"
          ]
        },
        {
          "output_type": "stream",
          "name": "stdout",
          "text": [
            "MAE: 0.011896298821916352\n",
            "Predicted top three players in MVP voting with their actual award_share:\n",
            "      season         player pos team_id  award_share was_mvp  is_smote\n",
            "754     2010   LeBron James  SF     CLE        0.980    True     False\n",
            "821     2010   Kevin Durant  SF     OKC        0.495   False     False\n",
            "3767    2010  Dwight Howard   C     ORL        0.389   False     False\n",
            "Predicted MVP: LeBron James\n",
            "Predicted Win Share: 0.9409692332050327\n",
            "Was MVP correct: True\n",
            "\n",
            "\n",
            "Season: 2001\n"
          ]
        },
        {
          "output_type": "stream",
          "name": "stderr",
          "text": [
            "/usr/local/lib/python3.10/dist-packages/sklearn/base.py:432: UserWarning: X has feature names, but RandomForestRegressor was fitted without feature names\n",
            "  warnings.warn(\n"
          ]
        },
        {
          "output_type": "stream",
          "name": "stdout",
          "text": [
            "MAE: 0.016576080392303343\n",
            "Predicted top three players in MVP voting with their actual award_share:\n",
            "      season            player pos team_id  award_share was_mvp  is_smote\n",
            "1287    2001     Allen Iverson  SG     PHI        0.904    True     False\n",
            "3994    2001  Shaquille O'Neal   C     LAL        0.466   False     False\n",
            "5784    2001      Chris Webber  PF     SAC        0.420   False     False\n",
            "Predicted MVP: Allen Iverson\n",
            "Predicted Win Share: 0.664330684804172\n",
            "Was MVP correct: True\n",
            "\n",
            "\n",
            "Season: 2013\n"
          ]
        },
        {
          "output_type": "stream",
          "name": "stderr",
          "text": [
            "/usr/local/lib/python3.10/dist-packages/sklearn/base.py:432: UserWarning: X has feature names, but RandomForestRegressor was fitted without feature names\n",
            "  warnings.warn(\n"
          ]
        },
        {
          "output_type": "stream",
          "name": "stdout",
          "text": [
            "MAE: 0.008997657430681007\n",
            "Predicted top three players in MVP voting with their actual award_share:\n",
            "     season           player pos team_id  award_share was_mvp  is_smote\n",
            "325    2013     LeBron James  PF     MIA        0.998    True     False\n",
            "992    2013     Kevin Durant  SF     OKC        0.632   False     False\n",
            "333    2013  Carmelo Anthony  PF     NYK        0.393   False     False\n",
            "Predicted MVP: LeBron James\n",
            "Predicted Win Share: 0.9177485591928076\n",
            "Was MVP correct: True\n",
            "\n",
            "\n",
            "Season: 2014\n"
          ]
        },
        {
          "output_type": "stream",
          "name": "stderr",
          "text": [
            "/usr/local/lib/python3.10/dist-packages/sklearn/base.py:432: UserWarning: X has feature names, but RandomForestRegressor was fitted without feature names\n",
            "  warnings.warn(\n"
          ]
        },
        {
          "output_type": "stream",
          "name": "stdout",
          "text": [
            "MAE: 0.010739858861631153\n",
            "Predicted top three players in MVP voting with their actual award_share:\n",
            "      season         player pos team_id  award_share was_mvp  is_smote\n",
            "7194    2014   Kevin Durant  SF     OKC        0.986    True     False\n",
            "2567    2014   LeBron James  PF     MIA        0.713   False     False\n",
            "6349    2014  Blake Griffin  PF     LAC        0.347   False     False\n",
            "Predicted MVP: Kevin Durant\n",
            "Predicted Win Share: 0.8220156621444606\n",
            "Was MVP correct: True\n",
            "\n",
            "\n",
            "Season: 2006\n"
          ]
        },
        {
          "output_type": "stream",
          "name": "stderr",
          "text": [
            "/usr/local/lib/python3.10/dist-packages/sklearn/base.py:432: UserWarning: X has feature names, but RandomForestRegressor was fitted without feature names\n",
            "  warnings.warn(\n"
          ]
        },
        {
          "output_type": "stream",
          "name": "stdout",
          "text": [
            "MAE: 0.019655360163056277\n",
            "Predicted top three players in MVP voting with their actual award_share:\n",
            "      season         player pos team_id  award_share was_mvp  is_smote\n",
            "6832    2006   LeBron James  SF     CLE        0.550   False     False\n",
            "1438    2006  Dirk Nowitzki  PF     DAL        0.435   False     False\n",
            "3870    2006     Steve Nash  PG     PHO        0.739    True     False\n",
            "Predicted MVP: LeBron James\n",
            "Predicted Win Share: 0.549302956868556\n",
            "Was MVP correct: False\n",
            "\n",
            "\n",
            "Season: 1995\n"
          ]
        },
        {
          "output_type": "stream",
          "name": "stderr",
          "text": [
            "/usr/local/lib/python3.10/dist-packages/sklearn/base.py:432: UserWarning: X has feature names, but RandomForestRegressor was fitted without feature names\n",
            "  warnings.warn(\n"
          ]
        },
        {
          "output_type": "stream",
          "name": "stdout",
          "text": [
            "MAE: 0.007169016447349538\n",
            "Predicted top three players in MVP voting with their actual award_share:\n",
            "      season            player pos team_id  award_share was_mvp  is_smote\n",
            "6624    1995    David Robinson   C     SAS        0.858    True     False\n",
            "7410    1995       Karl Malone  PF     UTA        0.507   False     False\n",
            "4723    1995  Shaquille O'Neal   C     ORL        0.576   False     False\n",
            "Predicted MVP: David Robinson\n",
            "Predicted Win Share: 0.7989567715763363\n",
            "Was MVP correct: True\n",
            "\n",
            "\n",
            "Season: 1986\n"
          ]
        },
        {
          "output_type": "stream",
          "name": "stderr",
          "text": [
            "/usr/local/lib/python3.10/dist-packages/sklearn/base.py:432: UserWarning: X has feature names, but RandomForestRegressor was fitted without feature names\n",
            "  warnings.warn(\n"
          ]
        },
        {
          "output_type": "stream",
          "name": "stdout",
          "text": [
            "MAE: 0.011305023255355855\n",
            "Predicted top three players in MVP voting with their actual award_share:\n",
            "      season             player pos team_id  award_share was_mvp  is_smote\n",
            "7037    1986         Larry Bird  SF     BOS        0.981    True     False\n",
            "164     1986      Magic Johnson  PG     LAL        0.263   False     False\n",
            "7266    1986  Dominique Wilkins  SF     ATL        0.522   False     False\n",
            "Predicted MVP: Larry Bird\n",
            "Predicted Win Share: 0.7351506312077912\n",
            "Was MVP correct: True\n",
            "\n",
            "\n",
            "Season: 1984\n"
          ]
        },
        {
          "output_type": "stream",
          "name": "stderr",
          "text": [
            "/usr/local/lib/python3.10/dist-packages/sklearn/base.py:432: UserWarning: X has feature names, but RandomForestRegressor was fitted without feature names\n",
            "  warnings.warn(\n"
          ]
        },
        {
          "output_type": "stream",
          "name": "stdout",
          "text": [
            "MAE: 0.0151884255184319\n",
            "Predicted top three players in MVP voting with their actual award_share:\n",
            "      season         player pos team_id  award_share was_mvp  is_smote\n",
            "3022    1984     Larry Bird  PF     BOS        0.858    True     False\n",
            "2636    1984  Magic Johnson  PG     LAL        0.401   False     False\n",
            "159     1984   Bernard King  SF     NYK        0.491   False     False\n",
            "Predicted MVP: Larry Bird\n",
            "Predicted Win Share: 0.5398445648178907\n",
            "Was MVP correct: True\n",
            "\n",
            "\n",
            "Season: 1985\n"
          ]
        },
        {
          "output_type": "stream",
          "name": "stderr",
          "text": [
            "/usr/local/lib/python3.10/dist-packages/sklearn/base.py:432: UserWarning: X has feature names, but RandomForestRegressor was fitted without feature names\n",
            "  warnings.warn(\n"
          ]
        },
        {
          "output_type": "stream",
          "name": "stdout",
          "text": [
            "MAE: 0.00846657116668885\n",
            "Predicted top three players in MVP voting with their actual award_share:\n",
            "      season          player pos team_id  award_share was_mvp  is_smote\n",
            "1752    1985      Larry Bird  SF     BOS        0.978    True     False\n",
            "3612    1985   Magic Johnson  PG     LAL        0.338   False     False\n",
            "1443    1985  Michael Jordan  SG     CHI        0.172   False     False\n",
            "Predicted MVP: Larry Bird\n",
            "Predicted Win Share: 0.7648189483715062\n",
            "Was MVP correct: True\n",
            "\n",
            "\n",
            "Season: 2018\n"
          ]
        },
        {
          "output_type": "stream",
          "name": "stderr",
          "text": [
            "/usr/local/lib/python3.10/dist-packages/sklearn/base.py:432: UserWarning: X has feature names, but RandomForestRegressor was fitted without feature names\n",
            "  warnings.warn(\n"
          ]
        },
        {
          "output_type": "stream",
          "name": "stdout",
          "text": [
            "MAE: 0.016604529492542573\n",
            "Predicted top three players in MVP voting with their actual award_share:\n",
            "      season         player pos team_id  award_share was_mvp  is_smote\n",
            "1052    2018   James Harden  SG     HOU        0.955    True     False\n",
            "2049    2018   LeBron James  PF     CLE        0.731   False     False\n",
            "2011    2018  Anthony Davis  PF     NOP        0.441   False     False\n",
            "Predicted MVP: James Harden\n",
            "Predicted Win Share: 0.7004870513592\n",
            "Was MVP correct: True\n",
            "\n",
            "\n",
            "Season: 2021\n"
          ]
        },
        {
          "output_type": "stream",
          "name": "stderr",
          "text": [
            "/usr/local/lib/python3.10/dist-packages/sklearn/base.py:432: UserWarning: X has feature names, but RandomForestRegressor was fitted without feature names\n",
            "  warnings.warn(\n"
          ]
        },
        {
          "output_type": "stream",
          "name": "stdout",
          "text": [
            "MAE: 0.014004815447282711\n",
            "Predicted top three players in MVP voting with their actual award_share:\n",
            "      season                 player pos team_id  award_share was_mvp  is_smote\n",
            "3745    2021           Nikola Jokić   C     DEN        0.961    True     False\n",
            "4438    2021          Stephen Curry  PG     GSW        0.449   False     False\n",
            "4264    2021  Giannis Antetokounmpo  PF     MIL        0.345   False     False\n",
            "Predicted MVP: Nikola Jokić\n",
            "Predicted Win Share: 0.9373274797780012\n",
            "Was MVP correct: True\n",
            "\n",
            "\n",
            "Season: 2003\n"
          ]
        },
        {
          "output_type": "stream",
          "name": "stderr",
          "text": [
            "/usr/local/lib/python3.10/dist-packages/sklearn/base.py:432: UserWarning: X has feature names, but RandomForestRegressor was fitted without feature names\n",
            "  warnings.warn(\n"
          ]
        },
        {
          "output_type": "stream",
          "name": "stdout",
          "text": [
            "MAE: 0.015134840122283492\n",
            "Predicted top three players in MVP voting with their actual award_share:\n",
            "      season         player pos team_id  award_share was_mvp  is_smote\n",
            "5016    2003     Tim Duncan  PF     SAS        0.808    True     False\n",
            "3581    2003  Tracy McGrady  SG     ORL        0.359   False     False\n",
            "6513    2003    Kobe Bryant  SG     LAL        0.417   False     False\n",
            "Predicted MVP: Tim Duncan\n",
            "Predicted Win Share: 0.7750838388743201\n",
            "Was MVP correct: True\n",
            "\n",
            "\n",
            "Season: 2007\n"
          ]
        },
        {
          "output_type": "stream",
          "name": "stderr",
          "text": [
            "/usr/local/lib/python3.10/dist-packages/sklearn/base.py:432: UserWarning: X has feature names, but RandomForestRegressor was fitted without feature names\n",
            "  warnings.warn(\n"
          ]
        },
        {
          "output_type": "stream",
          "name": "stdout",
          "text": [
            "MAE: 0.016608091104203165\n",
            "Predicted top three players in MVP voting with their actual award_share:\n",
            "      season         player pos team_id  award_share was_mvp  is_smote\n",
            "7493    2007     Steve Nash  PG     PHO        0.785   False     False\n",
            "2510    2007  Dirk Nowitzki  PF     DAL        0.882    True     False\n",
            "1699    2007   LeBron James  SF     CLE        0.142   False     False\n",
            "Predicted MVP: Steve Nash\n",
            "Predicted Win Share: 0.6041531101584955\n",
            "Was MVP correct: False\n",
            "\n",
            "\n",
            "Season: 1998\n"
          ]
        },
        {
          "output_type": "stream",
          "name": "stderr",
          "text": [
            "/usr/local/lib/python3.10/dist-packages/sklearn/base.py:432: UserWarning: X has feature names, but RandomForestRegressor was fitted without feature names\n",
            "  warnings.warn(\n"
          ]
        },
        {
          "output_type": "stream",
          "name": "stdout",
          "text": [
            "MAE: 0.010172791933117115\n",
            "Predicted top three players in MVP voting with their actual award_share:\n",
            "      season          player pos team_id  award_share was_mvp  is_smote\n",
            "5222    1998  Michael Jordan  SG     CHI        0.934    True     False\n",
            "4999    1998     Karl Malone  PF     UTA        0.726   False     False\n",
            "7299    1998  David Robinson   C     SAS        0.031   False     False\n",
            "Predicted MVP: Michael Jordan\n",
            "Predicted Win Share: 0.7251134400227398\n",
            "Was MVP correct: True\n",
            "\n",
            "\n",
            "Season: 1994\n"
          ]
        },
        {
          "output_type": "stream",
          "name": "stderr",
          "text": [
            "/usr/local/lib/python3.10/dist-packages/sklearn/base.py:432: UserWarning: X has feature names, but RandomForestRegressor was fitted without feature names\n",
            "  warnings.warn(\n"
          ]
        },
        {
          "output_type": "stream",
          "name": "stdout",
          "text": [
            "MAE: 0.011181256786849234\n",
            "Predicted top three players in MVP voting with their actual award_share:\n",
            "      season           player pos team_id  award_share was_mvp  is_smote\n",
            "5546    1994   David Robinson   C     SAS        0.723   False     False\n",
            "6315    1994  Hakeem Olajuwon   C     HOU        0.880    True     False\n",
            "4341    1994   Scottie Pippen  SF     CHI        0.386   False     False\n",
            "Predicted MVP: David Robinson\n",
            "Predicted Win Share: 0.7828900000593703\n",
            "Was MVP correct: False\n",
            "\n",
            "\n",
            "Season: 2002\n"
          ]
        },
        {
          "output_type": "stream",
          "name": "stderr",
          "text": [
            "/usr/local/lib/python3.10/dist-packages/sklearn/base.py:432: UserWarning: X has feature names, but RandomForestRegressor was fitted without feature names\n",
            "  warnings.warn(\n"
          ]
        },
        {
          "output_type": "stream",
          "name": "stdout",
          "text": [
            "MAE: 0.017525632516607267\n",
            "Predicted top three players in MVP voting with their actual award_share:\n",
            "      season            player pos team_id  award_share was_mvp  is_smote\n",
            "6925    2002        Tim Duncan  PF     SAS        0.757    True     False\n",
            "7141    2002        Jason Kidd  PG     NJN        0.712   False     False\n",
            "5803    2002  Shaquille O'Neal   C     LAL        0.552   False     False\n",
            "Predicted MVP: Tim Duncan\n",
            "Predicted Win Share: 0.6635580274606219\n",
            "Was MVP correct: True\n",
            "\n",
            "\n",
            "Season: 1990\n"
          ]
        },
        {
          "output_type": "stream",
          "name": "stderr",
          "text": [
            "/usr/local/lib/python3.10/dist-packages/sklearn/base.py:432: UserWarning: X has feature names, but RandomForestRegressor was fitted without feature names\n",
            "  warnings.warn(\n"
          ]
        },
        {
          "output_type": "stream",
          "name": "stdout",
          "text": [
            "MAE: 0.016449122612017624\n",
            "Predicted top three players in MVP voting with their actual award_share:\n",
            "      season           player pos team_id  award_share was_mvp  is_smote\n",
            "7159    1990    Magic Johnson  PG     LAL        0.691    True     False\n",
            "5316    1990   Michael Jordan  SG     CHI        0.613   False     False\n",
            "7259    1990  Charles Barkley  SF     PHI        0.667   False     False\n",
            "Predicted MVP: Magic Johnson\n",
            "Predicted Win Share: 0.7280232581885979\n",
            "Was MVP correct: True\n",
            "\n",
            "\n",
            "Season: 2004\n"
          ]
        },
        {
          "output_type": "stream",
          "name": "stderr",
          "text": [
            "/usr/local/lib/python3.10/dist-packages/sklearn/base.py:432: UserWarning: X has feature names, but RandomForestRegressor was fitted without feature names\n",
            "  warnings.warn(\n"
          ]
        },
        {
          "output_type": "stream",
          "name": "stdout",
          "text": [
            "MAE: 0.016298768716043296\n",
            "Predicted top three players in MVP voting with their actual award_share:\n",
            "      season            player pos team_id  award_share was_mvp  is_smote\n",
            "1761    2004     Kevin Garnett  PF     MIN        0.991    True     False\n",
            "4361    2004        Tim Duncan  PF     SAS        0.582   False     False\n",
            "5437    2004  Shaquille O'Neal   C     LAL        0.145   False     False\n",
            "Predicted MVP: Kevin Garnett\n",
            "Predicted Win Share: 0.8161672624921\n",
            "Was MVP correct: True\n",
            "\n",
            "\n",
            "Season: 2016\n"
          ]
        },
        {
          "output_type": "stream",
          "name": "stderr",
          "text": [
            "/usr/local/lib/python3.10/dist-packages/sklearn/base.py:432: UserWarning: X has feature names, but RandomForestRegressor was fitted without feature names\n",
            "  warnings.warn(\n"
          ]
        },
        {
          "output_type": "stream",
          "name": "stdout",
          "text": [
            "MAE: 0.014749446791138253\n",
            "Predicted top three players in MVP voting with their actual award_share:\n",
            "      season         player pos team_id  award_share was_mvp  is_smote\n",
            "852     2016  Stephen Curry  PG     GSW        1.000    True     False\n",
            "3322    2016   LeBron James  SF     CLE        0.482   False     False\n",
            "6676    2016   Kevin Durant  SF     OKC        0.112   False     False\n",
            "Predicted MVP: Stephen Curry\n",
            "Predicted Win Share: 0.7016725535051629\n",
            "Was MVP correct: True\n",
            "\n",
            "\n",
            "Season: 2020\n"
          ]
        },
        {
          "output_type": "stream",
          "name": "stderr",
          "text": [
            "/usr/local/lib/python3.10/dist-packages/sklearn/base.py:432: UserWarning: X has feature names, but RandomForestRegressor was fitted without feature names\n",
            "  warnings.warn(\n"
          ]
        },
        {
          "output_type": "stream",
          "name": "stdout",
          "text": [
            "MAE: 0.013431016303269858\n",
            "Predicted top three players in MVP voting with their actual award_share:\n",
            "      season                 player pos team_id  award_share was_mvp  is_smote\n",
            "3813    2020           LeBron James  PG     LAL        0.746   False     False\n",
            "5666    2020           James Harden  SG     HOU        0.363   False     False\n",
            "3574    2020  Giannis Antetokounmpo  PF     MIL        0.952    True     False\n",
            "Predicted MVP: LeBron James\n",
            "Predicted Win Share: 0.6761974888040606\n",
            "Was MVP correct: False\n",
            "\n",
            "\n",
            "Season: 1982\n"
          ]
        },
        {
          "output_type": "stream",
          "name": "stderr",
          "text": [
            "/usr/local/lib/python3.10/dist-packages/sklearn/base.py:432: UserWarning: X has feature names, but RandomForestRegressor was fitted without feature names\n",
            "  warnings.warn(\n"
          ]
        },
        {
          "output_type": "stream",
          "name": "stdout",
          "text": [
            "MAE: 0.015813573058018636\n",
            "Predicted top three players in MVP voting with their actual award_share:\n",
            "      season         player pos team_id  award_share was_mvp  is_smote\n",
            "4810    1982   Moses Malone   C     HOU        0.735    True     False\n",
            "3857    1982  Julius Erving  SF     PHI        0.294   False     False\n",
            "1496    1982     Larry Bird  PF     BOS        0.588   False     False\n",
            "Predicted MVP: Moses Malone\n",
            "Predicted Win Share: 0.4998852932276013\n",
            "Was MVP correct: True\n",
            "\n",
            "\n",
            "Season: 1988\n",
            "MAE: 0.01204153906084643\n",
            "Predicted top three players in MVP voting with their actual award_share:\n",
            "      season          player pos team_id  award_share was_mvp  is_smote\n",
            "5122    1988  Michael Jordan  SG     CHI        0.831    True     False\n",
            "6199    1988      Larry Bird  SF     BOS        0.659   False     False\n",
            "5605    1988   Magic Johnson  PG     LAL        0.635   False     False\n",
            "Predicted MVP: Michael Jordan\n",
            "Predicted Win Share: 0.713899583143713\n",
            "Was MVP correct: True\n"
          ]
        },
        {
          "output_type": "stream",
          "name": "stderr",
          "text": [
            "/usr/local/lib/python3.10/dist-packages/sklearn/base.py:432: UserWarning: X has feature names, but RandomForestRegressor was fitted without feature names\n",
            "  warnings.warn(\n"
          ]
        }
      ]
    },
    {
      "cell_type": "code",
      "source": [
        "print(f\"The Random Forest Model predicted the NBA MVP correctly {sum(validation_scores['was_mvp'])/len(seasons)}% of the time\")\n",
        "print(f\"The Random Forest Model predicted the NBA MVP correctly in the top two {sum(validation_scores['was_top_two'])/len(seasons)}% of the time\")\n",
        "print(f\"The Random Forest Model predicted the NBA MVP correctly in the top three {sum(validation_scores['was_top_three'])/len(seasons)}% of the time\")"
      ],
      "metadata": {
        "id": "u9orfb3pyHoD",
        "colab": {
          "base_uri": "https://localhost:8080/"
        },
        "outputId": "a4cba129-8d84-4934-fdce-25520e2ae107"
      },
      "execution_count": null,
      "outputs": [
        {
          "output_type": "stream",
          "name": "stdout",
          "text": [
            "The Random Forest Model predicted the NBA MVP correctly 0.8% of the time\n",
            "The Random Forest Model predicted the NBA MVP correctly in the top two 0.975% of the time\n",
            "The Random Forest Model predicted the NBA MVP correctly in the top three 0.975% of the time\n"
          ]
        }
      ]
    },
    {
      "cell_type": "markdown",
      "source": [
        "#Random Rorest Model_RandomSampler"
      ],
      "metadata": {
        "id": "vIESz_lzzg2X"
      }
    },
    {
      "cell_type": "markdown",
      "source": [
        "Подбор гиперпараметров с помощью optuna для какого-то одного сезона"
      ],
      "metadata": {
        "id": "iY6IQMqSz3En"
      }
    },
    {
      "cell_type": "code",
      "source": [
        "#подбор гиперпараметров с помощью оптуны\n",
        "import sklearn\n",
        "from sklearn.ensemble import RandomForestRegressor\n",
        "import optuna\n",
        "\n",
        "def object(trial):\n",
        "  seasons = trainInfo.season.unique()\n",
        "#какой-то случайный сезон\n",
        "  season = seasons[-20]\n",
        "  print(\"\\n\")\n",
        "  print(f\"Season: {season}\")\n",
        "  #гиперпараметры\n",
        "  n_est = trial.suggest_int('n_estimators', 2, 20)\n",
        "  max_depth = trial.suggest_int('max_depth', 1, 32, log=True)\n",
        "  min_split = trial.suggest_int('min_split', 2, 10)\n",
        "  min_leaf = trial.suggest_int('min_leaf', 1, 10)\n",
        "  #данные\n",
        "  trainFold = trainData[trainInfo[\"season\"] != season]\n",
        "  trainTarFold = trainTargets[trainInfo[\"season\"] != season]\n",
        "  #модель\n",
        "  regr = RandomForestRegressor()\n",
        "  #return sklearn.model_selection.cross_val_score(regr, trainFold, trainTarFold, n_jobs=-1, cv=3).mean(np.absolute(valPred - valTarFold.to_numpy()[:,0]))\n",
        "  return sklearn.model_selection.cross_val_score(regr, trainFold, trainTarFold, n_jobs=-1, cv=3).mean()\n"
      ],
      "metadata": {
        "id": "D3UFJJue-nuO"
      },
      "execution_count": null,
      "outputs": []
    },
    {
      "cell_type": "code",
      "source": [
        "#search_space = {\"n_estimators\": [2,3,4,5,6,7,8,9,10,11,12,13,14,15,16,17,18,19,20], \"max_depth\": [1,2,3,4,5,6,7,8,9,10,11,12,13,14,15,16,17,18,19,20,21,22,23,24,25,26,27,28,29,30,31,32], \"min_leaf\": [1,2,3,4,5,6,7,8,9,10], \"min_split\": [2,3,4,5,6,7,8,9,10]}\n",
        "#study = optuna.create_study(sampler=optuna.samplers.RandomSampler(search_space), direction='maximize')\n",
        "study = optuna.create_study(sampler=optuna.samplers.RandomSampler(), direction='maximize')\n",
        "study.optimize(object, n_trials=50)\n",
        "\n",
        "trial = study.best_trial\n",
        "\n",
        "print('Accuracy: {}'.format(trial.value))\n",
        "print('Best hyperparametrs: {}'.format(trial.params))"
      ],
      "metadata": {
        "id": "NdybZdFq-nuP",
        "colab": {
          "base_uri": "https://localhost:8080/"
        },
        "outputId": "6eb8f097-a5e1-461a-b406-2896bae08575"
      },
      "execution_count": null,
      "outputs": [
        {
          "output_type": "stream",
          "name": "stderr",
          "text": [
            "\u001b[32m[I 2023-05-15 11:58:59,016]\u001b[0m A new study created in memory with name: no-name-44849367-88f6-4abc-9c31-234b91aba723\u001b[0m\n"
          ]
        },
        {
          "output_type": "stream",
          "name": "stdout",
          "text": [
            "\n",
            "\n",
            "Season: 2013\n"
          ]
        },
        {
          "output_type": "stream",
          "name": "stderr",
          "text": [
            "\u001b[32m[I 2023-05-15 11:59:36,717]\u001b[0m Trial 0 finished with value: 0.8851330777348426 and parameters: {'n_estimators': 6, 'max_depth': 24, 'min_split': 4, 'min_leaf': 6}. Best is trial 0 with value: 0.8851330777348426.\u001b[0m\n"
          ]
        },
        {
          "output_type": "stream",
          "name": "stdout",
          "text": [
            "\n",
            "\n",
            "Season: 2013\n"
          ]
        },
        {
          "output_type": "stream",
          "name": "stderr",
          "text": [
            "\u001b[32m[I 2023-05-15 12:00:15,088]\u001b[0m Trial 1 finished with value: 0.8874645531645613 and parameters: {'n_estimators': 2, 'max_depth': 6, 'min_split': 3, 'min_leaf': 4}. Best is trial 1 with value: 0.8874645531645613.\u001b[0m\n"
          ]
        },
        {
          "output_type": "stream",
          "name": "stdout",
          "text": [
            "\n",
            "\n",
            "Season: 2013\n"
          ]
        },
        {
          "output_type": "stream",
          "name": "stderr",
          "text": [
            "\u001b[32m[I 2023-05-15 12:00:53,329]\u001b[0m Trial 2 finished with value: 0.8843064316946179 and parameters: {'n_estimators': 2, 'max_depth': 20, 'min_split': 8, 'min_leaf': 7}. Best is trial 1 with value: 0.8874645531645613.\u001b[0m\n"
          ]
        },
        {
          "output_type": "stream",
          "name": "stdout",
          "text": [
            "\n",
            "\n",
            "Season: 2013\n"
          ]
        },
        {
          "output_type": "stream",
          "name": "stderr",
          "text": [
            "\u001b[32m[I 2023-05-15 12:01:30,103]\u001b[0m Trial 3 finished with value: 0.8862608055106236 and parameters: {'n_estimators': 13, 'max_depth': 2, 'min_split': 9, 'min_leaf': 5}. Best is trial 1 with value: 0.8874645531645613.\u001b[0m\n"
          ]
        },
        {
          "output_type": "stream",
          "name": "stdout",
          "text": [
            "\n",
            "\n",
            "Season: 2013\n"
          ]
        },
        {
          "output_type": "stream",
          "name": "stderr",
          "text": [
            "\u001b[32m[I 2023-05-15 12:02:10,074]\u001b[0m Trial 4 finished with value: 0.8843355825504586 and parameters: {'n_estimators': 10, 'max_depth': 1, 'min_split': 6, 'min_leaf': 6}. Best is trial 1 with value: 0.8874645531645613.\u001b[0m\n"
          ]
        },
        {
          "output_type": "stream",
          "name": "stdout",
          "text": [
            "\n",
            "\n",
            "Season: 2013\n"
          ]
        },
        {
          "output_type": "stream",
          "name": "stderr",
          "text": [
            "\u001b[32m[I 2023-05-15 12:02:48,088]\u001b[0m Trial 5 finished with value: 0.8860566682729679 and parameters: {'n_estimators': 9, 'max_depth': 10, 'min_split': 2, 'min_leaf': 8}. Best is trial 1 with value: 0.8874645531645613.\u001b[0m\n"
          ]
        },
        {
          "output_type": "stream",
          "name": "stdout",
          "text": [
            "\n",
            "\n",
            "Season: 2013\n"
          ]
        },
        {
          "output_type": "stream",
          "name": "stderr",
          "text": [
            "\u001b[32m[I 2023-05-15 12:03:26,231]\u001b[0m Trial 6 finished with value: 0.8860890925678824 and parameters: {'n_estimators': 16, 'max_depth': 4, 'min_split': 8, 'min_leaf': 10}. Best is trial 1 with value: 0.8874645531645613.\u001b[0m\n"
          ]
        },
        {
          "output_type": "stream",
          "name": "stdout",
          "text": [
            "\n",
            "\n",
            "Season: 2013\n"
          ]
        },
        {
          "output_type": "stream",
          "name": "stderr",
          "text": [
            "\u001b[32m[I 2023-05-15 12:04:02,969]\u001b[0m Trial 7 finished with value: 0.8861741171372538 and parameters: {'n_estimators': 8, 'max_depth': 18, 'min_split': 3, 'min_leaf': 8}. Best is trial 1 with value: 0.8874645531645613.\u001b[0m\n"
          ]
        },
        {
          "output_type": "stream",
          "name": "stdout",
          "text": [
            "\n",
            "\n",
            "Season: 2013\n"
          ]
        },
        {
          "output_type": "stream",
          "name": "stderr",
          "text": [
            "\u001b[32m[I 2023-05-15 12:04:40,895]\u001b[0m Trial 8 finished with value: 0.8860890504603421 and parameters: {'n_estimators': 7, 'max_depth': 25, 'min_split': 9, 'min_leaf': 5}. Best is trial 1 with value: 0.8874645531645613.\u001b[0m\n"
          ]
        },
        {
          "output_type": "stream",
          "name": "stdout",
          "text": [
            "\n",
            "\n",
            "Season: 2013\n"
          ]
        },
        {
          "output_type": "stream",
          "name": "stderr",
          "text": [
            "\u001b[32m[I 2023-05-15 12:05:19,218]\u001b[0m Trial 9 finished with value: 0.8854702831657543 and parameters: {'n_estimators': 9, 'max_depth': 2, 'min_split': 5, 'min_leaf': 3}. Best is trial 1 with value: 0.8874645531645613.\u001b[0m\n"
          ]
        },
        {
          "output_type": "stream",
          "name": "stdout",
          "text": [
            "\n",
            "\n",
            "Season: 2013\n"
          ]
        },
        {
          "output_type": "stream",
          "name": "stderr",
          "text": [
            "\u001b[32m[I 2023-05-15 12:05:57,324]\u001b[0m Trial 10 finished with value: 0.8846784333574332 and parameters: {'n_estimators': 15, 'max_depth': 4, 'min_split': 3, 'min_leaf': 8}. Best is trial 1 with value: 0.8874645531645613.\u001b[0m\n"
          ]
        },
        {
          "output_type": "stream",
          "name": "stdout",
          "text": [
            "\n",
            "\n",
            "Season: 2013\n"
          ]
        },
        {
          "output_type": "stream",
          "name": "stderr",
          "text": [
            "\u001b[32m[I 2023-05-15 12:06:34,935]\u001b[0m Trial 11 finished with value: 0.8862939072574542 and parameters: {'n_estimators': 14, 'max_depth': 5, 'min_split': 5, 'min_leaf': 8}. Best is trial 1 with value: 0.8874645531645613.\u001b[0m\n"
          ]
        },
        {
          "output_type": "stream",
          "name": "stdout",
          "text": [
            "\n",
            "\n",
            "Season: 2013\n"
          ]
        },
        {
          "output_type": "stream",
          "name": "stderr",
          "text": [
            "\u001b[32m[I 2023-05-15 12:07:12,531]\u001b[0m Trial 12 finished with value: 0.8857610542935447 and parameters: {'n_estimators': 6, 'max_depth': 1, 'min_split': 9, 'min_leaf': 9}. Best is trial 1 with value: 0.8874645531645613.\u001b[0m\n"
          ]
        },
        {
          "output_type": "stream",
          "name": "stdout",
          "text": [
            "\n",
            "\n",
            "Season: 2013\n"
          ]
        },
        {
          "output_type": "stream",
          "name": "stderr",
          "text": [
            "\u001b[32m[I 2023-05-15 12:07:50,710]\u001b[0m Trial 13 finished with value: 0.8860074032250612 and parameters: {'n_estimators': 16, 'max_depth': 1, 'min_split': 5, 'min_leaf': 4}. Best is trial 1 with value: 0.8874645531645613.\u001b[0m\n"
          ]
        },
        {
          "output_type": "stream",
          "name": "stdout",
          "text": [
            "\n",
            "\n",
            "Season: 2013\n"
          ]
        },
        {
          "output_type": "stream",
          "name": "stderr",
          "text": [
            "\u001b[32m[I 2023-05-15 12:08:28,972]\u001b[0m Trial 14 finished with value: 0.8854808803200522 and parameters: {'n_estimators': 18, 'max_depth': 2, 'min_split': 5, 'min_leaf': 4}. Best is trial 1 with value: 0.8874645531645613.\u001b[0m\n"
          ]
        },
        {
          "output_type": "stream",
          "name": "stdout",
          "text": [
            "\n",
            "\n",
            "Season: 2013\n"
          ]
        },
        {
          "output_type": "stream",
          "name": "stderr",
          "text": [
            "\u001b[32m[I 2023-05-15 12:09:05,559]\u001b[0m Trial 15 finished with value: 0.8862583099535136 and parameters: {'n_estimators': 4, 'max_depth': 3, 'min_split': 8, 'min_leaf': 8}. Best is trial 1 with value: 0.8874645531645613.\u001b[0m\n"
          ]
        },
        {
          "output_type": "stream",
          "name": "stdout",
          "text": [
            "\n",
            "\n",
            "Season: 2013\n"
          ]
        },
        {
          "output_type": "stream",
          "name": "stderr",
          "text": [
            "\u001b[32m[I 2023-05-15 12:09:43,599]\u001b[0m Trial 16 finished with value: 0.8880377893037036 and parameters: {'n_estimators': 13, 'max_depth': 19, 'min_split': 2, 'min_leaf': 1}. Best is trial 16 with value: 0.8880377893037036.\u001b[0m\n"
          ]
        },
        {
          "output_type": "stream",
          "name": "stdout",
          "text": [
            "\n",
            "\n",
            "Season: 2013\n"
          ]
        },
        {
          "output_type": "stream",
          "name": "stderr",
          "text": [
            "\u001b[32m[I 2023-05-15 12:10:21,788]\u001b[0m Trial 17 finished with value: 0.8863566226255345 and parameters: {'n_estimators': 12, 'max_depth': 9, 'min_split': 8, 'min_leaf': 1}. Best is trial 16 with value: 0.8880377893037036.\u001b[0m\n"
          ]
        },
        {
          "output_type": "stream",
          "name": "stdout",
          "text": [
            "\n",
            "\n",
            "Season: 2013\n"
          ]
        },
        {
          "output_type": "stream",
          "name": "stderr",
          "text": [
            "\u001b[32m[I 2023-05-15 12:10:59,966]\u001b[0m Trial 18 finished with value: 0.8868888059505409 and parameters: {'n_estimators': 9, 'max_depth': 30, 'min_split': 7, 'min_leaf': 1}. Best is trial 16 with value: 0.8880377893037036.\u001b[0m\n"
          ]
        },
        {
          "output_type": "stream",
          "name": "stdout",
          "text": [
            "\n",
            "\n",
            "Season: 2013\n"
          ]
        },
        {
          "output_type": "stream",
          "name": "stderr",
          "text": [
            "\u001b[32m[I 2023-05-15 12:11:36,652]\u001b[0m Trial 19 finished with value: 0.8865612510366262 and parameters: {'n_estimators': 10, 'max_depth': 9, 'min_split': 6, 'min_leaf': 5}. Best is trial 16 with value: 0.8880377893037036.\u001b[0m\n"
          ]
        },
        {
          "output_type": "stream",
          "name": "stdout",
          "text": [
            "Accuracy: 0.8880377893037036\n",
            "Best hyperparametrs: {'n_estimators': 13, 'max_depth': 19, 'min_split': 2, 'min_leaf': 1}\n"
          ]
        }
      ]
    },
    {
      "cell_type": "code",
      "source": [
        "print(trial.params)"
      ],
      "metadata": {
        "id": "9xuEKJat-nuP",
        "colab": {
          "base_uri": "https://localhost:8080/"
        },
        "outputId": "9b462249-1f45-40f1-b90e-86b96030bb18"
      },
      "execution_count": null,
      "outputs": [
        {
          "output_type": "stream",
          "name": "stdout",
          "text": [
            "{'n_estimators': 13, 'max_depth': 19, 'min_split': 2, 'min_leaf': 1}\n"
          ]
        }
      ]
    },
    {
      "cell_type": "code",
      "source": [
        "#обучение с оптимальными гиперпараметрами\n",
        "from sklearn.ensemble import RandomForestRegressor\n",
        "\n",
        "validation_scores = {\"season\" : [], \"mae\" : [], \"was_mvp\" : [], \"was_top_two\" : [], \"was_top_three\":[], \"info\" : []}\n",
        "seasons = trainInfo.season.unique()\n",
        "#какой-то случайный сезон\n",
        "season = seasons[-20]\n",
        "print(\"\\n\")\n",
        "print(f\"Season: {season}\")\n",
        "\n",
        "trainFold = trainData[trainInfo[\"season\"] != season]\n",
        "trainTarFold = trainTargets[trainInfo[\"season\"] != season]\n",
        "valFold = trainData[(trainInfo[\"season\"] == season) & (~trainInfo[\"is_smote\"])]\n",
        "valTarFold = trainTargets[(trainInfo[\"season\"] == season) & (~trainInfo[\"is_smote\"])]\n",
        "valInfo = trainInfo[(trainInfo[\"season\"] == season) & (~trainInfo[\"is_smote\"])]\n",
        "\n",
        "regr = RandomForestRegressor(n_estimators=trial.params['n_estimators'], max_depth=trial.params['max_depth'],\n",
        "                             min_samples_leaf=trial.params['min_leaf'], min_samples_split=trial.params['min_split'], random_state=0)\n",
        "regr.fit(trainFold.to_numpy(), trainTarFold.to_numpy()[:,0])\n",
        "\n",
        "valPred = regr.predict(valFold)\n",
        "mae = np.mean(np.absolute(valPred - valTarFold.to_numpy()[:,0]))\n",
        "\n",
        "print(f\"MAE: {mae}\")\n",
        "\n",
        "topTwo = valInfo.iloc[np.argsort(valPred)[-2:]]\n",
        "was_top_two = sum(topTwo[\"was_mvp\"]) > 0\n",
        "topThree = valInfo.iloc[np.argsort(valPred)[-3:]]\n",
        "was_top_three = sum(topThree[\"was_mvp\"]) > 0\n",
        "print(\"Predicted top three players in MVP voting with their actual award_share:\")\n",
        "print(topThree.iloc[::-1])\n",
        "\n",
        "\n",
        "mostVotes = np.argmax(valPred)\n",
        "score = np.amax(valPred)\n",
        "was_mvp = valInfo.iloc[[mostVotes]][\"was_mvp\"].values[0]\n",
        "player = valInfo.iloc[[mostVotes]][\"player\"].values[0]\n",
        "print(f\"Predicted MVP: {player}\")\n",
        "print(f\"Predicted Win Share: {score}\")\n",
        "print(f\"Was MVP correct: {was_mvp}\")\n",
        " \n",
        "validation_scores[\"season\"].append(season)\n",
        "validation_scores[\"mae\"].append(mae)\n",
        "validation_scores[\"was_mvp\"].append(was_mvp)\n",
        "validation_scores[\"was_top_two\"].append(was_top_three)\n",
        "validation_scores[\"was_top_three\"].append(was_top_three)\n",
        "validation_scores[\"info\"].append(valInfo.iloc[[mostVotes]])"
      ],
      "metadata": {
        "id": "un-eDioN-nuP",
        "colab": {
          "base_uri": "https://localhost:8080/"
        },
        "outputId": "e02cff82-42b9-436f-d6e6-fab5748cce33"
      },
      "execution_count": null,
      "outputs": [
        {
          "output_type": "stream",
          "name": "stdout",
          "text": [
            "\n",
            "\n",
            "Season: 2013\n",
            "MAE: 0.00916880620117443\n",
            "Predicted top three players in MVP voting with their actual award_share:\n",
            "     season           player pos team_id  award_share was_mvp  is_smote\n",
            "325    2013     LeBron James  PF     MIA        0.998    True     False\n",
            "992    2013     Kevin Durant  SF     OKC        0.632   False     False\n",
            "333    2013  Carmelo Anthony  PF     NYK        0.393   False     False\n",
            "Predicted MVP: LeBron James\n",
            "Predicted Win Share: 0.9217727964061937\n",
            "Was MVP correct: True\n"
          ]
        },
        {
          "output_type": "stream",
          "name": "stderr",
          "text": [
            "/usr/local/lib/python3.10/dist-packages/sklearn/base.py:432: UserWarning: X has feature names, but RandomForestRegressor was fitted without feature names\n",
            "  warnings.warn(\n"
          ]
        }
      ]
    },
    {
      "cell_type": "code",
      "source": [
        "from sklearn.ensemble import RandomForestRegressor\n",
        "\n",
        "validation_scores = {\"season\" : [], \"mae\" : [], \"was_mvp\" : [], \"was_top_two\" : [], \"was_top_three\":[], \"info\" : []}\n",
        "seasons = trainInfo.season.unique()\n",
        "for season in seasons:\n",
        "  print(\"\\n\")\n",
        "  print(f\"Season: {season}\")\n",
        "\n",
        "  trainFold = trainData[trainInfo[\"season\"] != season]\n",
        "  trainTarFold = trainTargets[trainInfo[\"season\"] != season]\n",
        "  valFold = trainData[(trainInfo[\"season\"] == season) & (~trainInfo[\"is_smote\"])]\n",
        "  valTarFold = trainTargets[(trainInfo[\"season\"] == season) & (~trainInfo[\"is_smote\"])]\n",
        "  valInfo = trainInfo[(trainInfo[\"season\"] == season) & (~trainInfo[\"is_smote\"])]\n",
        "\n",
        "  regr = RandomForestRegressor(n_estimators=trial.params['n_estimators'], max_depth=trial.params['max_depth'],\n",
        "                             min_samples_leaf=trial.params['min_leaf'], min_samples_split=trial.params['min_split'], random_state=0)\n",
        "  regr.fit(trainFold.to_numpy(), trainTarFold.to_numpy()[:,0])\n",
        "\n",
        "  valPred = regr.predict(valFold)\n",
        "  mae = np.mean(np.absolute(valPred - valTarFold.to_numpy()[:,0]))\n",
        "\n",
        "  print(f\"MAE: {mae}\")\n",
        "\n",
        "  topTwo = valInfo.iloc[np.argsort(valPred)[-2:]]\n",
        "  was_top_two = sum(topTwo[\"was_mvp\"]) > 0\n",
        "  topThree = valInfo.iloc[np.argsort(valPred)[-3:]]\n",
        "  was_top_three = sum(topThree[\"was_mvp\"]) > 0\n",
        "  print(\"Predicted top three players in MVP voting with their actual award_share:\")\n",
        "  print(topThree.iloc[::-1])\n",
        "\n",
        "\n",
        "  mostVotes = np.argmax(valPred)\n",
        "  score = np.amax(valPred)\n",
        "  was_mvp = valInfo.iloc[[mostVotes]][\"was_mvp\"].values[0]\n",
        "  player = valInfo.iloc[[mostVotes]][\"player\"].values[0]\n",
        "  print(f\"Predicted MVP: {player}\")\n",
        "  print(f\"Predicted Win Share: {score}\")\n",
        "  print(f\"Was MVP correct: {was_mvp}\")\n",
        "  \n",
        "  validation_scores[\"season\"].append(season)\n",
        "  validation_scores[\"mae\"].append(mae)\n",
        "  validation_scores[\"was_mvp\"].append(was_mvp)\n",
        "  validation_scores[\"was_top_two\"].append(was_top_three)\n",
        "  validation_scores[\"was_top_three\"].append(was_top_three)\n",
        "  validation_scores[\"info\"].append(valInfo.iloc[[mostVotes]])"
      ],
      "metadata": {
        "id": "mRoZRcrJ-nuQ",
        "colab": {
          "base_uri": "https://localhost:8080/"
        },
        "outputId": "12ba10f1-9391-4020-97d6-f9edd7eeada5"
      },
      "execution_count": null,
      "outputs": [
        {
          "output_type": "stream",
          "name": "stdout",
          "text": [
            "\n",
            "\n",
            "Season: 2019\n"
          ]
        },
        {
          "output_type": "stream",
          "name": "stderr",
          "text": [
            "/usr/local/lib/python3.10/dist-packages/sklearn/base.py:432: UserWarning: X has feature names, but RandomForestRegressor was fitted without feature names\n",
            "  warnings.warn(\n"
          ]
        },
        {
          "output_type": "stream",
          "name": "stdout",
          "text": [
            "MAE: 0.01323523853205179\n",
            "Predicted top three players in MVP voting with their actual award_share:\n",
            "      season                 player pos team_id  award_share was_mvp  is_smote\n",
            "7305    2019  Giannis Antetokounmpo  PF     MIL        0.932    True     False\n",
            "6715    2019           James Harden  PG     HOU        0.768   False     False\n",
            "6405    2019            Paul George  SF     OKC        0.352   False     False\n",
            "Predicted MVP: Giannis Antetokounmpo\n",
            "Predicted Win Share: 0.7464361419436281\n",
            "Was MVP correct: True\n",
            "\n",
            "\n",
            "Season: 1993\n"
          ]
        },
        {
          "output_type": "stream",
          "name": "stderr",
          "text": [
            "/usr/local/lib/python3.10/dist-packages/sklearn/base.py:432: UserWarning: X has feature names, but RandomForestRegressor was fitted without feature names\n",
            "  warnings.warn(\n"
          ]
        },
        {
          "output_type": "stream",
          "name": "stdout",
          "text": [
            "MAE: 0.010518990674863712\n",
            "Predicted top three players in MVP voting with their actual award_share:\n",
            "      season           player pos team_id  award_share was_mvp  is_smote\n",
            "2919    1993   Michael Jordan  SG     CHI        0.577   False     False\n",
            "6646    1993  Hakeem Olajuwon   C     HOU        0.660   False     False\n",
            "1611    1993  Charles Barkley  PF     PHO        0.852    True     False\n",
            "Predicted MVP: Michael Jordan\n",
            "Predicted Win Share: 0.6338440251293931\n",
            "Was MVP correct: False\n",
            "\n",
            "\n",
            "Season: 1991\n"
          ]
        },
        {
          "output_type": "stream",
          "name": "stderr",
          "text": [
            "/usr/local/lib/python3.10/dist-packages/sklearn/base.py:432: UserWarning: X has feature names, but RandomForestRegressor was fitted without feature names\n",
            "  warnings.warn(\n"
          ]
        },
        {
          "output_type": "stream",
          "name": "stdout",
          "text": [
            "MAE: 0.012787447512536304\n",
            "Predicted top three players in MVP voting with their actual award_share:\n",
            "      season          player pos team_id  award_share was_mvp  is_smote\n",
            "4249    1991  Michael Jordan  SG     CHI        0.928    True     False\n",
            "1116    1991   Magic Johnson  PG     LAL        0.518   False     False\n",
            "7544    1991  David Robinson   C     SAS        0.496   False     False\n",
            "Predicted MVP: Michael Jordan\n",
            "Predicted Win Share: 0.8395256357741265\n",
            "Was MVP correct: True\n",
            "\n",
            "\n",
            "Season: 1996\n"
          ]
        },
        {
          "output_type": "stream",
          "name": "stderr",
          "text": [
            "/usr/local/lib/python3.10/dist-packages/sklearn/base.py:432: UserWarning: X has feature names, but RandomForestRegressor was fitted without feature names\n",
            "  warnings.warn(\n"
          ]
        },
        {
          "output_type": "stream",
          "name": "stdout",
          "text": [
            "MAE: 0.008357840117847402\n",
            "Predicted top three players in MVP voting with their actual award_share:\n",
            "      season             player pos team_id  award_share was_mvp  is_smote\n",
            "7472    1996     Michael Jordan  SG     CHI        0.986    True     False\n",
            "2424    1996     David Robinson   C     SAS        0.508   False     False\n",
            "588     1996  Anfernee Hardaway  PG     ORL        0.319   False     False\n",
            "Predicted MVP: Michael Jordan\n",
            "Predicted Win Share: 0.9072523175586011\n",
            "Was MVP correct: True\n",
            "\n",
            "\n",
            "Season: 1987\n"
          ]
        },
        {
          "output_type": "stream",
          "name": "stderr",
          "text": [
            "/usr/local/lib/python3.10/dist-packages/sklearn/base.py:432: UserWarning: X has feature names, but RandomForestRegressor was fitted without feature names\n",
            "  warnings.warn(\n"
          ]
        },
        {
          "output_type": "stream",
          "name": "stdout",
          "text": [
            "MAE: 0.013308824863360626\n",
            "Predicted top three players in MVP voting with their actual award_share:\n",
            "      season          player pos team_id  award_share was_mvp  is_smote\n",
            "1798    1987   Magic Johnson  PG     LAL        0.940    True     False\n",
            "901     1987      Larry Bird  SF     BOS        0.347   False     False\n",
            "5974    1987  Michael Jordan  SG     CHI        0.576   False     False\n",
            "Predicted MVP: Magic Johnson\n",
            "Predicted Win Share: 0.6487897290475801\n",
            "Was MVP correct: True\n",
            "\n",
            "\n",
            "Season: 2017\n"
          ]
        },
        {
          "output_type": "stream",
          "name": "stderr",
          "text": [
            "/usr/local/lib/python3.10/dist-packages/sklearn/base.py:432: UserWarning: X has feature names, but RandomForestRegressor was fitted without feature names\n",
            "  warnings.warn(\n"
          ]
        },
        {
          "output_type": "stream",
          "name": "stdout",
          "text": [
            "MAE: 0.020514730360070055\n",
            "Predicted top three players in MVP voting with their actual award_share:\n",
            "      season             player pos team_id  award_share was_mvp  is_smote\n",
            "2150    2017  Russell Westbrook  PG     OKC        0.879    True     False\n",
            "2931    2017       James Harden  PG     HOU        0.746   False     False\n",
            "6367    2017      Kawhi Leonard  SF     SAS        0.495   False     False\n",
            "Predicted MVP: Russell Westbrook\n",
            "Predicted Win Share: 0.5965258911588223\n",
            "Was MVP correct: True\n",
            "\n",
            "\n",
            "Season: 2015\n"
          ]
        },
        {
          "output_type": "stream",
          "name": "stderr",
          "text": [
            "/usr/local/lib/python3.10/dist-packages/sklearn/base.py:432: UserWarning: X has feature names, but RandomForestRegressor was fitted without feature names\n",
            "  warnings.warn(\n"
          ]
        },
        {
          "output_type": "stream",
          "name": "stdout",
          "text": [
            "MAE: 0.015777947384585586\n",
            "Predicted top three players in MVP voting with their actual award_share:\n",
            "      season         player pos team_id  award_share was_mvp  is_smote\n",
            "4831    2015  Stephen Curry  PG     GSW        0.922    True     False\n",
            "2446    2015   James Harden  SG     HOU        0.720   False     False\n",
            "1160    2015   LeBron James  SF     CLE        0.425   False     False\n",
            "Predicted MVP: Stephen Curry\n",
            "Predicted Win Share: 0.48906929479023403\n",
            "Was MVP correct: True\n",
            "\n",
            "\n",
            "Season: 2000\n"
          ]
        },
        {
          "output_type": "stream",
          "name": "stderr",
          "text": [
            "/usr/local/lib/python3.10/dist-packages/sklearn/base.py:432: UserWarning: X has feature names, but RandomForestRegressor was fitted without feature names\n",
            "  warnings.warn(\n"
          ]
        },
        {
          "output_type": "stream",
          "name": "stdout",
          "text": [
            "MAE: 0.007387952225810741\n",
            "Predicted top three players in MVP voting with their actual award_share:\n",
            "      season            player pos team_id  award_share was_mvp  is_smote\n",
            "4614    2000  Shaquille O'Neal   C     LAL        0.998    True     False\n",
            "1616    2000       Karl Malone  PF     UTA        0.258   False     False\n",
            "4933    2000     Kevin Garnett  PF     MIN        0.337   False     False\n",
            "Predicted MVP: Shaquille O'Neal\n",
            "Predicted Win Share: 0.9941670277502508\n",
            "Was MVP correct: True\n",
            "\n",
            "\n",
            "Season: 2009\n"
          ]
        },
        {
          "output_type": "stream",
          "name": "stderr",
          "text": [
            "/usr/local/lib/python3.10/dist-packages/sklearn/base.py:432: UserWarning: X has feature names, but RandomForestRegressor was fitted without feature names\n",
            "  warnings.warn(\n"
          ]
        },
        {
          "output_type": "stream",
          "name": "stdout",
          "text": [
            "MAE: 0.009764350253767078\n",
            "Predicted top three players in MVP voting with their actual award_share:\n",
            "      season        player pos team_id  award_share was_mvp  is_smote\n",
            "730     2009  LeBron James  SF     CLE        0.969    True     False\n",
            "2286    2009   Dwyane Wade  SG     MIA        0.562   False     False\n",
            "7417    2009    Chris Paul  PG     NOH        0.159   False     False\n",
            "Predicted MVP: LeBron James\n",
            "Predicted Win Share: 0.9515665970124468\n",
            "Was MVP correct: True\n",
            "\n",
            "\n",
            "Season: 1997\n"
          ]
        },
        {
          "output_type": "stream",
          "name": "stderr",
          "text": [
            "/usr/local/lib/python3.10/dist-packages/sklearn/base.py:432: UserWarning: X has feature names, but RandomForestRegressor was fitted without feature names\n",
            "  warnings.warn(\n"
          ]
        },
        {
          "output_type": "stream",
          "name": "stdout",
          "text": [
            "MAE: 0.012718058861966225\n",
            "Predicted top three players in MVP voting with their actual award_share:\n",
            "      season          player pos team_id  award_share was_mvp  is_smote\n",
            "3820    1997  Michael Jordan  SG     CHI        0.832   False     False\n",
            "1979    1997     Karl Malone  PF     UTA        0.857    True     False\n",
            "5825    1997      Grant Hill  SF     DET        0.327   False     False\n",
            "Predicted MVP: Michael Jordan\n",
            "Predicted Win Share: 0.8404431421270974\n",
            "Was MVP correct: False\n",
            "\n",
            "\n",
            "Season: 2008\n"
          ]
        },
        {
          "output_type": "stream",
          "name": "stderr",
          "text": [
            "/usr/local/lib/python3.10/dist-packages/sklearn/base.py:432: UserWarning: X has feature names, but RandomForestRegressor was fitted without feature names\n",
            "  warnings.warn(\n"
          ]
        },
        {
          "output_type": "stream",
          "name": "stdout",
          "text": [
            "MAE: 0.020203688106390207\n",
            "Predicted top three players in MVP voting with their actual award_share:\n",
            "      season         player pos team_id  award_share was_mvp  is_smote\n",
            "3312    2008   LeBron James  SF     CLE        0.348   False     False\n",
            "130     2008     Chris Paul  PG     NOH        0.710   False     False\n",
            "4070    2008  Kevin Garnett  PF     BOS        0.532   False     False\n",
            "Predicted MVP: LeBron James\n",
            "Predicted Win Share: 0.5992138590842243\n",
            "Was MVP correct: False\n",
            "\n",
            "\n",
            "Season: 2011\n"
          ]
        },
        {
          "output_type": "stream",
          "name": "stderr",
          "text": [
            "/usr/local/lib/python3.10/dist-packages/sklearn/base.py:432: UserWarning: X has feature names, but RandomForestRegressor was fitted without feature names\n",
            "  warnings.warn(\n"
          ]
        },
        {
          "output_type": "stream",
          "name": "stdout",
          "text": [
            "MAE: 0.010212836627748507\n",
            "Predicted top three players in MVP voting with their actual award_share:\n",
            "      season         player pos team_id  award_share was_mvp  is_smote\n",
            "6608    2011   Derrick Rose  PG     CHI        0.977    True     False\n",
            "1950    2011   LeBron James  SF     MIA        0.431   False     False\n",
            "115     2011  Dwight Howard   C     ORL        0.531   False     False\n",
            "Predicted MVP: Derrick Rose\n",
            "Predicted Win Share: 0.887819773122268\n",
            "Was MVP correct: True\n",
            "\n",
            "\n",
            "Season: 2005\n"
          ]
        },
        {
          "output_type": "stream",
          "name": "stderr",
          "text": [
            "/usr/local/lib/python3.10/dist-packages/sklearn/base.py:432: UserWarning: X has feature names, but RandomForestRegressor was fitted without feature names\n",
            "  warnings.warn(\n"
          ]
        },
        {
          "output_type": "stream",
          "name": "stdout",
          "text": [
            "MAE: 0.01788318045575937\n",
            "Predicted top three players in MVP voting with their actual award_share:\n",
            "      season             player pos team_id  award_share was_mvp  is_smote\n",
            "4424    2005         Steve Nash  PG     PHO        0.839    True     False\n",
            "1124    2005  Amar'e Stoudemire   C     PHO        0.032   False     False\n",
            "4019    2005   Shaquille O'Neal   C     MIA        0.813   False     False\n",
            "Predicted MVP: Steve Nash\n",
            "Predicted Win Share: 0.7429883094019609\n",
            "Was MVP correct: True\n",
            "\n",
            "\n",
            "Season: 2012\n"
          ]
        },
        {
          "output_type": "stream",
          "name": "stderr",
          "text": [
            "/usr/local/lib/python3.10/dist-packages/sklearn/base.py:432: UserWarning: X has feature names, but RandomForestRegressor was fitted without feature names\n",
            "  warnings.warn(\n"
          ]
        },
        {
          "output_type": "stream",
          "name": "stdout",
          "text": [
            "MAE: 0.016297822077908666\n",
            "Predicted top three players in MVP voting with their actual award_share:\n",
            "      season        player pos team_id  award_share was_mvp  is_smote\n",
            "7106    2012  LeBron James  SF     MIA        0.888    True     False\n",
            "3028    2012  Kevin Durant  SF     OKC        0.735   False     False\n",
            "5017    2012  Derrick Rose  PG     CHI        0.004   False     False\n",
            "Predicted MVP: LeBron James\n",
            "Predicted Win Share: 0.6218111377549279\n",
            "Was MVP correct: True\n",
            "\n",
            "\n",
            "Season: 1983\n"
          ]
        },
        {
          "output_type": "stream",
          "name": "stderr",
          "text": [
            "/usr/local/lib/python3.10/dist-packages/sklearn/base.py:432: UserWarning: X has feature names, but RandomForestRegressor was fitted without feature names\n",
            "  warnings.warn(\n"
          ]
        },
        {
          "output_type": "stream",
          "name": "stdout",
          "text": [
            "MAE: 0.012902532881950726\n",
            "Predicted top three players in MVP voting with their actual award_share:\n",
            "      season         player pos team_id  award_share was_mvp  is_smote\n",
            "224     1983   Moses Malone   C     PHI        0.960    True     False\n",
            "7221    1983     Larry Bird  PF     BOS        0.485   False     False\n",
            "2457    1983  Magic Johnson  SG     LAL        0.406   False     False\n",
            "Predicted MVP: Moses Malone\n",
            "Predicted Win Share: 0.746110682188658\n",
            "Was MVP correct: True\n",
            "\n",
            "\n",
            "Season: 1992\n"
          ]
        },
        {
          "output_type": "stream",
          "name": "stderr",
          "text": [
            "/usr/local/lib/python3.10/dist-packages/sklearn/base.py:432: UserWarning: X has feature names, but RandomForestRegressor was fitted without feature names\n",
            "  warnings.warn(\n"
          ]
        },
        {
          "output_type": "stream",
          "name": "stdout",
          "text": [
            "MAE: 0.009884394589181965\n",
            "Predicted top three players in MVP voting with their actual award_share:\n",
            "      season          player pos team_id  award_share was_mvp  is_smote\n",
            "897     1992  Michael Jordan  SG     CHI        0.938    True     False\n",
            "458     1992   Clyde Drexler  SG     POR        0.584   False     False\n",
            "4840    1992  David Robinson   C     SAS        0.351   False     False\n",
            "Predicted MVP: Michael Jordan\n",
            "Predicted Win Share: 0.8112343800631696\n",
            "Was MVP correct: True\n",
            "\n",
            "\n",
            "Season: 1989\n"
          ]
        },
        {
          "output_type": "stream",
          "name": "stderr",
          "text": [
            "/usr/local/lib/python3.10/dist-packages/sklearn/base.py:432: UserWarning: X has feature names, but RandomForestRegressor was fitted without feature names\n",
            "  warnings.warn(\n"
          ]
        },
        {
          "output_type": "stream",
          "name": "stdout",
          "text": [
            "MAE: 0.01207609959786677\n",
            "Predicted top three players in MVP voting with their actual award_share:\n",
            "      season          player pos team_id  award_share was_mvp  is_smote\n",
            "411     1989  Michael Jordan  SG     CHI        0.704   False     False\n",
            "3225    1989   Magic Johnson  PG     LAL        0.782    True     False\n",
            "7675    1989     Karl Malone  PF     UTA        0.426   False     False\n",
            "Predicted MVP: Michael Jordan\n",
            "Predicted Win Share: 0.7286571742095753\n",
            "Was MVP correct: False\n",
            "\n",
            "\n",
            "Season: 1999\n"
          ]
        },
        {
          "output_type": "stream",
          "name": "stderr",
          "text": [
            "/usr/local/lib/python3.10/dist-packages/sklearn/base.py:432: UserWarning: X has feature names, but RandomForestRegressor was fitted without feature names\n",
            "  warnings.warn(\n"
          ]
        },
        {
          "output_type": "stream",
          "name": "stdout",
          "text": [
            "MAE: 0.01718683085105565\n",
            "Predicted top three players in MVP voting with their actual award_share:\n",
            "      season            player pos team_id  award_share was_mvp  is_smote\n",
            "1546    1999       Karl Malone  PF     UTA        0.701    True     False\n",
            "2423    1999  Shaquille O'Neal   C     LAL        0.075   False     False\n",
            "5609    1999   Alonzo Mourning   C     MIA        0.655   False     False\n",
            "Predicted MVP: Karl Malone\n",
            "Predicted Win Share: 0.6099756584879757\n",
            "Was MVP correct: True\n",
            "\n",
            "\n",
            "Season: 2010\n"
          ]
        },
        {
          "output_type": "stream",
          "name": "stderr",
          "text": [
            "/usr/local/lib/python3.10/dist-packages/sklearn/base.py:432: UserWarning: X has feature names, but RandomForestRegressor was fitted without feature names\n",
            "  warnings.warn(\n"
          ]
        },
        {
          "output_type": "stream",
          "name": "stdout",
          "text": [
            "MAE: 0.012528617741568283\n",
            "Predicted top three players in MVP voting with their actual award_share:\n",
            "      season         player pos team_id  award_share was_mvp  is_smote\n",
            "754     2010   LeBron James  SF     CLE        0.980    True     False\n",
            "821     2010   Kevin Durant  SF     OKC        0.495   False     False\n",
            "3767    2010  Dwight Howard   C     ORL        0.389   False     False\n",
            "Predicted MVP: LeBron James\n",
            "Predicted Win Share: 0.9383685897588848\n",
            "Was MVP correct: True\n",
            "\n",
            "\n",
            "Season: 2001\n"
          ]
        },
        {
          "output_type": "stream",
          "name": "stderr",
          "text": [
            "/usr/local/lib/python3.10/dist-packages/sklearn/base.py:432: UserWarning: X has feature names, but RandomForestRegressor was fitted without feature names\n",
            "  warnings.warn(\n"
          ]
        },
        {
          "output_type": "stream",
          "name": "stdout",
          "text": [
            "MAE: 0.016377478084526803\n",
            "Predicted top three players in MVP voting with their actual award_share:\n",
            "      season            player pos team_id  award_share was_mvp  is_smote\n",
            "1287    2001     Allen Iverson  SG     PHI        0.904    True     False\n",
            "3994    2001  Shaquille O'Neal   C     LAL        0.466   False     False\n",
            "5784    2001      Chris Webber  PF     SAC        0.420   False     False\n",
            "Predicted MVP: Allen Iverson\n",
            "Predicted Win Share: 0.7013420914026861\n",
            "Was MVP correct: True\n",
            "\n",
            "\n",
            "Season: 2013\n"
          ]
        },
        {
          "output_type": "stream",
          "name": "stderr",
          "text": [
            "/usr/local/lib/python3.10/dist-packages/sklearn/base.py:432: UserWarning: X has feature names, but RandomForestRegressor was fitted without feature names\n",
            "  warnings.warn(\n"
          ]
        },
        {
          "output_type": "stream",
          "name": "stdout",
          "text": [
            "MAE: 0.00916880620117443\n",
            "Predicted top three players in MVP voting with their actual award_share:\n",
            "     season           player pos team_id  award_share was_mvp  is_smote\n",
            "325    2013     LeBron James  PF     MIA        0.998    True     False\n",
            "992    2013     Kevin Durant  SF     OKC        0.632   False     False\n",
            "333    2013  Carmelo Anthony  PF     NYK        0.393   False     False\n",
            "Predicted MVP: LeBron James\n",
            "Predicted Win Share: 0.9217727964061937\n",
            "Was MVP correct: True\n",
            "\n",
            "\n",
            "Season: 2014\n"
          ]
        },
        {
          "output_type": "stream",
          "name": "stderr",
          "text": [
            "/usr/local/lib/python3.10/dist-packages/sklearn/base.py:432: UserWarning: X has feature names, but RandomForestRegressor was fitted without feature names\n",
            "  warnings.warn(\n"
          ]
        },
        {
          "output_type": "stream",
          "name": "stdout",
          "text": [
            "MAE: 0.010586699515192885\n",
            "Predicted top three players in MVP voting with their actual award_share:\n",
            "      season         player pos team_id  award_share was_mvp  is_smote\n",
            "7194    2014   Kevin Durant  SF     OKC        0.986    True     False\n",
            "2567    2014   LeBron James  PF     MIA        0.713   False     False\n",
            "6349    2014  Blake Griffin  PF     LAC        0.347   False     False\n",
            "Predicted MVP: Kevin Durant\n",
            "Predicted Win Share: 0.8414806809745501\n",
            "Was MVP correct: True\n",
            "\n",
            "\n",
            "Season: 2006\n"
          ]
        },
        {
          "output_type": "stream",
          "name": "stderr",
          "text": [
            "/usr/local/lib/python3.10/dist-packages/sklearn/base.py:432: UserWarning: X has feature names, but RandomForestRegressor was fitted without feature names\n",
            "  warnings.warn(\n"
          ]
        },
        {
          "output_type": "stream",
          "name": "stdout",
          "text": [
            "MAE: 0.019341776125185797\n",
            "Predicted top three players in MVP voting with their actual award_share:\n",
            "      season         player pos team_id  award_share was_mvp  is_smote\n",
            "6832    2006   LeBron James  SF     CLE        0.550   False     False\n",
            "1438    2006  Dirk Nowitzki  PF     DAL        0.435   False     False\n",
            "1189    2006    Kobe Bryant  SG     LAL        0.386   False     False\n",
            "Predicted MVP: LeBron James\n",
            "Predicted Win Share: 0.5554361218071538\n",
            "Was MVP correct: False\n",
            "\n",
            "\n",
            "Season: 1995\n"
          ]
        },
        {
          "output_type": "stream",
          "name": "stderr",
          "text": [
            "/usr/local/lib/python3.10/dist-packages/sklearn/base.py:432: UserWarning: X has feature names, but RandomForestRegressor was fitted without feature names\n",
            "  warnings.warn(\n"
          ]
        },
        {
          "output_type": "stream",
          "name": "stdout",
          "text": [
            "MAE: 0.007680457199902596\n",
            "Predicted top three players in MVP voting with their actual award_share:\n",
            "      season            player pos team_id  award_share was_mvp  is_smote\n",
            "6624    1995    David Robinson   C     SAS        0.858    True     False\n",
            "4723    1995  Shaquille O'Neal   C     ORL        0.576   False     False\n",
            "7410    1995       Karl Malone  PF     UTA        0.507   False     False\n",
            "Predicted MVP: David Robinson\n",
            "Predicted Win Share: 0.8050792849329506\n",
            "Was MVP correct: True\n",
            "\n",
            "\n",
            "Season: 1986\n"
          ]
        },
        {
          "output_type": "stream",
          "name": "stderr",
          "text": [
            "/usr/local/lib/python3.10/dist-packages/sklearn/base.py:432: UserWarning: X has feature names, but RandomForestRegressor was fitted without feature names\n",
            "  warnings.warn(\n"
          ]
        },
        {
          "output_type": "stream",
          "name": "stdout",
          "text": [
            "MAE: 0.012061970836370148\n",
            "Predicted top three players in MVP voting with their actual award_share:\n",
            "      season             player pos team_id  award_share was_mvp  is_smote\n",
            "7037    1986         Larry Bird  SF     BOS        0.981    True     False\n",
            "164     1986      Magic Johnson  PG     LAL        0.263   False     False\n",
            "7266    1986  Dominique Wilkins  SF     ATL        0.522   False     False\n",
            "Predicted MVP: Larry Bird\n",
            "Predicted Win Share: 0.6625070593254059\n",
            "Was MVP correct: True\n",
            "\n",
            "\n",
            "Season: 1984\n"
          ]
        },
        {
          "output_type": "stream",
          "name": "stderr",
          "text": [
            "/usr/local/lib/python3.10/dist-packages/sklearn/base.py:432: UserWarning: X has feature names, but RandomForestRegressor was fitted without feature names\n",
            "  warnings.warn(\n"
          ]
        },
        {
          "output_type": "stream",
          "name": "stdout",
          "text": [
            "MAE: 0.014882754142971837\n",
            "Predicted top three players in MVP voting with their actual award_share:\n",
            "      season         player pos team_id  award_share was_mvp  is_smote\n",
            "3022    1984     Larry Bird  PF     BOS        0.858    True     False\n",
            "2636    1984  Magic Johnson  PG     LAL        0.401   False     False\n",
            "159     1984   Bernard King  SF     NYK        0.491   False     False\n",
            "Predicted MVP: Larry Bird\n",
            "Predicted Win Share: 0.5530984831157669\n",
            "Was MVP correct: True\n",
            "\n",
            "\n",
            "Season: 1985\n"
          ]
        },
        {
          "output_type": "stream",
          "name": "stderr",
          "text": [
            "/usr/local/lib/python3.10/dist-packages/sklearn/base.py:432: UserWarning: X has feature names, but RandomForestRegressor was fitted without feature names\n",
            "  warnings.warn(\n"
          ]
        },
        {
          "output_type": "stream",
          "name": "stdout",
          "text": [
            "MAE: 0.008473647647006753\n",
            "Predicted top three players in MVP voting with their actual award_share:\n",
            "      season          player pos team_id  award_share was_mvp  is_smote\n",
            "1752    1985      Larry Bird  SF     BOS        0.978    True     False\n",
            "3612    1985   Magic Johnson  PG     LAL        0.338   False     False\n",
            "1443    1985  Michael Jordan  SG     CHI        0.172   False     False\n",
            "Predicted MVP: Larry Bird\n",
            "Predicted Win Share: 0.7214935713385432\n",
            "Was MVP correct: True\n",
            "\n",
            "\n",
            "Season: 2018\n"
          ]
        },
        {
          "output_type": "stream",
          "name": "stderr",
          "text": [
            "/usr/local/lib/python3.10/dist-packages/sklearn/base.py:432: UserWarning: X has feature names, but RandomForestRegressor was fitted without feature names\n",
            "  warnings.warn(\n"
          ]
        },
        {
          "output_type": "stream",
          "name": "stdout",
          "text": [
            "MAE: 0.015902291388177357\n",
            "Predicted top three players in MVP voting with their actual award_share:\n",
            "      season         player pos team_id  award_share was_mvp  is_smote\n",
            "1052    2018   James Harden  SG     HOU        0.955    True     False\n",
            "2049    2018   LeBron James  PF     CLE        0.731   False     False\n",
            "2011    2018  Anthony Davis  PF     NOP        0.441   False     False\n",
            "Predicted MVP: James Harden\n",
            "Predicted Win Share: 0.6842218894984076\n",
            "Was MVP correct: True\n",
            "\n",
            "\n",
            "Season: 2021\n"
          ]
        },
        {
          "output_type": "stream",
          "name": "stderr",
          "text": [
            "/usr/local/lib/python3.10/dist-packages/sklearn/base.py:432: UserWarning: X has feature names, but RandomForestRegressor was fitted without feature names\n",
            "  warnings.warn(\n"
          ]
        },
        {
          "output_type": "stream",
          "name": "stdout",
          "text": [
            "MAE: 0.013760001959806282\n",
            "Predicted top three players in MVP voting with their actual award_share:\n",
            "      season                 player pos team_id  award_share was_mvp  is_smote\n",
            "3745    2021           Nikola Jokić   C     DEN        0.961    True     False\n",
            "4438    2021          Stephen Curry  PG     GSW        0.449   False     False\n",
            "4264    2021  Giannis Antetokounmpo  PF     MIL        0.345   False     False\n",
            "Predicted MVP: Nikola Jokić\n",
            "Predicted Win Share: 0.9373806594664055\n",
            "Was MVP correct: True\n",
            "\n",
            "\n",
            "Season: 2003\n"
          ]
        },
        {
          "output_type": "stream",
          "name": "stderr",
          "text": [
            "/usr/local/lib/python3.10/dist-packages/sklearn/base.py:432: UserWarning: X has feature names, but RandomForestRegressor was fitted without feature names\n",
            "  warnings.warn(\n"
          ]
        },
        {
          "output_type": "stream",
          "name": "stdout",
          "text": [
            "MAE: 0.015003938179219132\n",
            "Predicted top three players in MVP voting with their actual award_share:\n",
            "      season         player pos team_id  award_share was_mvp  is_smote\n",
            "5016    2003     Tim Duncan  PF     SAS        0.808    True     False\n",
            "3581    2003  Tracy McGrady  SG     ORL        0.359   False     False\n",
            "6513    2003    Kobe Bryant  SG     LAL        0.417   False     False\n",
            "Predicted MVP: Tim Duncan\n",
            "Predicted Win Share: 0.7672171116668591\n",
            "Was MVP correct: True\n",
            "\n",
            "\n",
            "Season: 2007\n"
          ]
        },
        {
          "output_type": "stream",
          "name": "stderr",
          "text": [
            "/usr/local/lib/python3.10/dist-packages/sklearn/base.py:432: UserWarning: X has feature names, but RandomForestRegressor was fitted without feature names\n",
            "  warnings.warn(\n"
          ]
        },
        {
          "output_type": "stream",
          "name": "stdout",
          "text": [
            "MAE: 0.015872681286935884\n",
            "Predicted top three players in MVP voting with their actual award_share:\n",
            "      season         player pos team_id  award_share was_mvp  is_smote\n",
            "2510    2007  Dirk Nowitzki  PF     DAL        0.882    True     False\n",
            "7493    2007     Steve Nash  PG     PHO        0.785   False     False\n",
            "1699    2007   LeBron James  SF     CLE        0.142   False     False\n",
            "Predicted MVP: Dirk Nowitzki\n",
            "Predicted Win Share: 0.5626537784941456\n",
            "Was MVP correct: True\n",
            "\n",
            "\n",
            "Season: 1998\n"
          ]
        },
        {
          "output_type": "stream",
          "name": "stderr",
          "text": [
            "/usr/local/lib/python3.10/dist-packages/sklearn/base.py:432: UserWarning: X has feature names, but RandomForestRegressor was fitted without feature names\n",
            "  warnings.warn(\n"
          ]
        },
        {
          "output_type": "stream",
          "name": "stdout",
          "text": [
            "MAE: 0.010464050940227534\n",
            "Predicted top three players in MVP voting with their actual award_share:\n",
            "      season            player pos team_id  award_share was_mvp  is_smote\n",
            "5222    1998    Michael Jordan  SG     CHI        0.934    True     False\n",
            "4999    1998       Karl Malone  PF     UTA        0.726   False     False\n",
            "339     1998  Shaquille O'Neal   C     LAL        0.268   False     False\n",
            "Predicted MVP: Michael Jordan\n",
            "Predicted Win Share: 0.718191081384427\n",
            "Was MVP correct: True\n",
            "\n",
            "\n",
            "Season: 1994\n"
          ]
        },
        {
          "output_type": "stream",
          "name": "stderr",
          "text": [
            "/usr/local/lib/python3.10/dist-packages/sklearn/base.py:432: UserWarning: X has feature names, but RandomForestRegressor was fitted without feature names\n",
            "  warnings.warn(\n"
          ]
        },
        {
          "output_type": "stream",
          "name": "stdout",
          "text": [
            "MAE: 0.01123207252755822\n",
            "Predicted top three players in MVP voting with their actual award_share:\n",
            "      season           player pos team_id  award_share was_mvp  is_smote\n",
            "5546    1994   David Robinson   C     SAS        0.723   False     False\n",
            "6315    1994  Hakeem Olajuwon   C     HOU        0.880    True     False\n",
            "4341    1994   Scottie Pippen  SF     CHI        0.386   False     False\n",
            "Predicted MVP: David Robinson\n",
            "Predicted Win Share: 0.730023376482129\n",
            "Was MVP correct: False\n",
            "\n",
            "\n",
            "Season: 2002\n"
          ]
        },
        {
          "output_type": "stream",
          "name": "stderr",
          "text": [
            "/usr/local/lib/python3.10/dist-packages/sklearn/base.py:432: UserWarning: X has feature names, but RandomForestRegressor was fitted without feature names\n",
            "  warnings.warn(\n"
          ]
        },
        {
          "output_type": "stream",
          "name": "stdout",
          "text": [
            "MAE: 0.016359285738562036\n",
            "Predicted top three players in MVP voting with their actual award_share:\n",
            "      season            player pos team_id  award_share was_mvp  is_smote\n",
            "6925    2002        Tim Duncan  PF     SAS        0.757    True     False\n",
            "7141    2002        Jason Kidd  PG     NJN        0.712   False     False\n",
            "5803    2002  Shaquille O'Neal   C     LAL        0.552   False     False\n",
            "Predicted MVP: Tim Duncan\n",
            "Predicted Win Share: 0.6420521120779903\n",
            "Was MVP correct: True\n",
            "\n",
            "\n",
            "Season: 1990\n"
          ]
        },
        {
          "output_type": "stream",
          "name": "stderr",
          "text": [
            "/usr/local/lib/python3.10/dist-packages/sklearn/base.py:432: UserWarning: X has feature names, but RandomForestRegressor was fitted without feature names\n",
            "  warnings.warn(\n"
          ]
        },
        {
          "output_type": "stream",
          "name": "stdout",
          "text": [
            "MAE: 0.015956681585721492\n",
            "Predicted top three players in MVP voting with their actual award_share:\n",
            "      season           player pos team_id  award_share was_mvp  is_smote\n",
            "7159    1990    Magic Johnson  PG     LAL        0.691    True     False\n",
            "5316    1990   Michael Jordan  SG     CHI        0.613   False     False\n",
            "7259    1990  Charles Barkley  SF     PHI        0.667   False     False\n",
            "Predicted MVP: Magic Johnson\n",
            "Predicted Win Share: 0.7306270464021889\n",
            "Was MVP correct: True\n",
            "\n",
            "\n",
            "Season: 2004\n"
          ]
        },
        {
          "output_type": "stream",
          "name": "stderr",
          "text": [
            "/usr/local/lib/python3.10/dist-packages/sklearn/base.py:432: UserWarning: X has feature names, but RandomForestRegressor was fitted without feature names\n",
            "  warnings.warn(\n"
          ]
        },
        {
          "output_type": "stream",
          "name": "stdout",
          "text": [
            "MAE: 0.01730487342837556\n",
            "Predicted top three players in MVP voting with their actual award_share:\n",
            "      season            player pos team_id  award_share was_mvp  is_smote\n",
            "1761    2004     Kevin Garnett  PF     MIN        0.991    True     False\n",
            "4361    2004        Tim Duncan  PF     SAS        0.582   False     False\n",
            "5437    2004  Shaquille O'Neal   C     LAL        0.145   False     False\n",
            "Predicted MVP: Kevin Garnett\n",
            "Predicted Win Share: 0.7822500251498424\n",
            "Was MVP correct: True\n",
            "\n",
            "\n",
            "Season: 2016\n"
          ]
        },
        {
          "output_type": "stream",
          "name": "stderr",
          "text": [
            "/usr/local/lib/python3.10/dist-packages/sklearn/base.py:432: UserWarning: X has feature names, but RandomForestRegressor was fitted without feature names\n",
            "  warnings.warn(\n"
          ]
        },
        {
          "output_type": "stream",
          "name": "stdout",
          "text": [
            "MAE: 0.01407378278195665\n",
            "Predicted top three players in MVP voting with their actual award_share:\n",
            "      season         player pos team_id  award_share was_mvp  is_smote\n",
            "852     2016  Stephen Curry  PG     GSW        1.000    True     False\n",
            "3322    2016   LeBron James  SF     CLE        0.482   False     False\n",
            "6676    2016   Kevin Durant  SF     OKC        0.112   False     False\n",
            "Predicted MVP: Stephen Curry\n",
            "Predicted Win Share: 0.7098801434626869\n",
            "Was MVP correct: True\n",
            "\n",
            "\n",
            "Season: 2020\n"
          ]
        },
        {
          "output_type": "stream",
          "name": "stderr",
          "text": [
            "/usr/local/lib/python3.10/dist-packages/sklearn/base.py:432: UserWarning: X has feature names, but RandomForestRegressor was fitted without feature names\n",
            "  warnings.warn(\n"
          ]
        },
        {
          "output_type": "stream",
          "name": "stdout",
          "text": [
            "MAE: 0.012361892563173374\n",
            "Predicted top three players in MVP voting with their actual award_share:\n",
            "      season                 player pos team_id  award_share was_mvp  is_smote\n",
            "3813    2020           LeBron James  PG     LAL        0.746   False     False\n",
            "3574    2020  Giannis Antetokounmpo  PF     MIL        0.952    True     False\n",
            "5666    2020           James Harden  SG     HOU        0.363   False     False\n",
            "Predicted MVP: LeBron James\n",
            "Predicted Win Share: 0.6571689480336125\n",
            "Was MVP correct: False\n",
            "\n",
            "\n",
            "Season: 1982\n"
          ]
        },
        {
          "output_type": "stream",
          "name": "stderr",
          "text": [
            "/usr/local/lib/python3.10/dist-packages/sklearn/base.py:432: UserWarning: X has feature names, but RandomForestRegressor was fitted without feature names\n",
            "  warnings.warn(\n"
          ]
        },
        {
          "output_type": "stream",
          "name": "stdout",
          "text": [
            "MAE: 0.015440374660593174\n",
            "Predicted top three players in MVP voting with their actual award_share:\n",
            "      season         player pos team_id  award_share was_mvp  is_smote\n",
            "4810    1982   Moses Malone   C     HOU        0.735    True     False\n",
            "3857    1982  Julius Erving  SF     PHI        0.294   False     False\n",
            "1496    1982     Larry Bird  PF     BOS        0.588   False     False\n",
            "Predicted MVP: Moses Malone\n",
            "Predicted Win Share: 0.5079940534573689\n",
            "Was MVP correct: True\n",
            "\n",
            "\n",
            "Season: 1988\n",
            "MAE: 0.011456022047906257\n",
            "Predicted top three players in MVP voting with their actual award_share:\n",
            "      season          player pos team_id  award_share was_mvp  is_smote\n",
            "5122    1988  Michael Jordan  SG     CHI        0.831    True     False\n",
            "6199    1988      Larry Bird  SF     BOS        0.659   False     False\n",
            "5605    1988   Magic Johnson  PG     LAL        0.635   False     False\n",
            "Predicted MVP: Michael Jordan\n",
            "Predicted Win Share: 0.74707042376909\n",
            "Was MVP correct: True\n"
          ]
        },
        {
          "output_type": "stream",
          "name": "stderr",
          "text": [
            "/usr/local/lib/python3.10/dist-packages/sklearn/base.py:432: UserWarning: X has feature names, but RandomForestRegressor was fitted without feature names\n",
            "  warnings.warn(\n"
          ]
        }
      ]
    },
    {
      "cell_type": "code",
      "source": [
        "print(f\"The Random Forest Model predicted the NBA MVP correctly {sum(validation_scores['was_mvp'])/len(seasons)}% of the time\")\n",
        "print(f\"The Random Forest Model predicted the NBA MVP correctly in the top two {sum(validation_scores['was_top_two'])/len(seasons)}% of the time\")\n",
        "print(f\"The Random Forest Model predicted the NBA MVP correctly in the top three {sum(validation_scores['was_top_three'])/len(seasons)}% of the time\")"
      ],
      "metadata": {
        "id": "NPHgk8_9-nuQ",
        "colab": {
          "base_uri": "https://localhost:8080/"
        },
        "outputId": "58ed4441-a525-4db6-ff48-ffe7db9d82b8"
      },
      "execution_count": null,
      "outputs": [
        {
          "output_type": "stream",
          "name": "stdout",
          "text": [
            "The Random Forest Model predicted the NBA MVP correctly 0.825% of the time\n",
            "The Random Forest Model predicted the NBA MVP correctly in the top two 0.95% of the time\n",
            "The Random Forest Model predicted the NBA MVP correctly in the top three 0.95% of the time\n"
          ]
        }
      ]
    }
  ]
}